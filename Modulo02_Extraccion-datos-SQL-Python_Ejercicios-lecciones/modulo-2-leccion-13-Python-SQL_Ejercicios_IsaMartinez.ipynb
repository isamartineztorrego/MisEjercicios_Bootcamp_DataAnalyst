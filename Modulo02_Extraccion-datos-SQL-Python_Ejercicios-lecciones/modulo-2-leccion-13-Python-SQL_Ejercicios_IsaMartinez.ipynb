{
 "cells": [
  {
   "cell_type": "markdown",
   "metadata": {},
   "source": [
    "---\n",
    "## Ejercicios:"
   ]
  },
  {
   "cell_type": "markdown",
   "metadata": {},
   "source": [
    "1. Haz las importaciones necesarias para establecer la conxión y trabajar con Pandas.Establece la conexión usando mysql.connector utilizando try/except por si la conexión devuelve un error."
   ]
  },
  {
   "cell_type": "code",
   "execution_count": 1,
   "metadata": {},
   "outputs": [],
   "source": [
    "import mysql.connector\n",
    "from mysql.connector import errorcode\n",
    "import pandas as pd\n",
    "import numpy as np"
   ]
  },
  {
   "cell_type": "code",
   "execution_count": 2,
   "metadata": {},
   "outputs": [],
   "source": [
    "try:\n",
    "  cnx = mysql.connector.connect(user='root', password='AlumnaAdalab', host='127.0.0.1')\n",
    "except mysql.connector.Error as err:\n",
    "  if err.errno == errorcode.ER_ACCESS_DENIED_ERROR:\n",
    "    print(\"Something is wrong with your user name or password\")\n",
    "  elif err.errno == errorcode.ER_BAD_DB_ERROR:\n",
    "    print(\"Database does not exist\")\n",
    "  else:\n",
    "    print(err)\n",
    "else:\n",
    "  cnx.close()"
   ]
  },
  {
   "cell_type": "markdown",
   "metadata": {},
   "source": [
    "2. Crea un nuevo \"schema\" llamado \"alumnas-promo-X\""
   ]
  },
  {
   "cell_type": "code",
   "execution_count": 3,
   "metadata": {},
   "outputs": [
    {
     "name": "stdout",
     "output_type": "stream",
     "text": [
      "CMySQLCursor: CREATE SCHEMA alumnas_promo_h\n"
     ]
    }
   ],
   "source": [
    "cnx = mysql.connector.connect(user='root', password='AlumnaAdalab', host='127.0.0.1')\n",
    "my_cursor=cnx.cursor()\n",
    "try:\n",
    "    my_cursor.execute('CREATE SCHEMA alumnas_promo_h')\n",
    "    print(my_cursor)\n",
    "except mysql.connector.Error as err:\n",
    "    print(err)\n",
    "    print('Error code:', err.errno)\n",
    "    print('SQLSTATE', err.sqlstate)\n",
    "    print('Message', err.msg)"
   ]
  },
  {
   "cell_type": "markdown",
   "metadata": {},
   "source": [
    "3. Crea una tabla con la información de las alumnas de la promo. Debe incluir: id_alumna, nombre, apellidos, ciudad y teléfono."
   ]
  },
  {
   "cell_type": "code",
   "execution_count": 4,
   "metadata": {},
   "outputs": [
    {
     "name": "stdout",
     "output_type": "stream",
     "text": [
      "CMySQLCursor: CREATE TABLE alumnas (id_alumna INTEGER ..\n"
     ]
    }
   ],
   "source": [
    "cnx=mysql.connector.connect(user='root', password='AlumnaAdalab', host='127.0.0.1', database='alumnas_promo_h')\n",
    "my_cursor=cnx.cursor()\n",
    "try:\n",
    "    my_cursor.execute('CREATE TABLE alumnas (id_alumna INTEGER AUTO_INCREMENT PRIMARY KEY, nombre VARCHAR (50), apellidos VARCHAR (75), ciudad VARCHAR (50), telefono VARCHAR (15))')\n",
    "    print(my_cursor)\n",
    "except mysql.connector.Error as err:\n",
    "    print(err)\n",
    "    print('Error code:', err.errno)\n",
    "    print('SQLSTATE', err.sqlstate)\n",
    "    print('Message', err.msg)"
   ]
  },
  {
   "cell_type": "markdown",
   "metadata": {},
   "source": [
    "4. Inserta por lo menos 10 datos en la tabla creada en el ejercicio anterior (pueden ser inventados)."
   ]
  },
  {
   "cell_type": "code",
   "execution_count": 5,
   "metadata": {},
   "outputs": [
    {
     "name": "stdout",
     "output_type": "stream",
     "text": [
      "10 registros insertados\n"
     ]
    }
   ],
   "source": [
    "cnx=mysql.connector.connect(user='root', password='AlumnaAdalab', host='127.0.0.1', database='alumnas_promo_h')\n",
    "my_cursor=cnx.cursor()\n",
    "sentencia='INSERT INTO alumnas (nombre, apellidos, ciudad, telefono) VALUES (%s, %s, %s, %s)'\n",
    "values=[('María', 'Martínez López', 'Vigo', '666111222'),\n",
    "        ('Lucía', 'Rodríguez Estévez', 'A Coruña', '666222333'),\n",
    "        ('Carla', 'López Castelao', 'Pontevedra', '666333444'),\n",
    "        ('Kasia', 'Torres Arriba', 'Vilaboa', '666444555'),\n",
    "        ('Joyce', 'Tapias González', 'Camariñas', '666555666'),\n",
    "        ('Kate', 'Winslet', 'Bath', '666666777'),\n",
    "        ('Alice', 'Gould Almenara', 'Madrid', '666777888'),\n",
    "        ('Lola', 'Bernárdez Balit', 'Corrubedo', '666888999'),\n",
    "        ('Ivanira', 'Silva Montes', 'Vigo', '666999111'),\n",
    "        ('Joanna', 'Blanchet Hataway', 'Lugo', '666123456')]\n",
    "try:\n",
    "    my_cursor.executemany(sentencia, values)\n",
    "    cnx.commit()\n",
    "    print(my_cursor.rowcount, 'registros insertados')\n",
    "except mysql.connector.Error as err:\n",
    "    print(err)\n",
    "    print(\"Error Code:\", err.errno)\n",
    "    print(\"SQLSTATE\", err.sqlstate)\n",
    "    print(\"Message\", err.msg)"
   ]
  },
  {
   "cell_type": "markdown",
   "metadata": {},
   "source": [
    "5. Haz una consulta que devuelva todos los registros de la tabla \"alumnas\" y conviértelo en Dataframe (no te olvides del nombre de las columnas)."
   ]
  },
  {
   "cell_type": "code",
   "execution_count": 6,
   "metadata": {},
   "outputs": [],
   "source": [
    "#insertando los encabezados manualmente\n",
    "cnx=mysql.connector.connect(user='root', password='AlumnaAdalab', host='127.0.0.1', database='alumnas_promo_h')\n",
    "my_cursor=cnx.cursor()\n",
    "my_cursor.execute('SELECT * FROM alumnas')\n",
    "result=my_cursor.fetchall()\n",
    "df_alumnas=pd.DataFrame(result, columns=['ID', 'Nombre', 'Apellidos', 'Ciudad', 'Teléfono'])\n",
    "cnx.close()"
   ]
  },
  {
   "cell_type": "code",
   "execution_count": 7,
   "metadata": {},
   "outputs": [
    {
     "data": {
      "text/html": [
       "<div>\n",
       "<style scoped>\n",
       "    .dataframe tbody tr th:only-of-type {\n",
       "        vertical-align: middle;\n",
       "    }\n",
       "\n",
       "    .dataframe tbody tr th {\n",
       "        vertical-align: top;\n",
       "    }\n",
       "\n",
       "    .dataframe thead th {\n",
       "        text-align: right;\n",
       "    }\n",
       "</style>\n",
       "<table border=\"1\" class=\"dataframe\">\n",
       "  <thead>\n",
       "    <tr style=\"text-align: right;\">\n",
       "      <th></th>\n",
       "      <th>ID</th>\n",
       "      <th>Nombre</th>\n",
       "      <th>Apellidos</th>\n",
       "      <th>Ciudad</th>\n",
       "      <th>Teléfono</th>\n",
       "    </tr>\n",
       "  </thead>\n",
       "  <tbody>\n",
       "    <tr>\n",
       "      <th>0</th>\n",
       "      <td>1</td>\n",
       "      <td>María</td>\n",
       "      <td>Martínez López</td>\n",
       "      <td>Vigo</td>\n",
       "      <td>666111222</td>\n",
       "    </tr>\n",
       "    <tr>\n",
       "      <th>1</th>\n",
       "      <td>2</td>\n",
       "      <td>Lucía</td>\n",
       "      <td>Rodríguez Estévez</td>\n",
       "      <td>A Coruña</td>\n",
       "      <td>666222333</td>\n",
       "    </tr>\n",
       "    <tr>\n",
       "      <th>2</th>\n",
       "      <td>3</td>\n",
       "      <td>Carla</td>\n",
       "      <td>López Castelao</td>\n",
       "      <td>Pontevedra</td>\n",
       "      <td>666333444</td>\n",
       "    </tr>\n",
       "    <tr>\n",
       "      <th>3</th>\n",
       "      <td>4</td>\n",
       "      <td>Kasia</td>\n",
       "      <td>Torres Arriba</td>\n",
       "      <td>Vilaboa</td>\n",
       "      <td>666444555</td>\n",
       "    </tr>\n",
       "    <tr>\n",
       "      <th>4</th>\n",
       "      <td>5</td>\n",
       "      <td>Joyce</td>\n",
       "      <td>Tapias González</td>\n",
       "      <td>Camariñas</td>\n",
       "      <td>666555666</td>\n",
       "    </tr>\n",
       "    <tr>\n",
       "      <th>5</th>\n",
       "      <td>6</td>\n",
       "      <td>Kate</td>\n",
       "      <td>Winslet</td>\n",
       "      <td>Bath</td>\n",
       "      <td>666666777</td>\n",
       "    </tr>\n",
       "    <tr>\n",
       "      <th>6</th>\n",
       "      <td>7</td>\n",
       "      <td>Alice</td>\n",
       "      <td>Gould Almenara</td>\n",
       "      <td>Madrid</td>\n",
       "      <td>666777888</td>\n",
       "    </tr>\n",
       "    <tr>\n",
       "      <th>7</th>\n",
       "      <td>8</td>\n",
       "      <td>Lola</td>\n",
       "      <td>Bernárdez Balit</td>\n",
       "      <td>Corrubedo</td>\n",
       "      <td>666888999</td>\n",
       "    </tr>\n",
       "    <tr>\n",
       "      <th>8</th>\n",
       "      <td>9</td>\n",
       "      <td>Ivanira</td>\n",
       "      <td>Silva Montes</td>\n",
       "      <td>Vigo</td>\n",
       "      <td>666999111</td>\n",
       "    </tr>\n",
       "    <tr>\n",
       "      <th>9</th>\n",
       "      <td>10</td>\n",
       "      <td>Joanna</td>\n",
       "      <td>Blanchet Hataway</td>\n",
       "      <td>Lugo</td>\n",
       "      <td>666123456</td>\n",
       "    </tr>\n",
       "  </tbody>\n",
       "</table>\n",
       "</div>"
      ],
      "text/plain": [
       "   ID   Nombre          Apellidos      Ciudad   Teléfono\n",
       "0   1    María     Martínez López        Vigo  666111222\n",
       "1   2    Lucía  Rodríguez Estévez    A Coruña  666222333\n",
       "2   3    Carla     López Castelao  Pontevedra  666333444\n",
       "3   4    Kasia      Torres Arriba     Vilaboa  666444555\n",
       "4   5    Joyce    Tapias González   Camariñas  666555666\n",
       "5   6     Kate            Winslet        Bath  666666777\n",
       "6   7    Alice     Gould Almenara      Madrid  666777888\n",
       "7   8     Lola    Bernárdez Balit   Corrubedo  666888999\n",
       "8   9  Ivanira       Silva Montes        Vigo  666999111\n",
       "9  10   Joanna   Blanchet Hataway        Lugo  666123456"
      ]
     },
     "execution_count": 7,
     "metadata": {},
     "output_type": "execute_result"
    }
   ],
   "source": [
    "df_alumnas"
   ]
  },
  {
   "cell_type": "code",
   "execution_count": 8,
   "metadata": {},
   "outputs": [
    {
     "name": "stderr",
     "output_type": "stream",
     "text": [
      "C:\\Users\\marti\\AppData\\Local\\Temp\\ipykernel_15280\\186262597.py:5: UserWarning: pandas only supports SQLAlchemy connectable (engine/connection) or database string URI or sqlite3 DBAPI2 connection. Other DBAPI2 objects are not tested. Please consider using SQLAlchemy.\n",
      "  df_alumnas2=pd.read_sql_query(sentencia, cnx)\n"
     ]
    }
   ],
   "source": [
    "#extrayendo la tabla con los encabezados directamente\n",
    "cnx=mysql.connector.connect(user='root', password='AlumnaAdalab', host='127.0.0.1', database='alumnas_promo_h')\n",
    "my_cursor=cnx.cursor()\n",
    "sentencia='SELECT * FROM alumnas'\n",
    "df_alumnas2=pd.read_sql_query(sentencia, cnx)\n",
    "cnx.close()"
   ]
  },
  {
   "cell_type": "code",
   "execution_count": 9,
   "metadata": {},
   "outputs": [
    {
     "data": {
      "text/html": [
       "<div>\n",
       "<style scoped>\n",
       "    .dataframe tbody tr th:only-of-type {\n",
       "        vertical-align: middle;\n",
       "    }\n",
       "\n",
       "    .dataframe tbody tr th {\n",
       "        vertical-align: top;\n",
       "    }\n",
       "\n",
       "    .dataframe thead th {\n",
       "        text-align: right;\n",
       "    }\n",
       "</style>\n",
       "<table border=\"1\" class=\"dataframe\">\n",
       "  <thead>\n",
       "    <tr style=\"text-align: right;\">\n",
       "      <th></th>\n",
       "      <th>id_alumna</th>\n",
       "      <th>nombre</th>\n",
       "      <th>apellidos</th>\n",
       "      <th>ciudad</th>\n",
       "      <th>telefono</th>\n",
       "    </tr>\n",
       "  </thead>\n",
       "  <tbody>\n",
       "    <tr>\n",
       "      <th>0</th>\n",
       "      <td>1</td>\n",
       "      <td>María</td>\n",
       "      <td>Martínez López</td>\n",
       "      <td>Vigo</td>\n",
       "      <td>666111222</td>\n",
       "    </tr>\n",
       "    <tr>\n",
       "      <th>1</th>\n",
       "      <td>2</td>\n",
       "      <td>Lucía</td>\n",
       "      <td>Rodríguez Estévez</td>\n",
       "      <td>A Coruña</td>\n",
       "      <td>666222333</td>\n",
       "    </tr>\n",
       "    <tr>\n",
       "      <th>2</th>\n",
       "      <td>3</td>\n",
       "      <td>Carla</td>\n",
       "      <td>López Castelao</td>\n",
       "      <td>Pontevedra</td>\n",
       "      <td>666333444</td>\n",
       "    </tr>\n",
       "    <tr>\n",
       "      <th>3</th>\n",
       "      <td>4</td>\n",
       "      <td>Kasia</td>\n",
       "      <td>Torres Arriba</td>\n",
       "      <td>Vilaboa</td>\n",
       "      <td>666444555</td>\n",
       "    </tr>\n",
       "    <tr>\n",
       "      <th>4</th>\n",
       "      <td>5</td>\n",
       "      <td>Joyce</td>\n",
       "      <td>Tapias González</td>\n",
       "      <td>Camariñas</td>\n",
       "      <td>666555666</td>\n",
       "    </tr>\n",
       "    <tr>\n",
       "      <th>5</th>\n",
       "      <td>6</td>\n",
       "      <td>Kate</td>\n",
       "      <td>Winslet</td>\n",
       "      <td>Bath</td>\n",
       "      <td>666666777</td>\n",
       "    </tr>\n",
       "    <tr>\n",
       "      <th>6</th>\n",
       "      <td>7</td>\n",
       "      <td>Alice</td>\n",
       "      <td>Gould Almenara</td>\n",
       "      <td>Madrid</td>\n",
       "      <td>666777888</td>\n",
       "    </tr>\n",
       "    <tr>\n",
       "      <th>7</th>\n",
       "      <td>8</td>\n",
       "      <td>Lola</td>\n",
       "      <td>Bernárdez Balit</td>\n",
       "      <td>Corrubedo</td>\n",
       "      <td>666888999</td>\n",
       "    </tr>\n",
       "    <tr>\n",
       "      <th>8</th>\n",
       "      <td>9</td>\n",
       "      <td>Ivanira</td>\n",
       "      <td>Silva Montes</td>\n",
       "      <td>Vigo</td>\n",
       "      <td>666999111</td>\n",
       "    </tr>\n",
       "    <tr>\n",
       "      <th>9</th>\n",
       "      <td>10</td>\n",
       "      <td>Joanna</td>\n",
       "      <td>Blanchet Hataway</td>\n",
       "      <td>Lugo</td>\n",
       "      <td>666123456</td>\n",
       "    </tr>\n",
       "  </tbody>\n",
       "</table>\n",
       "</div>"
      ],
      "text/plain": [
       "   id_alumna   nombre          apellidos      ciudad   telefono\n",
       "0          1    María     Martínez López        Vigo  666111222\n",
       "1          2    Lucía  Rodríguez Estévez    A Coruña  666222333\n",
       "2          3    Carla     López Castelao  Pontevedra  666333444\n",
       "3          4    Kasia      Torres Arriba     Vilaboa  666444555\n",
       "4          5    Joyce    Tapias González   Camariñas  666555666\n",
       "5          6     Kate            Winslet        Bath  666666777\n",
       "6          7    Alice     Gould Almenara      Madrid  666777888\n",
       "7          8     Lola    Bernárdez Balit   Corrubedo  666888999\n",
       "8          9  Ivanira       Silva Montes        Vigo  666999111\n",
       "9         10   Joanna   Blanchet Hataway        Lugo  666123456"
      ]
     },
     "execution_count": 9,
     "metadata": {},
     "output_type": "execute_result"
    }
   ],
   "source": [
    "df_alumnas2"
   ]
  },
  {
   "cell_type": "markdown",
   "metadata": {},
   "source": [
    "6. Muestra los 3 primeros y tres últimos registros del Dataframe."
   ]
  },
  {
   "cell_type": "code",
   "execution_count": 10,
   "metadata": {},
   "outputs": [
    {
     "data": {
      "text/html": [
       "<div>\n",
       "<style scoped>\n",
       "    .dataframe tbody tr th:only-of-type {\n",
       "        vertical-align: middle;\n",
       "    }\n",
       "\n",
       "    .dataframe tbody tr th {\n",
       "        vertical-align: top;\n",
       "    }\n",
       "\n",
       "    .dataframe thead th {\n",
       "        text-align: right;\n",
       "    }\n",
       "</style>\n",
       "<table border=\"1\" class=\"dataframe\">\n",
       "  <thead>\n",
       "    <tr style=\"text-align: right;\">\n",
       "      <th></th>\n",
       "      <th>id_alumna</th>\n",
       "      <th>nombre</th>\n",
       "      <th>apellidos</th>\n",
       "      <th>ciudad</th>\n",
       "      <th>telefono</th>\n",
       "    </tr>\n",
       "  </thead>\n",
       "  <tbody>\n",
       "    <tr>\n",
       "      <th>0</th>\n",
       "      <td>1</td>\n",
       "      <td>María</td>\n",
       "      <td>Martínez López</td>\n",
       "      <td>Vigo</td>\n",
       "      <td>666111222</td>\n",
       "    </tr>\n",
       "    <tr>\n",
       "      <th>1</th>\n",
       "      <td>2</td>\n",
       "      <td>Lucía</td>\n",
       "      <td>Rodríguez Estévez</td>\n",
       "      <td>A Coruña</td>\n",
       "      <td>666222333</td>\n",
       "    </tr>\n",
       "    <tr>\n",
       "      <th>2</th>\n",
       "      <td>3</td>\n",
       "      <td>Carla</td>\n",
       "      <td>López Castelao</td>\n",
       "      <td>Pontevedra</td>\n",
       "      <td>666333444</td>\n",
       "    </tr>\n",
       "  </tbody>\n",
       "</table>\n",
       "</div>"
      ],
      "text/plain": [
       "   id_alumna nombre          apellidos      ciudad   telefono\n",
       "0          1  María     Martínez López        Vigo  666111222\n",
       "1          2  Lucía  Rodríguez Estévez    A Coruña  666222333\n",
       "2          3  Carla     López Castelao  Pontevedra  666333444"
      ]
     },
     "execution_count": 10,
     "metadata": {},
     "output_type": "execute_result"
    }
   ],
   "source": [
    "df_alumnas2.head(3)"
   ]
  },
  {
   "cell_type": "code",
   "execution_count": 11,
   "metadata": {},
   "outputs": [
    {
     "data": {
      "text/html": [
       "<div>\n",
       "<style scoped>\n",
       "    .dataframe tbody tr th:only-of-type {\n",
       "        vertical-align: middle;\n",
       "    }\n",
       "\n",
       "    .dataframe tbody tr th {\n",
       "        vertical-align: top;\n",
       "    }\n",
       "\n",
       "    .dataframe thead th {\n",
       "        text-align: right;\n",
       "    }\n",
       "</style>\n",
       "<table border=\"1\" class=\"dataframe\">\n",
       "  <thead>\n",
       "    <tr style=\"text-align: right;\">\n",
       "      <th></th>\n",
       "      <th>id_alumna</th>\n",
       "      <th>nombre</th>\n",
       "      <th>apellidos</th>\n",
       "      <th>ciudad</th>\n",
       "      <th>telefono</th>\n",
       "    </tr>\n",
       "  </thead>\n",
       "  <tbody>\n",
       "    <tr>\n",
       "      <th>7</th>\n",
       "      <td>8</td>\n",
       "      <td>Lola</td>\n",
       "      <td>Bernárdez Balit</td>\n",
       "      <td>Corrubedo</td>\n",
       "      <td>666888999</td>\n",
       "    </tr>\n",
       "    <tr>\n",
       "      <th>8</th>\n",
       "      <td>9</td>\n",
       "      <td>Ivanira</td>\n",
       "      <td>Silva Montes</td>\n",
       "      <td>Vigo</td>\n",
       "      <td>666999111</td>\n",
       "    </tr>\n",
       "    <tr>\n",
       "      <th>9</th>\n",
       "      <td>10</td>\n",
       "      <td>Joanna</td>\n",
       "      <td>Blanchet Hataway</td>\n",
       "      <td>Lugo</td>\n",
       "      <td>666123456</td>\n",
       "    </tr>\n",
       "  </tbody>\n",
       "</table>\n",
       "</div>"
      ],
      "text/plain": [
       "   id_alumna   nombre         apellidos     ciudad   telefono\n",
       "7          8     Lola   Bernárdez Balit  Corrubedo  666888999\n",
       "8          9  Ivanira      Silva Montes       Vigo  666999111\n",
       "9         10   Joanna  Blanchet Hataway       Lugo  666123456"
      ]
     },
     "execution_count": 11,
     "metadata": {},
     "output_type": "execute_result"
    }
   ],
   "source": [
    "df_alumnas2.tail(3)"
   ]
  },
  {
   "cell_type": "markdown",
   "metadata": {},
   "source": [
    "7. ¿Hay registros duplicados?"
   ]
  },
  {
   "cell_type": "code",
   "execution_count": 12,
   "metadata": {},
   "outputs": [
    {
     "data": {
      "text/plain": [
       "0"
      ]
     },
     "execution_count": 12,
     "metadata": {},
     "output_type": "execute_result"
    }
   ],
   "source": [
    "df_alumnas2.duplicated().sum()"
   ]
  },
  {
   "cell_type": "markdown",
   "metadata": {},
   "source": [
    "### Bonus:"
   ]
  },
  {
   "cell_type": "markdown",
   "metadata": {},
   "source": [
    "8. Haz una consulta para extraer las diferentes ciudades en las que hay alumnas.\n"
   ]
  },
  {
   "cell_type": "code",
   "execution_count": 13,
   "metadata": {},
   "outputs": [
    {
     "name": "stderr",
     "output_type": "stream",
     "text": [
      "C:\\Users\\marti\\AppData\\Local\\Temp\\ipykernel_15280\\3796093641.py:5: UserWarning: pandas only supports SQLAlchemy connectable (engine/connection) or database string URI or sqlite3 DBAPI2 connection. Other DBAPI2 objects are not tested. Please consider using SQLAlchemy.\n",
      "  df_ciudades = pd.read_sql_query(query, cnx)\n"
     ]
    },
    {
     "data": {
      "text/html": [
       "<div>\n",
       "<style scoped>\n",
       "    .dataframe tbody tr th:only-of-type {\n",
       "        vertical-align: middle;\n",
       "    }\n",
       "\n",
       "    .dataframe tbody tr th {\n",
       "        vertical-align: top;\n",
       "    }\n",
       "\n",
       "    .dataframe thead th {\n",
       "        text-align: right;\n",
       "    }\n",
       "</style>\n",
       "<table border=\"1\" class=\"dataframe\">\n",
       "  <thead>\n",
       "    <tr style=\"text-align: right;\">\n",
       "      <th></th>\n",
       "      <th>ciudad</th>\n",
       "    </tr>\n",
       "  </thead>\n",
       "  <tbody>\n",
       "    <tr>\n",
       "      <th>0</th>\n",
       "      <td>Vigo</td>\n",
       "    </tr>\n",
       "    <tr>\n",
       "      <th>1</th>\n",
       "      <td>A Coruña</td>\n",
       "    </tr>\n",
       "    <tr>\n",
       "      <th>2</th>\n",
       "      <td>Pontevedra</td>\n",
       "    </tr>\n",
       "    <tr>\n",
       "      <th>3</th>\n",
       "      <td>Vilaboa</td>\n",
       "    </tr>\n",
       "    <tr>\n",
       "      <th>4</th>\n",
       "      <td>Camariñas</td>\n",
       "    </tr>\n",
       "    <tr>\n",
       "      <th>5</th>\n",
       "      <td>Bath</td>\n",
       "    </tr>\n",
       "    <tr>\n",
       "      <th>6</th>\n",
       "      <td>Madrid</td>\n",
       "    </tr>\n",
       "    <tr>\n",
       "      <th>7</th>\n",
       "      <td>Corrubedo</td>\n",
       "    </tr>\n",
       "    <tr>\n",
       "      <th>8</th>\n",
       "      <td>Lugo</td>\n",
       "    </tr>\n",
       "  </tbody>\n",
       "</table>\n",
       "</div>"
      ],
      "text/plain": [
       "       ciudad\n",
       "0        Vigo\n",
       "1    A Coruña\n",
       "2  Pontevedra\n",
       "3     Vilaboa\n",
       "4   Camariñas\n",
       "5        Bath\n",
       "6      Madrid\n",
       "7   Corrubedo\n",
       "8        Lugo"
      ]
     },
     "execution_count": 13,
     "metadata": {},
     "output_type": "execute_result"
    }
   ],
   "source": [
    "cnx=mysql.connector.connect(user='root', password='AlumnaAdalab', host='127.0.0.1', database='alumnas_promo_h')\n",
    "my_cursor=cnx.cursor()\n",
    "query='SELECT DISTINCT ciudad FROM alumnas'\n",
    "#convierto el resultado de la query en un DataFrame\n",
    "df_ciudades = pd.read_sql_query(query, cnx)\n",
    "cnx.close()\n",
    "df_ciudades"
   ]
  },
  {
   "cell_type": "markdown",
   "metadata": {},
   "source": [
    "9. Crea al menos dos Dataframes con la información de las alumnas de dos ciudades diferentes (usando dos queries)."
   ]
  },
  {
   "cell_type": "code",
   "execution_count": 14,
   "metadata": {},
   "outputs": [
    {
     "name": "stderr",
     "output_type": "stream",
     "text": [
      "C:\\Users\\marti\\AppData\\Local\\Temp\\ipykernel_15280\\1516150356.py:4: UserWarning: pandas only supports SQLAlchemy connectable (engine/connection) or database string URI or sqlite3 DBAPI2 connection. Other DBAPI2 objects are not tested. Please consider using SQLAlchemy.\n",
      "  df_vigo=pd.read_sql_query(query, cnx)\n"
     ]
    },
    {
     "data": {
      "text/html": [
       "<div>\n",
       "<style scoped>\n",
       "    .dataframe tbody tr th:only-of-type {\n",
       "        vertical-align: middle;\n",
       "    }\n",
       "\n",
       "    .dataframe tbody tr th {\n",
       "        vertical-align: top;\n",
       "    }\n",
       "\n",
       "    .dataframe thead th {\n",
       "        text-align: right;\n",
       "    }\n",
       "</style>\n",
       "<table border=\"1\" class=\"dataframe\">\n",
       "  <thead>\n",
       "    <tr style=\"text-align: right;\">\n",
       "      <th></th>\n",
       "      <th>id_alumna</th>\n",
       "      <th>nombre</th>\n",
       "      <th>apellidos</th>\n",
       "      <th>ciudad</th>\n",
       "      <th>telefono</th>\n",
       "    </tr>\n",
       "  </thead>\n",
       "  <tbody>\n",
       "    <tr>\n",
       "      <th>0</th>\n",
       "      <td>1</td>\n",
       "      <td>María</td>\n",
       "      <td>Martínez López</td>\n",
       "      <td>Vigo</td>\n",
       "      <td>666111222</td>\n",
       "    </tr>\n",
       "    <tr>\n",
       "      <th>1</th>\n",
       "      <td>9</td>\n",
       "      <td>Ivanira</td>\n",
       "      <td>Silva Montes</td>\n",
       "      <td>Vigo</td>\n",
       "      <td>666999111</td>\n",
       "    </tr>\n",
       "  </tbody>\n",
       "</table>\n",
       "</div>"
      ],
      "text/plain": [
       "   id_alumna   nombre       apellidos ciudad   telefono\n",
       "0          1    María  Martínez López   Vigo  666111222\n",
       "1          9  Ivanira    Silva Montes   Vigo  666999111"
      ]
     },
     "execution_count": 14,
     "metadata": {},
     "output_type": "execute_result"
    }
   ],
   "source": [
    "cnx=mysql.connector.connect(user='root', password='AlumnaAdalab', host='127.0.0.1', database='alumnas_promo_h')\n",
    "my_cursor=cnx.cursor()\n",
    "query='SELECT * FROM alumnas WHERE ciudad = \"Vigo\"'\n",
    "df_vigo=pd.read_sql_query(query, cnx)\n",
    "cnx.close()\n",
    "df_vigo"
   ]
  },
  {
   "cell_type": "code",
   "execution_count": 15,
   "metadata": {},
   "outputs": [
    {
     "name": "stderr",
     "output_type": "stream",
     "text": [
      "C:\\Users\\marti\\AppData\\Local\\Temp\\ipykernel_15280\\3395539371.py:4: UserWarning: pandas only supports SQLAlchemy connectable (engine/connection) or database string URI or sqlite3 DBAPI2 connection. Other DBAPI2 objects are not tested. Please consider using SQLAlchemy.\n",
      "  df_bath=pd.read_sql_query(query, cnx)\n"
     ]
    },
    {
     "data": {
      "text/html": [
       "<div>\n",
       "<style scoped>\n",
       "    .dataframe tbody tr th:only-of-type {\n",
       "        vertical-align: middle;\n",
       "    }\n",
       "\n",
       "    .dataframe tbody tr th {\n",
       "        vertical-align: top;\n",
       "    }\n",
       "\n",
       "    .dataframe thead th {\n",
       "        text-align: right;\n",
       "    }\n",
       "</style>\n",
       "<table border=\"1\" class=\"dataframe\">\n",
       "  <thead>\n",
       "    <tr style=\"text-align: right;\">\n",
       "      <th></th>\n",
       "      <th>nombre</th>\n",
       "      <th>apellidos</th>\n",
       "      <th>ciudad</th>\n",
       "    </tr>\n",
       "  </thead>\n",
       "  <tbody>\n",
       "    <tr>\n",
       "      <th>0</th>\n",
       "      <td>Kate</td>\n",
       "      <td>Winslet</td>\n",
       "      <td>Bath</td>\n",
       "    </tr>\n",
       "  </tbody>\n",
       "</table>\n",
       "</div>"
      ],
      "text/plain": [
       "  nombre apellidos ciudad\n",
       "0   Kate   Winslet   Bath"
      ]
     },
     "execution_count": 15,
     "metadata": {},
     "output_type": "execute_result"
    }
   ],
   "source": [
    "cnx=mysql.connector.connect(user='root', password='AlumnaAdalab', host='127.0.0.1', database='alumnas_promo_h')\n",
    "my_cursor=cnx.cursor()\n",
    "query='SELECT nombre, apellidos, ciudad FROM alumnas WHERE ciudad = \"Bath\"'\n",
    "df_bath=pd.read_sql_query(query, cnx)\n",
    "cnx.close()\n",
    "df_bath"
   ]
  }
 ],
 "metadata": {
  "kernelspec": {
   "display_name": "Python 3 (ipykernel)",
   "language": "python",
   "name": "python3"
  },
  "language_info": {
   "codemirror_mode": {
    "name": "ipython",
    "version": 3
   },
   "file_extension": ".py",
   "mimetype": "text/x-python",
   "name": "python",
   "nbconvert_exporter": "python",
   "pygments_lexer": "ipython3",
   "version": "3.11.2"
  },
  "toc": {
   "base_numbering": 1,
   "nav_menu": {},
   "number_sections": true,
   "sideBar": true,
   "skip_h1_title": false,
   "title_cell": "Table of Contents",
   "title_sidebar": "Contents",
   "toc_cell": false,
   "toc_position": {
    "height": "calc(100% - 180px)",
    "left": "10px",
    "top": "150px",
    "width": "384px"
   },
   "toc_section_display": true,
   "toc_window_display": true
  },
  "vscode": {
   "interpreter": {
    "hash": "45f2e19768680f736caea9664c7aaaad3b325a359584ead4873ebd33db26fb52"
   }
  }
 },
 "nbformat": 4,
 "nbformat_minor": 2
}
