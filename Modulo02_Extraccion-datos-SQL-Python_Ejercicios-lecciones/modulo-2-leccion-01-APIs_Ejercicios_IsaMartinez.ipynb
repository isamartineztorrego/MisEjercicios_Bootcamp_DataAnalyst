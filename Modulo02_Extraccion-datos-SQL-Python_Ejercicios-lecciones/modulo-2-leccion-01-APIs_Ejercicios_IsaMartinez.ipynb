{
 "cells": [
  {
   "cell_type": "markdown",
   "metadata": {},
   "source": [
    "# Ejercicios\n",
    "\n",
    "1.  Utilizando la API de Balldontlie extrae la siguiente información. \n",
    "\n",
    "    - El nombre, apellido y equipo de cada uno de los jugadores que tenemos en la NBA. Para eso tendrás que usar el [siguiente](http://api.balldontlie.io/v1/players) endpoint. Extrae información de los jugadores. Devuelve los resultados en un DataFrame. Te deberá quedar algo parecido a esto:\n",
    "\n",
    "        ![jugadores](https://github.com/Adalab/data_imagenes/blob/main/Modulo-2/api's_clase_invertida_jugadores.png?raw=true)\n",
    "\n",
    "\n",
    "    - Extrae información de todos los equipos, con la informacion que estos mismos traen,puedes encontrar la conferencia a la que pertenece, la ciudad, el nombre y su abreviacion. En este caso ustedes deben buscar por dentro de la pagina cual es la API que corresponderia a esta busqueda!!. Tambien dejar la informacion como un dataframe similar al ejemplo anterior."
   ]
  },
  {
   "cell_type": "code",
   "execution_count": 1,
   "metadata": {},
   "outputs": [
    {
     "name": "stdout",
     "output_type": "stream",
     "text": [
      "Requirement already satisfied: requests in /home/isabelmartinez/anaconda3/lib/python3.9/site-packages (2.26.0)\n",
      "Requirement already satisfied: certifi>=2017.4.17 in /home/isabelmartinez/anaconda3/lib/python3.9/site-packages (from requests) (2021.10.8)\n",
      "Requirement already satisfied: idna<4,>=2.5 in /home/isabelmartinez/anaconda3/lib/python3.9/site-packages (from requests) (3.2)\n",
      "Requirement already satisfied: charset-normalizer~=2.0.0 in /home/isabelmartinez/anaconda3/lib/python3.9/site-packages (from requests) (2.0.4)\n",
      "Requirement already satisfied: urllib3<1.27,>=1.21.1 in /home/isabelmartinez/anaconda3/lib/python3.9/site-packages (from requests) (1.26.7)\n"
     ]
    }
   ],
   "source": [
    "!pip install requests"
   ]
  },
  {
   "cell_type": "code",
   "execution_count": 2,
   "metadata": {},
   "outputs": [],
   "source": [
    "import pandas as pd\n",
    "import requests\n",
    "import re"
   ]
  },
  {
   "cell_type": "markdown",
   "metadata": {},
   "source": [
    "1. Jugadores"
   ]
  },
  {
   "cell_type": "code",
   "execution_count": 3,
   "metadata": {},
   "outputs": [],
   "source": [
    "#Creo variables para la url, api key y headers, if needed\n",
    "api_key_balldontlie='166bbdf7-eae2-4379-9dc0-8dd9db1a7ded'\n",
    "url_jugadores='http://api.balldontlie.io/v1/players'\n",
    "headers = {'Authorization': api_key_balldontlie}"
   ]
  },
  {
   "cell_type": "code",
   "execution_count": 4,
   "metadata": {},
   "outputs": [],
   "source": [
    "#Defino la función\n",
    "def llamar_mi_api(url, headers):\n",
    "    llamada=requests.get(url, headers=headers) # hago la solicitud de get\n",
    "    print(f'La llamada a la API dio la respuesta: {llamada.status_code}')\n",
    "\n",
    "    if llamada.status_code != 200:\n",
    "        print(f' El motivo del fallo en la llamada fue {llamada.reason}')\n",
    "        print(f'Detalles del error: {llamada.text}')\n",
    "    else:\n",
    "        return llamada.json()"
   ]
  },
  {
   "cell_type": "code",
   "execution_count": 5,
   "metadata": {},
   "outputs": [
    {
     "name": "stdout",
     "output_type": "stream",
     "text": [
      "La llamada a la API dio la respuesta: 200\n"
     ]
    }
   ],
   "source": [
    "#Llamo a la función para ver si todo está ok\n",
    "resultado_jugadores=llamar_mi_api(url_jugadores, headers)"
   ]
  },
  {
   "cell_type": "code",
   "execution_count": 6,
   "metadata": {},
   "outputs": [
    {
     "data": {
      "text/html": [
       "<div>\n",
       "<style scoped>\n",
       "    .dataframe tbody tr th:only-of-type {\n",
       "        vertical-align: middle;\n",
       "    }\n",
       "\n",
       "    .dataframe tbody tr th {\n",
       "        vertical-align: top;\n",
       "    }\n",
       "\n",
       "    .dataframe thead th {\n",
       "        text-align: right;\n",
       "    }\n",
       "</style>\n",
       "<table border=\"1\" class=\"dataframe\">\n",
       "  <thead>\n",
       "    <tr style=\"text-align: right;\">\n",
       "      <th></th>\n",
       "      <th>nombres</th>\n",
       "      <th>apellidos</th>\n",
       "      <th>equipo</th>\n",
       "    </tr>\n",
       "  </thead>\n",
       "  <tbody>\n",
       "    <tr>\n",
       "      <th>0</th>\n",
       "      <td>Alex</td>\n",
       "      <td>Abrines</td>\n",
       "      <td>Oklahoma City Thunder</td>\n",
       "    </tr>\n",
       "    <tr>\n",
       "      <th>1</th>\n",
       "      <td>Jaylen</td>\n",
       "      <td>Adams</td>\n",
       "      <td>Atlanta Hawks</td>\n",
       "    </tr>\n",
       "    <tr>\n",
       "      <th>2</th>\n",
       "      <td>Steven</td>\n",
       "      <td>Adams</td>\n",
       "      <td>Houston Rockets</td>\n",
       "    </tr>\n",
       "    <tr>\n",
       "      <th>3</th>\n",
       "      <td>Bam</td>\n",
       "      <td>Adebayo</td>\n",
       "      <td>Miami Heat</td>\n",
       "    </tr>\n",
       "    <tr>\n",
       "      <th>4</th>\n",
       "      <td>DeVaughn</td>\n",
       "      <td>Akoon-Purcell</td>\n",
       "      <td>Denver Nuggets</td>\n",
       "    </tr>\n",
       "  </tbody>\n",
       "</table>\n",
       "</div>"
      ],
      "text/plain": [
       "    nombres      apellidos                 equipo\n",
       "0      Alex        Abrines  Oklahoma City Thunder\n",
       "1    Jaylen          Adams          Atlanta Hawks\n",
       "2    Steven          Adams        Houston Rockets\n",
       "3       Bam        Adebayo             Miami Heat\n",
       "4  DeVaughn  Akoon-Purcell         Denver Nuggets"
      ]
     },
     "execution_count": 6,
     "metadata": {},
     "output_type": "execute_result"
    }
   ],
   "source": [
    "#creo diccionario vacío con keys de las columnas que querré visualizar\n",
    "dicc_jugadores={'nombres':[], 'apellidos':[], 'equipo':[]}\n",
    "\n",
    "#itero todo el json para ir añadiendo los jugadores al diccionario que yo creé\n",
    "for jugador in resultado_jugadores['data']: #sé que es 'data' porque los consulté en la documentación\n",
    "    dicc_jugadores['nombres'].append(jugador['first_name']) #sé el nombre de la key de los datos de origen porque los consulté en la documentación\n",
    "    dicc_jugadores['apellidos'].append(jugador['last_name']) #sé el nombre de la key de los datos de origen porque los consulté en la documentación\n",
    "    dicc_jugadores['equipo'].append(jugador['team']['full_name'])\n",
    "\n",
    "#ahora creo el DataFrame\n",
    "df_dicc_jugadores=pd.DataFrame(dicc_jugadores)\n",
    "df_dicc_jugadores.head()"
   ]
  },
  {
   "cell_type": "markdown",
   "metadata": {},
   "source": [
    "2. Equipos"
   ]
  },
  {
   "cell_type": "code",
   "execution_count": 7,
   "metadata": {},
   "outputs": [],
   "source": [
    "#Creo variables para la url, api key y headers, if needed\n",
    "api_key_balldontlie='166bbdf7-eae2-4379-9dc0-8dd9db1a7ded'\n",
    "url_equipos='https://api.balldontlie.io/v1/teams'\n",
    "headers = {'Authorization': api_key_balldontlie}"
   ]
  },
  {
   "cell_type": "code",
   "execution_count": 8,
   "metadata": {},
   "outputs": [],
   "source": [
    "#Defino la función\n",
    "def llamar_mi_api(url, headers):\n",
    "    llamada=requests.get(url, headers=headers) # hago la solicitud de get\n",
    "    print(f'La llamada a la API dio la respuesta: {llamada.status_code}')\n",
    "\n",
    "    if llamada.status_code != 200:\n",
    "        print(f' El motivo del fallo en la llamada fue {llamada.reason}')\n",
    "        print(f'Detalles del error: {llamada.text}')\n",
    "    else:\n",
    "        return llamada.json()"
   ]
  },
  {
   "cell_type": "code",
   "execution_count": 9,
   "metadata": {},
   "outputs": [
    {
     "name": "stdout",
     "output_type": "stream",
     "text": [
      "La llamada a la API dio la respuesta: 200\n"
     ]
    }
   ],
   "source": [
    "#Llamo a la función para ver si todo está ok\n",
    "resultado_equipos=llamar_mi_api(url_equipos, headers)"
   ]
  },
  {
   "cell_type": "code",
   "execution_count": 10,
   "metadata": {},
   "outputs": [
    {
     "data": {
      "text/html": [
       "<div>\n",
       "<style scoped>\n",
       "    .dataframe tbody tr th:only-of-type {\n",
       "        vertical-align: middle;\n",
       "    }\n",
       "\n",
       "    .dataframe tbody tr th {\n",
       "        vertical-align: top;\n",
       "    }\n",
       "\n",
       "    .dataframe thead th {\n",
       "        text-align: right;\n",
       "    }\n",
       "</style>\n",
       "<table border=\"1\" class=\"dataframe\">\n",
       "  <thead>\n",
       "    <tr style=\"text-align: right;\">\n",
       "      <th></th>\n",
       "      <th>conferencia</th>\n",
       "      <th>ciudad</th>\n",
       "      <th>nombre</th>\n",
       "      <th>abreviación</th>\n",
       "    </tr>\n",
       "  </thead>\n",
       "  <tbody>\n",
       "    <tr>\n",
       "      <th>0</th>\n",
       "      <td>East</td>\n",
       "      <td>Atlanta</td>\n",
       "      <td>Hawks</td>\n",
       "      <td>ATL</td>\n",
       "    </tr>\n",
       "    <tr>\n",
       "      <th>1</th>\n",
       "      <td>East</td>\n",
       "      <td>Boston</td>\n",
       "      <td>Celtics</td>\n",
       "      <td>BOS</td>\n",
       "    </tr>\n",
       "    <tr>\n",
       "      <th>2</th>\n",
       "      <td>East</td>\n",
       "      <td>Brooklyn</td>\n",
       "      <td>Nets</td>\n",
       "      <td>BKN</td>\n",
       "    </tr>\n",
       "    <tr>\n",
       "      <th>3</th>\n",
       "      <td>East</td>\n",
       "      <td>Charlotte</td>\n",
       "      <td>Hornets</td>\n",
       "      <td>CHA</td>\n",
       "    </tr>\n",
       "    <tr>\n",
       "      <th>4</th>\n",
       "      <td>East</td>\n",
       "      <td>Chicago</td>\n",
       "      <td>Bulls</td>\n",
       "      <td>CHI</td>\n",
       "    </tr>\n",
       "  </tbody>\n",
       "</table>\n",
       "</div>"
      ],
      "text/plain": [
       "  conferencia     ciudad   nombre abreviación\n",
       "0        East    Atlanta    Hawks         ATL\n",
       "1        East     Boston  Celtics         BOS\n",
       "2        East   Brooklyn     Nets         BKN\n",
       "3        East  Charlotte  Hornets         CHA\n",
       "4        East    Chicago    Bulls         CHI"
      ]
     },
     "execution_count": 10,
     "metadata": {},
     "output_type": "execute_result"
    }
   ],
   "source": [
    "#creo diccionario vacío con keys de las columnas que querré visualizar\n",
    "dicc_equipos={'conferencia':[], 'ciudad':[], 'nombre':[], 'abreviación':[]}\n",
    "\n",
    "#itero todo el json para ir añadiendo la info de los equipos al diccionario que yo creé\n",
    "for equipo in resultado_equipos['data']:#sé que es 'data' porque los consulté en la documentación\n",
    "    dicc_equipos['conferencia'].append(equipo['conference'])\n",
    "    dicc_equipos['ciudad'].append(equipo['city'])\n",
    "    dicc_equipos['nombre'].append(equipo['name'])\n",
    "    dicc_equipos['abreviación'].append(equipo['abbreviation'])\n",
    "\n",
    "#ahora creo el DataFrame\n",
    "df_dicc_equipos=pd.DataFrame(dicc_equipos)\n",
    "df_dicc_equipos.head()"
   ]
  }
 ],
 "metadata": {
  "kernelspec": {
   "display_name": "Python 3 (ipykernel)",
   "language": "python",
   "name": "python3"
  },
  "language_info": {
   "codemirror_mode": {
    "name": "ipython",
    "version": 3
   },
   "file_extension": ".py",
   "mimetype": "text/x-python",
   "name": "python",
   "nbconvert_exporter": "python",
   "pygments_lexer": "ipython3",
   "version": "3.9.7"
  },
  "toc": {
   "base_numbering": 1,
   "nav_menu": {},
   "number_sections": true,
   "sideBar": true,
   "skip_h1_title": false,
   "title_cell": "Table of Contents",
   "title_sidebar": "Contents",
   "toc_cell": true,
   "toc_position": {},
   "toc_section_display": true,
   "toc_window_display": true
  },
  "vscode": {
   "interpreter": {
    "hash": "f7912e45f56376859e46a323936f3af5ef395502effe5c6049b04a4785be6cad"
   }
  }
 },
 "nbformat": 4,
 "nbformat_minor": 2
}
