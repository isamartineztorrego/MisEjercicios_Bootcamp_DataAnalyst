{
 "cells": [
  {
   "cell_type": "markdown",
   "metadata": {},
   "source": [
    "# Ejercicios\n",
    "Escribe un script en Python utilizando Selenium que realice las siguientes tareas en la página web del Decathlon:\n",
    "\n",
    "1. Abra una el navegador y maximice la ventana.\n",
    "\n",
    "2. Acceda al sitio web de Decathlon en la URL \"https://www.decathlon.es/\".\n",
    "\n",
    "3. Haga clic en el botón \"Aceptar\" en la notificación de cookies utilizando su selector CSS.\n",
    "\n",
    "4. Solicite al usuario que ingrese una búsqueda (por ejemplo, un producto deportivo) mediante una entrada de texto.\n",
    "\n",
    "5. Utilice el texto ingresado para buscar productos en el sitio web de Decathlon y presione la tecla \"Enter\" para iniciar la búsqueda.\n",
    "\n",
    "6. Inicialice un diccionario llamado `diccionario_resultados` con tres listas vacías: \"nombre\", \"precio\" y \"puntuación\".\n",
    "\n",
    "7. Itere sobre los primeros 5 resultados de la búsqueda y realice las siguientes acciones:\n",
    "\n",
    "    a. Haga clic en un resultado específico.\n",
    "    b. Recopile el nombre del producto, el precio y la puntuación del producto y almacénelos en las listas correspondientes en el diccionario `diccionario_resultados`.\n",
    "\n",
    "    c. Navegue de regreso a los resultados de búsqueda.\n",
    "\n",
    "8. Cierre el navegador Chrome.\n",
    "\n",
    "El resultado final debería ser un diccionario con información sobre los primeros 5 productos encontrados durante la búsqueda en el sitio web de Decathlon, incluyendo el nombre del producto, el precio y la puntuación. Muestralo en un DataFrame similar al ves a continuación: \n",
    "\n",
    "| nombre                                             | precio    | puntuacion |\n",
    "|----------------------------------------------------|-----------|------------|\n",
    "| Camiseta Real Madrid Local Adulto Temporada 23/24  | 99,99 €   | 5/5        |\n",
    "| Camiseta térmica interior de esquí y nieve Muj... | 6,99 €    | 4.7/5      |\n",
    "| Camiseta running térmica transpirable Mujer Ki... | 19,99 €   | 4.8/5      |\n",
    "| Camiseta térmica running Mujer negra              | 14,99 €   | 4.7/5      |\n",
    "| Camiseta de fútbol Adulto Kipsta F100 roja         | 5,99 €    | 4.5/5      |\n",
    "\n"
   ]
  },
  {
   "cell_type": "code",
   "execution_count": 1,
   "metadata": {},
   "outputs": [],
   "source": [
    "import pandas as pd\n",
    "import requests\n",
    "from bs4 import BeautifulSoup\n",
    "from datetime import datetime\n",
    "from selenium import webdriver  \n",
    "from webdriver_manager.chrome import ChromeDriverManager  \n",
    "from selenium.webdriver.common.keys import Keys \n",
    "from selenium.webdriver.support.ui import Select  \n",
    "from time import sleep  \n",
    "pd.set_option('display.max_columns', None) "
   ]
  },
  {
   "cell_type": "code",
   "execution_count": 7,
   "metadata": {},
   "outputs": [
    {
     "name": "stdout",
     "output_type": "stream",
     "text": [
      "Ha aceptado las cookies\n",
      "Va por la iteración 1\n",
      "Va por la iteración 2\n",
      "Va por la iteración 3\n",
      "Va por la iteración 4\n",
      "Ha cerrado la ventana\n"
     ]
    }
   ],
   "source": [
    "driver=webdriver.Chrome()\n",
    "driver.get('https://www.decathlon.es/es/')\n",
    "driver.maximize_window()\n",
    "sleep(3)\n",
    "driver.find_element('css selector', '#didomi-notice-agree-button > span').click() #acepta las cookies\n",
    "print('Ha aceptado las cookies')\n",
    "sleep(3)\n",
    "driver.find_element('css selector', '#search-bar > div > form > input').send_keys('zapatillas', Keys.ENTER) #en la barra, escribe zapatillas futbol y haz enter\n",
    "sleep(3)\n",
    "driver.execute_script('window.scrollTo(0,1000)') #le digo que haga vaya pasando de página, lo escribo todo a mano\n",
    "\n",
    "diccionario_decathlon={'nombre':[],\n",
    "                       'precio':[],\n",
    "                       'puntuación':[]}\n",
    "\n",
    "for i in range(1,5):\n",
    "    sleep(3)\n",
    "    print(f'Va por la iteración {i}')\n",
    "    driver.find_element('css selector', f'#app > main > div.list-body.svelte-4gq2qk > section.listing-section.svelte-4gq2qk > div > div:nth-child({i})').click()\n",
    "    sleep(3)\n",
    "\n",
    "    nombres=driver.find_element(\"css selector\", \"#app > main > article > div.vtmn-relative.vtmn-z-\\[2\\] > section > h1\").text\n",
    "    sleep(2)\n",
    "\n",
    "    precios=driver.find_element('css selector', '#app > main > article > div.vtmn-relative.vtmn-z-\\[2\\] > section > div.price-presentation.vtmn-flex.vtmn-flex-col.vtmn-items-start.vtmn-leading-tight.vtmn-mt-2.svelte-1wujduz > div.vtmn-flex.vtmn-flex-col.vtmn-items-start.vtmn-items-stretch.svelte-1wujduz > div > div.vtmn-flex.vtmn-flex-col.vtmn-justify-center.vtmn-items-end > span').text\n",
    "    sleep(2)\n",
    "\n",
    "    puntuaciones=driver.find_element(\"xpath\", '/html/body/div[2]/main/article/div[2]/section/div[3]/div/button/div/span[6]').text\n",
    "\n",
    "    diccionario_decathlon['nombre'].append(nombres)\n",
    "    diccionario_decathlon['precio'].append(precios)\n",
    "    diccionario_decathlon['puntuación'].append(puntuaciones)\n",
    "\n",
    "    sleep(3)\n",
    "    driver.back()\n",
    "\n",
    "driver.close()\n",
    "print('Ha cerrado la ventana')"
   ]
  },
  {
   "cell_type": "code",
   "execution_count": 8,
   "metadata": {},
   "outputs": [
    {
     "data": {
      "text/plain": [
       "{'nombre': ['Zapatillas Caminar Flex Appeal 4.0 Mujer Blanco',\n",
       "  'Zapatillas VL Court Adidas Niños Blanco Negro Gris',\n",
       "  'Zapatillas Caminar Skechers Slip Ins Summits Diamond Dream Mujer Azul Marino',\n",
       "  'Zapatillas Deportivas Caminar Skechers Slip-ins Summits Hombre Azul Navy'],\n",
       " 'precio': ['44,99 €', '47,99 €', '57,49 €', '56,49 €'],\n",
       " 'puntuación': ['5/5', '4.9/5', '4.8/5', '4.5/5']}"
      ]
     },
     "execution_count": 8,
     "metadata": {},
     "output_type": "execute_result"
    }
   ],
   "source": [
    "diccionario_decathlon"
   ]
  },
  {
   "cell_type": "code",
   "execution_count": 9,
   "metadata": {},
   "outputs": [
    {
     "data": {
      "text/html": [
       "<div>\n",
       "<style scoped>\n",
       "    .dataframe tbody tr th:only-of-type {\n",
       "        vertical-align: middle;\n",
       "    }\n",
       "\n",
       "    .dataframe tbody tr th {\n",
       "        vertical-align: top;\n",
       "    }\n",
       "\n",
       "    .dataframe thead th {\n",
       "        text-align: right;\n",
       "    }\n",
       "</style>\n",
       "<table border=\"1\" class=\"dataframe\">\n",
       "  <thead>\n",
       "    <tr style=\"text-align: right;\">\n",
       "      <th></th>\n",
       "      <th>nombre</th>\n",
       "      <th>precio</th>\n",
       "      <th>puntuación</th>\n",
       "    </tr>\n",
       "  </thead>\n",
       "  <tbody>\n",
       "    <tr>\n",
       "      <th>0</th>\n",
       "      <td>Zapatillas Caminar Flex Appeal 4.0 Mujer Blanco</td>\n",
       "      <td>44,99 €</td>\n",
       "      <td>5/5</td>\n",
       "    </tr>\n",
       "    <tr>\n",
       "      <th>1</th>\n",
       "      <td>Zapatillas VL Court Adidas Niños Blanco Negro ...</td>\n",
       "      <td>47,99 €</td>\n",
       "      <td>4.9/5</td>\n",
       "    </tr>\n",
       "    <tr>\n",
       "      <th>2</th>\n",
       "      <td>Zapatillas Caminar Skechers Slip Ins Summits D...</td>\n",
       "      <td>57,49 €</td>\n",
       "      <td>4.8/5</td>\n",
       "    </tr>\n",
       "    <tr>\n",
       "      <th>3</th>\n",
       "      <td>Zapatillas Deportivas Caminar Skechers Slip-in...</td>\n",
       "      <td>56,49 €</td>\n",
       "      <td>4.5/5</td>\n",
       "    </tr>\n",
       "  </tbody>\n",
       "</table>\n",
       "</div>"
      ],
      "text/plain": [
       "                                              nombre   precio puntuación\n",
       "0    Zapatillas Caminar Flex Appeal 4.0 Mujer Blanco  44,99 €        5/5\n",
       "1  Zapatillas VL Court Adidas Niños Blanco Negro ...  47,99 €      4.9/5\n",
       "2  Zapatillas Caminar Skechers Slip Ins Summits D...  57,49 €      4.8/5\n",
       "3  Zapatillas Deportivas Caminar Skechers Slip-in...  56,49 €      4.5/5"
      ]
     },
     "execution_count": 9,
     "metadata": {},
     "output_type": "execute_result"
    }
   ],
   "source": [
    "df_decathlon=pd.DataFrame(diccionario_decathlon)\n",
    "df_decathlon"
   ]
  }
 ],
 "metadata": {
  "kernelspec": {
   "display_name": "Python 3",
   "language": "python",
   "name": "python3"
  },
  "language_info": {
   "codemirror_mode": {
    "name": "ipython",
    "version": 3
   },
   "file_extension": ".py",
   "mimetype": "text/x-python",
   "name": "python",
   "nbconvert_exporter": "python",
   "pygments_lexer": "ipython3",
   "version": "3.11.2"
  }
 },
 "nbformat": 4,
 "nbformat_minor": 2
}
