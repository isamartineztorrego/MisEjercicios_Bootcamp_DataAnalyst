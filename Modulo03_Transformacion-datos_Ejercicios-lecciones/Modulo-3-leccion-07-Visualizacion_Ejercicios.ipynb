{
 "cells": [
  {
   "cell_type": "markdown",
   "metadata": {},
   "source": [
    "## Lección 07 Visualización\n",
    "\n",
    "### Ejercicios"
   ]
  },
  {
   "cell_type": "code",
   "execution_count": 59,
   "metadata": {},
   "outputs": [],
   "source": [
    "# primero nuestras librerias!\n",
    "\n",
    "# Tratamiento de datos\n",
    "# -----------------------------------------------------------------------\n",
    "import pandas as pd\n",
    "\n",
    "# Visualización\n",
    "# ------------------------------------------------------------------------------\n",
    "import matplotlib.pyplot as plt\n",
    "import seaborn as sns\n",
    "\n",
    "# Configuración\n",
    "# -----------------------------------------------------------------------\n",
    "pd.set_option('display.max_columns', None) # para poder visualizar todas las columnas de los DataFrames"
   ]
  },
  {
   "cell_type": "markdown",
   "metadata": {},
   "source": [
    "Utilizando el conjunto de datos que terminamos de limpiar ayer, contesta a las siguientes preguntas utilizando la visualización más apropiada. \n",
    "\n",
    "1.  ¿Cómo se distribuyen los precios de los productos?\n"
   ]
  },
  {
   "cell_type": "code",
   "execution_count": 60,
   "metadata": {},
   "outputs": [
    {
     "data": {
      "text/html": [
       "<div>\n",
       "<style scoped>\n",
       "    .dataframe tbody tr th:only-of-type {\n",
       "        vertical-align: middle;\n",
       "    }\n",
       "\n",
       "    .dataframe tbody tr th {\n",
       "        vertical-align: top;\n",
       "    }\n",
       "\n",
       "    .dataframe thead th {\n",
       "        text-align: right;\n",
       "    }\n",
       "</style>\n",
       "<table border=\"1\" class=\"dataframe\">\n",
       "  <thead>\n",
       "    <tr style=\"text-align: right;\">\n",
       "      <th></th>\n",
       "      <th>title</th>\n",
       "      <th>price</th>\n",
       "      <th>retail_price</th>\n",
       "      <th>price_difference</th>\n",
       "      <th>units_sold</th>\n",
       "      <th>uses_ad_boosts</th>\n",
       "      <th>rating_x</th>\n",
       "      <th>rating_count</th>\n",
       "      <th>badge_local_product</th>\n",
       "      <th>badge_product_quality</th>\n",
       "      <th>badge_fast_shipping</th>\n",
       "      <th>tags</th>\n",
       "      <th>product_color</th>\n",
       "      <th>product_variation_size_id</th>\n",
       "      <th>shipping_option_name</th>\n",
       "      <th>shipping_option_price</th>\n",
       "      <th>shipping_is_express</th>\n",
       "      <th>countries_shipped_to</th>\n",
       "      <th>inventory_total</th>\n",
       "      <th>origin_country</th>\n",
       "      <th>merchant_name</th>\n",
       "      <th>merchant_info_subtitle</th>\n",
       "      <th>merchant_rating_count</th>\n",
       "      <th>merchant_id</th>\n",
       "      <th>product_url</th>\n",
       "      <th>product_id</th>\n",
       "      <th>crawl_month</th>\n",
       "      <th>listed_products</th>\n",
       "      <th>total_units_sold</th>\n",
       "      <th>mean_units_sold_per_product</th>\n",
       "      <th>rating_y</th>\n",
       "      <th>merchant_ratings_count</th>\n",
       "      <th>mean_product_prices</th>\n",
       "      <th>mean_retail_prices</th>\n",
       "      <th>mean_product_ratings_count</th>\n",
       "      <th>discount_percentage</th>\n",
       "      <th>seller_reputation</th>\n",
       "      <th>rating_five</th>\n",
       "      <th>rating_four</th>\n",
       "      <th>rating_three</th>\n",
       "      <th>rating_two</th>\n",
       "      <th>rating_one</th>\n",
       "    </tr>\n",
       "    <tr>\n",
       "      <th>index</th>\n",
       "      <th></th>\n",
       "      <th></th>\n",
       "      <th></th>\n",
       "      <th></th>\n",
       "      <th></th>\n",
       "      <th></th>\n",
       "      <th></th>\n",
       "      <th></th>\n",
       "      <th></th>\n",
       "      <th></th>\n",
       "      <th></th>\n",
       "      <th></th>\n",
       "      <th></th>\n",
       "      <th></th>\n",
       "      <th></th>\n",
       "      <th></th>\n",
       "      <th></th>\n",
       "      <th></th>\n",
       "      <th></th>\n",
       "      <th></th>\n",
       "      <th></th>\n",
       "      <th></th>\n",
       "      <th></th>\n",
       "      <th></th>\n",
       "      <th></th>\n",
       "      <th></th>\n",
       "      <th></th>\n",
       "      <th></th>\n",
       "      <th></th>\n",
       "      <th></th>\n",
       "      <th></th>\n",
       "      <th></th>\n",
       "      <th></th>\n",
       "      <th></th>\n",
       "      <th></th>\n",
       "      <th></th>\n",
       "      <th></th>\n",
       "      <th></th>\n",
       "      <th></th>\n",
       "      <th></th>\n",
       "      <th></th>\n",
       "      <th></th>\n",
       "    </tr>\n",
       "  </thead>\n",
       "  <tbody>\n",
       "    <tr>\n",
       "      <th>0</th>\n",
       "      <td>2020 Summer Vintage Flamingo Print  Pajamas Se...</td>\n",
       "      <td>16.0</td>\n",
       "      <td>14</td>\n",
       "      <td>2.0</td>\n",
       "      <td>100</td>\n",
       "      <td>no</td>\n",
       "      <td>3.76</td>\n",
       "      <td>54</td>\n",
       "      <td>no</td>\n",
       "      <td>buena</td>\n",
       "      <td>no</td>\n",
       "      <td>Summer,Fashion,womenunderwearsuit,printedpajam...</td>\n",
       "      <td>white</td>\n",
       "      <td>M</td>\n",
       "      <td>Livraison standard</td>\n",
       "      <td>4</td>\n",
       "      <td>no</td>\n",
       "      <td>34</td>\n",
       "      <td>50</td>\n",
       "      <td>CN</td>\n",
       "      <td>zgrdejia</td>\n",
       "      <td>unknown</td>\n",
       "      <td>568</td>\n",
       "      <td>595097d6a26f6e070cb878d1</td>\n",
       "      <td>https://www.wish.com/c/5e9ae51d43d6a96e303acdb0</td>\n",
       "      <td>5e9ae51d43d6a96e303acdb0</td>\n",
       "      <td>2020-08</td>\n",
       "      <td>2</td>\n",
       "      <td>120000</td>\n",
       "      <td>60000.0</td>\n",
       "      <td>4.219</td>\n",
       "      <td>320031.0</td>\n",
       "      <td>9.0</td>\n",
       "      <td>20.0</td>\n",
       "      <td>8836.0</td>\n",
       "      <td>-14.29</td>\n",
       "      <td>buena</td>\n",
       "      <td>26.0</td>\n",
       "      <td>8.0</td>\n",
       "      <td>10.0</td>\n",
       "      <td>1.0</td>\n",
       "      <td>9.0</td>\n",
       "    </tr>\n",
       "  </tbody>\n",
       "</table>\n",
       "</div>"
      ],
      "text/plain": [
       "                                                   title  price  retail_price  \\\n",
       "index                                                                           \n",
       "0      2020 Summer Vintage Flamingo Print  Pajamas Se...   16.0            14   \n",
       "\n",
       "       price_difference  units_sold uses_ad_boosts  rating_x  rating_count  \\\n",
       "index                                                                        \n",
       "0                   2.0         100             no      3.76            54   \n",
       "\n",
       "      badge_local_product badge_product_quality badge_fast_shipping  \\\n",
       "index                                                                 \n",
       "0                      no                 buena                  no   \n",
       "\n",
       "                                                    tags product_color  \\\n",
       "index                                                                    \n",
       "0      Summer,Fashion,womenunderwearsuit,printedpajam...         white   \n",
       "\n",
       "      product_variation_size_id shipping_option_name  shipping_option_price  \\\n",
       "index                                                                         \n",
       "0                             M   Livraison standard                      4   \n",
       "\n",
       "      shipping_is_express  countries_shipped_to  inventory_total  \\\n",
       "index                                                              \n",
       "0                      no                    34               50   \n",
       "\n",
       "      origin_country merchant_name merchant_info_subtitle  \\\n",
       "index                                                       \n",
       "0                 CN      zgrdejia                unknown   \n",
       "\n",
       "       merchant_rating_count               merchant_id  \\\n",
       "index                                                    \n",
       "0                        568  595097d6a26f6e070cb878d1   \n",
       "\n",
       "                                           product_url  \\\n",
       "index                                                    \n",
       "0      https://www.wish.com/c/5e9ae51d43d6a96e303acdb0   \n",
       "\n",
       "                     product_id crawl_month  listed_products  \\\n",
       "index                                                          \n",
       "0      5e9ae51d43d6a96e303acdb0     2020-08                2   \n",
       "\n",
       "       total_units_sold  mean_units_sold_per_product  rating_y  \\\n",
       "index                                                            \n",
       "0                120000                      60000.0     4.219   \n",
       "\n",
       "       merchant_ratings_count  mean_product_prices  mean_retail_prices  \\\n",
       "index                                                                    \n",
       "0                    320031.0                  9.0                20.0   \n",
       "\n",
       "       mean_product_ratings_count  discount_percentage seller_reputation  \\\n",
       "index                                                                      \n",
       "0                          8836.0               -14.29             buena   \n",
       "\n",
       "       rating_five  rating_four  rating_three  rating_two  rating_one  \n",
       "index                                                                  \n",
       "0             26.0          8.0          10.0         1.0         9.0  "
      ]
     },
     "execution_count": 60,
     "metadata": {},
     "output_type": "execute_result"
    }
   ],
   "source": [
    "df=pd.read_csv('post_leccion06_rating_insight.csv', index_col=0)\n",
    "df.head(1)"
   ]
  },
  {
   "cell_type": "code",
   "execution_count": 61,
   "metadata": {},
   "outputs": [
    {
     "data": {
      "image/png": "[encoded data removed]",
      "text/plain": [
       "<Figure size 432x288 with 1 Axes>"
      ]
     },
     "metadata": {
      "needs_background": "light"
     },
     "output_type": "display_data"
    }
   ],
   "source": [
    "#Utilizo un violinplot para obtener uns repesentación de la densidad y distribución de los precios.\n",
    "#Podría utilizar también un histplot\n",
    "sns.violinplot(x='price', data=df)\n",
    "plt.title(\"Distribución de los precios\", fontsize = 12)\n",
    "plt.xlabel(\"Densidad\", fontsize = 10)\n",
    "plt.ylabel(\"Precio\", fontsize = 10)\n",
    "plt.gca().spines['right'].set_visible(False) # quito la línea de la derecha\n",
    "plt.gca().spines[\"top\"].set_visible(False) # quito la línea de arriba;"
   ]
  },
  {
   "cell_type": "markdown",
   "metadata": {},
   "source": [
    "2. ¿Cuál es la relación entre el precio y la calificación promedio de los productos?"
   ]
  },
  {
   "cell_type": "code",
   "execution_count": 62,
   "metadata": {},
   "outputs": [
    {
     "data": {
      "image/png": "[encoded data removed]",
      "text/plain": [
       "<Figure size 432x288 with 1 Axes>"
      ]
     },
     "metadata": {
      "needs_background": "light"
     },
     "output_type": "display_data"
    }
   ],
   "source": [
    "#Gráfico de regresión, porque muestra la relación entre las dos variables, además de la línea de regresión, que muestra la tendencia general de los datos.\n",
    "sns.regplot( x='price', y='mean_product_ratings_count', data=df, line_kws={'color':'black', 'linewidth':1})\n",
    "plt.title(\"Relación Precio - Calificación\", fontsize = 12)\n",
    "plt.xlabel(\"Precio\", fontsize = 10)\n",
    "plt.ylabel(\"Calificación\", fontsize = 10)\n",
    "plt.gca().spines['right'].set_visible(False)\n",
    "plt.gca().spines[\"top\"].set_visible(False)"
   ]
  },
  {
   "cell_type": "markdown",
   "metadata": {},
   "source": [
    "3. ¿Qué porcentaje de productos tiene el distintivo \"Producto local\"?"
   ]
  },
  {
   "cell_type": "code",
   "execution_count": 63,
   "metadata": {},
   "outputs": [
    {
     "data": {
      "text/plain": [
       "array(['no', 'si'], dtype=object)"
      ]
     },
     "execution_count": 63,
     "metadata": {},
     "output_type": "execute_result"
    }
   ],
   "source": [
    "#Veo los valores únicos que tiene la columna\n",
    "df['badge_local_product'].unique()"
   ]
  },
  {
   "cell_type": "code",
   "execution_count": 64,
   "metadata": {},
   "outputs": [],
   "source": [
    "#Utilizo un pie para ver ese distribución porcentual\n",
    "#Primero defino una variable que cuente la cantidad de 'si' y de 'no' que hay en la columna\n",
    "badge=df['badge_local_product'].value_counts()\n",
    "#Guardo las etiquetas en una variable, será 'si' y 'no'\n",
    "labels_pie=badge.index\n",
    "#Guardo los datos que formarán el pie, los valores de badge (cuántos si ycuántos no)\n",
    "sizes=badge.values"
   ]
  },
  {
   "cell_type": "code",
   "execution_count": 65,
   "metadata": {},
   "outputs": [
    {
     "data": {
      "image/png": "[encoded data removed]",
      "text/plain": [
       "<Figure size 432x288 with 1 Axes>"
      ]
     },
     "metadata": {},
     "output_type": "display_data"
    }
   ],
   "source": [
    "#Estas tres líneas son para obtener un fondo blanco\n",
    "fig, ax = plt.subplots()\n",
    "fig.patch.set_facecolor('white')  # Fondo blanco para la figura\n",
    "ax.set_facecolor('white')  # Fondo blanco para el eje\n",
    "\n",
    "plt.pie(badge, labels=labels_pie, autopct= '%1.1f%%');"
   ]
  },
  {
   "cell_type": "markdown",
   "metadata": {},
   "source": [
    "4.  ¿Qué porcentaje de productos tiene el distintivo \"Buena calidad del producto\"."
   ]
  },
  {
   "cell_type": "code",
   "execution_count": 66,
   "metadata": {},
   "outputs": [
    {
     "data": {
      "text/plain": [
       "array(['buena', 'excelente'], dtype=object)"
      ]
     },
     "execution_count": 66,
     "metadata": {},
     "output_type": "execute_result"
    }
   ],
   "source": [
    "#veo los valores únicos de la columna\n",
    "df['badge_product_quality'].unique()"
   ]
  },
  {
   "cell_type": "code",
   "execution_count": 67,
   "metadata": {},
   "outputs": [],
   "source": [
    "#Utilizo un pie para ver ese distribución porcentual\n",
    "#Primero defino una variable que cuente la cantidad de 'buena' y de 'excelente' que hay en la columna\n",
    "quality=df['badge_product_quality'].value_counts()\n",
    "labels_quality=quality.index"
   ]
  },
  {
   "cell_type": "code",
   "execution_count": 68,
   "metadata": {},
   "outputs": [
    {
     "data": {
      "image/png": "[encoded data removed]",
      "text/plain": [
       "<Figure size 432x288 with 1 Axes>"
      ]
     },
     "metadata": {},
     "output_type": "display_data"
    }
   ],
   "source": [
    "plt.pie(quality, labels=labels_quality, autopct='%1.1f%%');"
   ]
  },
  {
   "cell_type": "markdown",
   "metadata": {},
   "source": [
    "5.  ¿Cómo se distribuyen los precios de los productos en función de si se utilizan anuncios promocionales (`uses_ad_boosts`) o no?"
   ]
  },
  {
   "cell_type": "code",
   "execution_count": 70,
   "metadata": {},
   "outputs": [
    {
     "data": {
      "image/png": "[encoded data removed]",
      "text/plain": [
       "<Figure size 432x288 with 1 Axes>"
      ]
     },
     "metadata": {
      "needs_background": "light"
     },
     "output_type": "display_data"
    }
   ],
   "source": [
    "#Utilizo un histplot, con los precios en X, la cantidad en Y y la condición en hue\n",
    "sns.histplot(x='price', hue='uses_ad_boosts', data=df);"
   ]
  },
  {
   "cell_type": "markdown",
   "metadata": {},
   "source": [
    "6. ¿Existe una relación entre el uso de anuncios y las unidades vendidas?"
   ]
  },
  {
   "cell_type": "code",
   "execution_count": 71,
   "metadata": {},
   "outputs": [
    {
     "data": {
      "text/plain": [
       "100.0      254\n",
       "1000.0     214\n",
       "5000.0     100\n",
       "10000.0     83\n",
       "20000.0     44\n",
       "          ... \n",
       "2175.0       1\n",
       "21420.0      1\n",
       "6673.0       1\n",
       "4525.0       1\n",
       "60000.0      1\n",
       "Name: mean_units_sold_per_product, Length: 103, dtype: int64"
      ]
     },
     "execution_count": 71,
     "metadata": {},
     "output_type": "execute_result"
    }
   ],
   "source": [
    "df['mean_units_sold_per_product'].value_counts()"
   ]
  },
  {
   "cell_type": "code",
   "execution_count": 74,
   "metadata": {},
   "outputs": [
    {
     "data": {
      "image/png": "[encoded data removed]",
      "text/plain": [
       "<Figure size 432x288 with 1 Axes>"
      ]
     },
     "metadata": {
      "needs_background": "light"
     },
     "output_type": "display_data"
    }
   ],
   "source": [
    "#Utilizo un histplot para ver la distribución en bins\n",
    "sns.histplot(x='mean_units_sold_per_product', hue='uses_ad_boosts', data=df, bins=20);"
   ]
  },
  {
   "cell_type": "markdown",
   "metadata": {},
   "source": [
    "7. ¿Cuál es la distribución de las calificaciones de los empleados (`rating_y`) para los productos que tienen el distintivo \"Buena calidad del producto\" (`badge_product_quality`) y para los que tienen 'excelente calidad del producto'? Haced que las dos gráficas tengan la misma escala en los dos ejes."
   ]
  },
  {
   "cell_type": "code",
   "execution_count": 76,
   "metadata": {},
   "outputs": [
    {
     "data": {
      "text/plain": [
       "array(['buena', 'excelente'], dtype=object)"
      ]
     },
     "execution_count": 76,
     "metadata": {},
     "output_type": "execute_result"
    }
   ],
   "source": [
    "#Comrpuebo los valores únicos\n",
    "df['badge_product_quality'].unique()"
   ]
  },
  {
   "cell_type": "code",
   "execution_count": 96,
   "metadata": {},
   "outputs": [
    {
     "data": {
      "text/plain": [
       "Text(0.5, 1.0, 'Distribución excelente')"
      ]
     },
     "execution_count": 96,
     "metadata": {},
     "output_type": "execute_result"
    },
    {
     "data": {
      "image/png": "[encoded data removed]",
      "text/plain": [
       "<Figure size 1440x360 with 2 Axes>"
      ]
     },
     "metadata": {
      "needs_background": "light"
     },
     "output_type": "display_data"
    }
   ],
   "source": [
    "#Creo dos gráficos: uno para ver la distribución de 'buena' y otro para ver la distribución de 'excelente'. Hago dos variables, que serán el data de cada gráfico\n",
    "good=df[df['badge_product_quality']=='buena']\n",
    "excelent=df[df['badge_product_quality']=='excelente']\n",
    "\n",
    "#Lienzo para dos gráficos\n",
    "fig, axes=plt.subplots(nrows=2, ncols=1, figsize=(20,5), sharex=True)\n",
    "\n",
    "#Gráfico para 'buena'\n",
    "sns.histplot(x='rating_y', data=good, ax=axes[0])\n",
    "\n",
    "#Gráfico para 'excelente'\n",
    "sns.histplot(x='rating_y', data=excelent, ax=axes[1])\n",
    "\n",
    "#Misma escala para ambos gráficos\n",
    "#Encuentra los límites comunes, de los ejes X e Y\n",
    "x_min=min(good['rating_y'].min(), excelent['rating_y'].min()) #guarda el mínimo de X de cada gráfico\n",
    "x_max=max(good['rating_y'].max(), excelent['rating_y'].max()) #guarda el máximo de X de cada gráfico\n",
    "y_max=max(axes[0].get_ylim()[1], axes[1].get_ylim()[1]) #guarda el máximo de Y de cada gráfico\n",
    "#Establezco los mismos límites en ambos subplots\n",
    "for i in axes:\n",
    "    ax.set_xlim(x_min, x_max) #set X entre el mínimo y máximo que sacó en x_min\n",
    "    ax.set_ylim(0, y_max) #set Y entre el 0 y el máximo que sacó en y_min\n",
    "\n",
    "#Añado títulos para mejor distinción\n",
    "axes[0].set_title('Distribución buena')\n",
    "axes[1].set_title('Distribución excelente')"
   ]
  },
  {
   "cell_type": "markdown",
   "metadata": {},
   "source": [
    "8. ¿Qué países reciben más productos de este conjunto de datos? Muestra un gráfico de barras horizontales."
   ]
  },
  {
   "cell_type": "code",
   "execution_count": 86,
   "metadata": {},
   "outputs": [
    {
     "data": {
      "text/plain": [
       "<AxesSubplot:xlabel='count', ylabel='origin_country'>"
      ]
     },
     "execution_count": 86,
     "metadata": {},
     "output_type": "execute_result"
    },
    {
     "data": {
      "image/png": "[encoded data removed]",
      "text/plain": [
       "<Figure size 432x288 with 1 Axes>"
      ]
     },
     "metadata": {
      "needs_background": "light"
     },
     "output_type": "display_data"
    }
   ],
   "source": [
    "#Utilizo un countplot porque voy a contar categóricas\n",
    "#Pongo en X el conteo para que devuelva barras horizontales\n",
    "sns.countplot(y='origin_country', data=df)"
   ]
  },
  {
   "cell_type": "markdown",
   "metadata": {},
   "source": [
    "9. ¿Cómo varía el precio promedio de los productos por país de origen?"
   ]
  },
  {
   "cell_type": "code",
   "execution_count": 89,
   "metadata": {},
   "outputs": [
    {
     "data": {
      "image/png": "[encoded data removed]",
      "text/plain": [
       "<Figure size 432x288 with 1 Axes>"
      ]
     },
     "metadata": {
      "needs_background": "light"
     },
     "output_type": "display_data"
    }
   ],
   "source": [
    "#Utilizo un barplot para poder comparar fácil y visualmente el precio medio según el país\n",
    "#Primero calculo la media de precio por país\n",
    "mean_country=df.groupby('origin_country')['price'].mean()\n",
    "#Creo el gráfico\n",
    "sns.barplot(x='origin_country', y='price', data=df);\n"
   ]
  },
  {
   "cell_type": "markdown",
   "metadata": {},
   "source": [
    "10. ¿Cuál es la relación entre el precio de envío y las unidades vendidas?"
   ]
  },
  {
   "cell_type": "code",
   "execution_count": 91,
   "metadata": {},
   "outputs": [
    {
     "data": {
      "image/png": "[encoded data removed]",
      "text/plain": [
       "<Figure size 432x288 with 1 Axes>"
      ]
     },
     "metadata": {
      "needs_background": "light"
     },
     "output_type": "display_data"
    }
   ],
   "source": [
    "#Utilizo un regplot para ver la relación y cómo de dispersos están los datos\n",
    "sns.regplot(x='retail_price', y='units_sold', data=df);"
   ]
  },
  {
   "cell_type": "markdown",
   "metadata": {},
   "source": [
    "11. Compara diferentes distribuciones de precios de productos en función de si tienen el distintivo \"Producto local\" o \"Buena calidad del producto\". Tendréis que crear dos gráficas en un subplot, en la primera poner los precios de los productos locales (\"badge_local_product\")."
   ]
  },
  {
   "cell_type": "code",
   "execution_count": 92,
   "metadata": {},
   "outputs": [
    {
     "data": {
      "text/plain": [
       "array(['no', 'si'], dtype=object)"
      ]
     },
     "execution_count": 92,
     "metadata": {},
     "output_type": "execute_result"
    }
   ],
   "source": [
    "#Veo los valores únicos que tiene la columna\n",
    "df['badge_local_product'].unique()"
   ]
  },
  {
   "cell_type": "code",
   "execution_count": 93,
   "metadata": {},
   "outputs": [
    {
     "data": {
      "text/plain": [
       "array(['buena', 'excelente'], dtype=object)"
      ]
     },
     "execution_count": 93,
     "metadata": {},
     "output_type": "execute_result"
    }
   ],
   "source": [
    "#Veo los valores únicos que tiene la columna\n",
    "df['badge_product_quality'].unique()"
   ]
  },
  {
   "cell_type": "code",
   "execution_count": 105,
   "metadata": {},
   "outputs": [
    {
     "data": {
      "image/png": "[encoded data removed]",
      "text/plain": [
       "<Figure size 864x360 with 2 Axes>"
      ]
     },
     "metadata": {
      "needs_background": "light"
     },
     "output_type": "display_data"
    }
   ],
   "source": [
    "#Creo variable para guardar df filtrando donde 'badge_local_product' sea sí\n",
    "df_badge=df[df['badge_local_product']=='si']\n",
    "#Creo variable para guardar df filtrando donde 'badge_product_quality' sea buena\n",
    "df_good_quality=df[df['badge_product_quality']=='buena']\n",
    "\n",
    "#Creo los gráficos\n",
    "fig, axes=plt.subplots(nrows=1, ncols=2, figsize=(12,5))\n",
    "axes[0].hist(df_badge['price'], bins=20, color='lightblue')\n",
    "axes[1].hist(df_good_quality['price'], bins=20, color='lightgreen');"
   ]
  }
 ],
 "metadata": {
  "kernelspec": {
   "display_name": "Python 3 (ipykernel)",
   "language": "python",
   "name": "python3"
  },
  "language_info": {
   "codemirror_mode": {
    "name": "ipython",
    "version": 3
   },
   "file_extension": ".py",
   "mimetype": "text/x-python",
   "name": "python",
   "nbconvert_exporter": "python",
   "pygments_lexer": "ipython3",
   "version": "3.9.7"
  },
  "toc": {
   "base_numbering": 1,
   "nav_menu": {},
   "number_sections": true,
   "sideBar": true,
   "skip_h1_title": false,
   "title_cell": "Table of Contents",
   "title_sidebar": "Contents",
   "toc_cell": true,
   "toc_position": {
    "height": "calc(100% - 180px)",
    "left": "10px",
    "top": "150px",
    "width": "294px"
   },
   "toc_section_display": true,
   "toc_window_display": false
  }
 },
 "nbformat": 4,
 "nbformat_minor": 2
}
