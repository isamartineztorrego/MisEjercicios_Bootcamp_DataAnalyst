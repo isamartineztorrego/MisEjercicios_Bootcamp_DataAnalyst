{
 "cells": [
  {
   "cell_type": "code",
   "execution_count": 2,
   "metadata": {},
   "outputs": [],
   "source": [
    "import numpy as np"
   ]
  },
  {
   "cell_type": "markdown",
   "metadata": {},
   "source": [
    "### Creación de arrays\n",
    "\n",
    "1.  Genera un *array* bidimensional de 4 x 3 con valores aleatorios enteros entre el 34 y el 98. Una vez creado cada array comprueba las dimensiones y los tipos de datos que tenemos en el array. \n"
   ]
  },
  {
   "cell_type": "code",
   "execution_count": 6,
   "metadata": {},
   "outputs": [
    {
     "name": "stdout",
     "output_type": "stream",
     "text": [
      "El array es:\n",
      "[[79 82 55]\n",
      " [49 87 76]\n",
      " [53 93 73]\n",
      " [66 72 66]]\n",
      "\n",
      "Las dimensiones de este array son: 2\n",
      "El tipo de datos de este array es: int64\n"
     ]
    }
   ],
   "source": [
    "#Creo el array\n",
    "array_random_bi=np.random.randint(34,99, (4,3))\n",
    "print(f'El array es:\\n{array_random_bi}\\n')\n",
    "\n",
    "#Compruebo dimensiones\n",
    "print(f'Las dimensiones de este array son: {array_random_bi.ndim}')\n",
    "\n",
    "#Compruebo tipos de datos\n",
    "print(f'El tipo de datos de este array es: {array_random_bi.dtype}')"
   ]
  },
  {
   "cell_type": "markdown",
   "metadata": {},
   "source": [
    "2. Crea dos *arrays* (unidimensional, bidimensional) usando el método `np.array()`. \n",
    "\n",
    "    Las listas para crear los *arrays* son las siguientes\n",
    "\n",
    "    ```python\n",
    "    lista1 = [34,56,71,98, 10]\n",
    "    lista2 = [[23,45,89, 56], [12,43,82,44]]\n",
    "    ```\n",
    "\n",
    "    **Bonus** Haz una pequeña descripción de cada *array* usando los métodos de exploración de *arrays* que hemos aprendido.\n",
    "\n"
   ]
  },
  {
   "cell_type": "code",
   "execution_count": null,
   "metadata": {},
   "outputs": [
    {
     "name": "stdout",
     "output_type": "stream",
     "text": [
      "Este es el array uni: [34 56 71 98 10]\n",
      "Este es el array bi:\n",
      " [[23 45 89 56]\n",
      " [12 43 82 44]]\n"
     ]
    }
   ],
   "source": [
    "lista1 = [34,56,71,98, 10]\n",
    "array_uni=np.array(lista1)\n",
    "print(f'Este es el array uni: {array_uni}')\n",
    "\n",
    "lista2 = [[23,45,89, 56], [12,43,82,44]]\n",
    "array_bi=np.array(lista2)\n",
    "print(f'Este es el array bi:\\n {array_bi}')"
   ]
  },
  {
   "cell_type": "code",
   "execution_count": null,
   "metadata": {},
   "outputs": [
    {
     "name": "stdout",
     "output_type": "stream",
     "text": [
      "El array uni es: [34 56 71 98 10]\n",
      "El array uni tiene la forma: (5,)\n",
      "El array uni tiene 1 dimensiones\n",
      "El array uni tiene 5 elementos\n",
      "El array uni tipo el tipo de datos: int64\n"
     ]
    }
   ],
   "source": [
    "#Descripción del array unidimensional\n",
    "print(f'El array uni es: {array_uni}')\n",
    "print(f'El array uni tiene la forma: {array_uni.shape}')\n",
    "print(f'El array uni tiene {array_uni.ndim} dimensiones')\n",
    "print(f'El array uni tiene {array_uni.size} elementos')\n",
    "print(f'El array uni tiene el tipo de datos: {array_uni.dtype}')"
   ]
  },
  {
   "cell_type": "code",
   "execution_count": null,
   "metadata": {},
   "outputs": [
    {
     "name": "stdout",
     "output_type": "stream",
     "text": [
      "El array bi es:\n",
      "[[23 45 89 56]\n",
      " [12 43 82 44]]\n",
      "El array bi tiene la forma: (2, 4)\n",
      "El array bi tiene 2 dimensiones\n",
      "El array bi tiene 8 elementos\n",
      "El array bi tiene el tipo de datos: int64\n"
     ]
    }
   ],
   "source": [
    "#Descripción del array bidimensional\n",
    "print(f'El array bi es:\\n{array_bi}')\n",
    "print(f'El array bi tiene la forma: {array_bi.shape}')\n",
    "print(f'El array bi tiene {array_bi.ndim} dimensiones')\n",
    "print(f'El array bi tiene {array_bi.size} elementos')\n",
    "print(f'El array bi tiene el tipo de datos: {array_bi.dtype}')"
   ]
  },
  {
   "cell_type": "markdown",
   "metadata": {},
   "source": [
    "### Indexación"
   ]
  },
  {
   "cell_type": "markdown",
   "metadata": {},
   "source": [
    "1. Crea un *array* unidimensional con 50 elementos con el método que prefieras y extrae: \n",
    "\n",
    "    - El primer elemento.\n",
    "\n",
    "\n",
    "    - Los elementos que están en posición impar.\n",
    "\n",
    "\n",
    "    - Los cuatro primeros elementos.\n",
    "\n",
    "\n",
    "    - Los últimos tres elementos.\n",
    "\n",
    "\n",
    "    - Los elementos entre el 4 y el 8 (incluido). "
   ]
  },
  {
   "cell_type": "code",
   "execution_count": 3,
   "metadata": {},
   "outputs": [
    {
     "name": "stdout",
     "output_type": "stream",
     "text": [
      "El array uni es:\n",
      "[ 1  2  3  4  5  6  7  8  9 10 11 12 13 14 15 16 17 18 19 20 21 22 23 24\n",
      " 25 26 27 28 29 30 31 32 33 34 35 36 37 38 39 40 41 42 43 44 45 46 47 48\n",
      " 49 50]\n",
      "\n",
      "El primer elemento es: 1\n",
      "\n",
      "Los elementos en posición impar son:\n",
      "[ 2  4  6  8 10 12 14 16 18 20 22 24 26 28 30 32 34 36 38 40 42 44 46 48\n",
      " 50]\n",
      "\n",
      "Los cuatro primeros elementos son:\n",
      "[1 2 3 4]\n",
      "\n",
      "Los tres últimos elementos son:\n",
      "[48 49 50]\n",
      "\n",
      "Los elementos del 4 al 8 incluido son:\n",
      "[5 6 7 8 9]\n"
     ]
    }
   ],
   "source": [
    "#Creo array uni random\n",
    "array_uni=np.arange(1,51)\n",
    "print(f'El array uni es:\\n{array_uni}\\n')\n",
    "\n",
    "#Selecciono el primer elemento\n",
    "print(f'El primer elemento es: {array_uni[0]}\\n')\n",
    "\n",
    "#Selecciono los elementos en posición impar\n",
    "print(f'Los elementos en posición impar son:\\n{array_uni[1::2]}\\n')\n",
    "\n",
    "#Selecciono los cuatro primeros elementos\n",
    "print(f'Los cuatro primeros elementos son:\\n{array_uni[:4]}\\n')\n",
    "\n",
    "#Selecciono los tres últimos elementos\n",
    "print(f'Los tres últimos elementos son:\\n{array_uni[-3:]}\\n')\n",
    "\n",
    "#Selecciono los elementos entre el 4 y el 8 incluido\n",
    "print(f'Los elementos del 4 al 8 incluido son:\\n{array_uni[4:9]}')"
   ]
  },
  {
   "cell_type": "markdown",
   "metadata": {},
   "source": [
    "2. Crea un *array* de dos dimensiones de 4 x 5 con el método que prefieras y extrae:\n",
    "\n",
    "    - La primera fila y todas las columnas.\n",
    "\n",
    "\n",
    "    - Todas las filas pares.\n",
    "\n",
    "\n",
    "    - La primera columna y todas las filas.\n"
   ]
  },
  {
   "cell_type": "code",
   "execution_count": 4,
   "metadata": {},
   "outputs": [
    {
     "name": "stdout",
     "output_type": "stream",
     "text": [
      "El array bi es:\n",
      "[[41 49 64 35 58]\n",
      " [28  3 66 75 66]\n",
      " [11 16 20 13 31]\n",
      " [21 25 28 51 49]]\n",
      "\n",
      "La fila 1, con todas las columnas es:\n",
      "[41 49 64 35 58]\n",
      "\n",
      "Las filas pares son:\n",
      "[[41 49 64 35 58]\n",
      " [11 16 20 13 31]]\n",
      "\n",
      "La primera columna de todas las filas es:\n",
      "[41 28 11 21]\n"
     ]
    }
   ],
   "source": [
    "#Creo array bi random, de 4x5, con números enteros de 0 a 99\n",
    "array_bi=np.random.randint(0,100, (4,5))\n",
    "print(f'El array bi es:\\n{array_bi}\\n')\n",
    "\n",
    "#Selecciono la fila 1\n",
    "print(f'La fila 1, con todas las columnas es:\\n{array_bi[0]}\\n')\n",
    "\n",
    "#Selecciono todas las filas pares\n",
    "print(f'Las filas pares son:\\n{array_bi[::2]}\\n')\n",
    "\n",
    "#Selecciono la primera columna de todas las filas\n",
    "print(f'La primera columna de todas las filas es:\\n{array_bi[:,0]}')"
   ]
  },
  {
   "cell_type": "markdown",
   "metadata": {},
   "source": [
    "### Filtros y operaciones"
   ]
  },
  {
   "cell_type": "markdown",
   "metadata": {},
   "source": [
    "1. Crea un *array* bidimensional con 20 elementos aleatrorios entre 0 y 50 con el método que prefieras y: \n",
    "\n",
    "    - Crea una mascara o filtro donde los valores mayores a 30 y menores a 10 se reemplace por \"objetivo\" y el resto por \"no es mi objetivo\".\n",
    "\n",
    "\n",
    "    - Los valores de mi array bidimensional multiplicalos por el escalar 10.\n"
   ]
  },
  {
   "cell_type": "code",
   "execution_count": null,
   "metadata": {},
   "outputs": [
    {
     "name": "stdout",
     "output_type": "stream",
     "text": [
      "El array es:\n",
      "[[35 42 18 34]\n",
      " [ 0 31  0 42]\n",
      " [ 0 48 41 49]\n",
      " [40  1  7 29]\n",
      " [26 41 18 41]]\n",
      "\n",
      "Cumple condición:\n",
      "[['objetivo' 'objetivo' 'no es mi objetivo' 'objetivo']\n",
      " ['objetivo' 'objetivo' 'objetivo' 'objetivo']\n",
      " ['objetivo' 'objetivo' 'objetivo' 'objetivo']\n",
      " ['objetivo' 'objetivo' 'objetivo' 'no es mi objetivo']\n",
      " ['no es mi objetivo' 'objetivo' 'no es mi objetivo' 'objetivo']]\n",
      "\n",
      "El Resultado de multiplicar por el escalar es:\n",
      "[[350 420 180 340]\n",
      " [  0 310   0 420]\n",
      " [  0 480 410 490]\n",
      " [400  10  70 290]\n",
      " [260 410 180 410]]\n"
     ]
    }
   ],
   "source": [
    "#Creo array bi random, 5x4 (20 elementos),  entre 0 y 50\n",
    "bidi=np.random.randint(0,51, (5,4))\n",
    "print(f'El array es:\\n{bidi}\\n')\n",
    "\n",
    "#Creo filtro para valores mayores de 30 o menores de 10\n",
    "result=np.where((bidi >30) | (bidi <10), 'objetivo', 'no es mi objetivo')\n",
    "print(f'Cumple condición:\\n{result}\\n')\n",
    "\n",
    "#Multiplico por el escalar 10\n",
    "escalar=10\n",
    "result_escalar=np.multiply(bidi, escalar)\n",
    "print(f'El Resultado de multiplicar por el escalar es:\\n{result_escalar}')"
   ]
  },
  {
   "cell_type": "markdown",
   "metadata": {},
   "source": [
    "2. Crea un nuevo *array* de dos dimensiones con la misma forma que el anterior y con el método que prefieras y realiza lo siguiente:\n",
    "\n",
    "    - Suma el primer array con el segundo.\n",
    "\n",
    "\n",
    "    - Aplicar la potencia para el primer array elevado al segundo."
   ]
  },
  {
   "cell_type": "code",
   "execution_count": null,
   "metadata": {},
   "outputs": [
    {
     "name": "stdout",
     "output_type": "stream",
     "text": [
      "El primer array es:\n",
      "[[35 42 18 34]\n",
      " [ 0 31  0 42]\n",
      " [ 0 48 41 49]\n",
      " [40  1  7 29]\n",
      " [26 41 18 41]]\n",
      "El nuevo array es:\n",
      "[[3 0 0 4]\n",
      " [3 4 1 3]\n",
      " [1 4 2 0]\n",
      " [1 4 4 1]\n",
      " [2 3 4 4]]\n",
      "\n",
      "El resultado de la suma de ambos arrays es:\n",
      "[[38 42 18 38]\n",
      " [ 3 35  1 45]\n",
      " [ 1 52 43 49]\n",
      " [41  5 11 30]\n",
      " [28 44 22 45]]\n",
      "\n",
      "El resultado del primer array elevado al segundo array es:\n",
      "[[  42875       1       1 1336336]\n",
      " [      0  923521       0   74088]\n",
      " [      0 5308416    1681       1]\n",
      " [     40       1    2401      29]\n",
      " [    676   68921  104976 2825761]]\n"
     ]
    }
   ],
   "source": [
    "print(f'El primer array es:\\n{bidi}')\n",
    "#Creo array bi random, 5x4 (20 elementos),  entre 0 y 5\n",
    "bidimi=np.random.randint(0,5, (5,4))\n",
    "print(f'El nuevo array es:\\n{bidimi}\\n')\n",
    "\n",
    "#Suma\n",
    "sum=np.add(bidi, bidimi)\n",
    "print(f'El resultado de la suma de ambos arrays es:\\n{sum}\\n')\n",
    "\n",
    "#Potencia\n",
    "power=np.power(bidi, bidimi)\n",
    "print(f'El resultado del primer array elevado al segundo array es:\\n{power}')"
   ]
  },
  {
   "cell_type": "markdown",
   "metadata": {},
   "source": [
    "### Funciones"
   ]
  },
  {
   "cell_type": "markdown",
   "metadata": {},
   "source": [
    "1. En este ejercicio vamos a tratar de usar algunos de los métodos aprendidos. \n",
    "\n",
    "    - Crea un *array*, puede ser bidimensional! Eso si, los valores tienen que estar entre 0-100\n",
    "\n",
    "    - Calcula: \n",
    "\n",
    "        - La media de los elementos\n",
    "        - La media de las columnas y redondéalo a dos decimales\n",
    "        - El valor máximo de cada fila\n",
    "        - El valor mínimo de cada fila\n",
    "        - Hay algun valor que sea mayor que 90 en tu *array* \n",
    "        - Donde los podemos encontrar, cuáles son sus índices\n",
    "        - Ordena el *array* de mayor a menor"
   ]
  },
  {
   "cell_type": "code",
   "execution_count": 10,
   "metadata": {},
   "outputs": [
    {
     "name": "stdout",
     "output_type": "stream",
     "text": [
      "El array es:\n",
      "[[20 80 50 92]\n",
      " [86 93 98 37]\n",
      " [68 80 64 18]]\n"
     ]
    }
   ],
   "source": [
    "#Creo array bidi, 3x4, entre 0-100\n",
    "array_funciones=np.random.randint(0,101, (3,4))\n",
    "print(f'El array es:\\n{array_funciones}')"
   ]
  },
  {
   "cell_type": "code",
   "execution_count": 11,
   "metadata": {},
   "outputs": [
    {
     "name": "stdout",
     "output_type": "stream",
     "text": [
      "La media del array es: 65.5\n"
     ]
    }
   ],
   "source": [
    "#Calculo la media de todo el array\n",
    "mean=np.mean(array_funciones)\n",
    "mean_round=np.round(mean, 2)\n",
    "print(f'La media del array es: {mean_round}')"
   ]
  },
  {
   "cell_type": "code",
   "execution_count": 12,
   "metadata": {},
   "outputs": [
    {
     "name": "stdout",
     "output_type": "stream",
     "text": [
      "La media de cada columna es:\n",
      "[58.   84.33 70.67 49.  ]\n"
     ]
    }
   ],
   "source": [
    "#Calculo la media de cada columna\n",
    "mean_col=np.mean(array_funciones, axis=0)\n",
    "mean_col_round=np.round(mean_col, 2)\n",
    "print(f'La media de cada columna es:\\n{mean_col_round}')"
   ]
  },
  {
   "cell_type": "code",
   "execution_count": 13,
   "metadata": {},
   "outputs": [
    {
     "name": "stdout",
     "output_type": "stream",
     "text": [
      "La media de cada fila es:\n",
      "[60.5 78.5 57.5]\n"
     ]
    }
   ],
   "source": [
    "#Otra forma de calcular la media redondeada, en un sólo paso\n",
    "mean_fil_round=np.round(np.mean(array_funciones, axis=1), 2)\n",
    "print(f'La media de cada fila es:\\n{mean_fil_round}')"
   ]
  },
  {
   "cell_type": "code",
   "execution_count": null,
   "metadata": {},
   "outputs": [
    {
     "name": "stdout",
     "output_type": "stream",
     "text": [
      "El valor máximo de cada fila es:\n",
      "[47 29 92]\n"
     ]
    }
   ],
   "source": [
    "#Calculo el máximo de cada fila\n",
    "max=np.max(array_funciones, axis=1)\n",
    "print(f'El valor máximo de cada fila es:\\n{max}')"
   ]
  },
  {
   "cell_type": "code",
   "execution_count": null,
   "metadata": {},
   "outputs": [
    {
     "name": "stdout",
     "output_type": "stream",
     "text": [
      "El valor mínimo de cada fila es:\n",
      "[ 3  2 64]\n"
     ]
    }
   ],
   "source": [
    "#Calculo el mínimo de cada fila\n",
    "print(f'El valor mínimo de cada fila es:\\n{np.min(array_funciones, axis=1)}')"
   ]
  },
  {
   "cell_type": "code",
   "execution_count": 14,
   "metadata": {},
   "outputs": [
    {
     "name": "stdout",
     "output_type": "stream",
     "text": [
      "¿Hay algún valor mayor que 90?: True\n"
     ]
    }
   ],
   "source": [
    "#¿Hay algún valor mayor que 90 en el array?\n",
    "mayor_90=np.any(array_funciones >90)\n",
    "print(f'¿Hay algún valor mayor que 90?: {mayor_90}')"
   ]
  },
  {
   "cell_type": "code",
   "execution_count": 15,
   "metadata": {},
   "outputs": [
    {
     "name": "stdout",
     "output_type": "stream",
     "text": [
      "¿Hay algún valor mayor que 90?: True\n"
     ]
    }
   ],
   "source": [
    "#También puedo averiguarlo con un for\n",
    "for fila in array_funciones:\n",
    "    for valor in fila:\n",
    "        if valor >90:\n",
    "            hay_mayor_90=True\n",
    "            break\n",
    "    if hay_mayor_90:\n",
    "        break\n",
    "print(f'¿Hay algún valor mayor que 90?: {hay_mayor_90}')"
   ]
  },
  {
   "cell_type": "code",
   "execution_count": 16,
   "metadata": {},
   "outputs": [
    {
     "name": "stdout",
     "output_type": "stream",
     "text": [
      "Los índices en los que hay valores mayores a 90 son:(array([0, 1, 1]), array([3, 1, 2]))\n"
     ]
    }
   ],
   "source": [
    "#También lo puedo hacer directamente con un if, sin pasar por un for\n",
    "if mayor_90:\n",
    "    indices_mayor_90=np.where(array_funciones >90)\n",
    "    print(f'Los índices en los que hay valores mayores a 90 son:{indices_mayor_90}')"
   ]
  },
  {
   "cell_type": "code",
   "execution_count": 17,
   "metadata": {},
   "outputs": [
    {
     "name": "stdout",
     "output_type": "stream",
     "text": [
      "Los índices en los que hay valores mayores a 90 son:\n",
      "[(0, 3), (1, 1), (1, 2)]\n"
     ]
    }
   ],
   "source": [
    "#¿Dónde puedo encontrar los valores mayores que 90, cuáles son sus índices?\n",
    "\n",
    "#Creo una lista vacía para guardar los índices que tienen un valor mayor a 90\n",
    "indices_mayores_90=[]\n",
    "#Recorro las filas y, dentro, las columnas\n",
    "for i in range(array_funciones.shape[0]): #range genera una secuencia de números que representan los índices de las filas\n",
    "    for j in range(array_funciones.shape[1]):\n",
    "        if array_funciones[i][j] >90:\n",
    "            indices_mayores_90.append((i,j))\n",
    "\n",
    "print(f'Los índices en los que hay valores mayores a 90 son:\\n{indices_mayores_90}')"
   ]
  },
  {
   "cell_type": "code",
   "execution_count": null,
   "metadata": {},
   "outputs": [
    {
     "name": "stdout",
     "output_type": "stream",
     "text": [
      "El array original es:\n",
      "[[ 3 33 47 13]\n",
      " [19  2  6 29]\n",
      " [64 87 92 83]]\n",
      "\n",
      "El array ordenado de mayor a menor es:\n",
      "[[47 33 13  3]\n",
      " [29 19  6  2]\n",
      " [92 87 83 64]]\n"
     ]
    }
   ],
   "source": [
    "#Ordeno el array de mayor a menor\n",
    "print(f'El array original es:\\n{array_funciones}\\n')\n",
    "print(f'El array ordenado de mayor a menor es:\\n{-np.sort(-array_funciones)}')"
   ]
  },
  {
   "cell_type": "code",
   "execution_count": 18,
   "metadata": {},
   "outputs": [
    {
     "name": "stdout",
     "output_type": "stream",
     "text": [
      "El array origina es:\n",
      "[[20 80 50 92]\n",
      " [86 93 98 37]\n",
      " [68 80 64 18]]\n",
      "el array rodenado de mayor a menor, con un flatten es:\n",
      "[98 93 92 86 80 80 68 64 50 37 20 18]\n"
     ]
    }
   ],
   "source": [
    "#También lo puedo ordenar con un flatten, pero entonces lo paso a 1D\n",
    "print(f'El array origina es:\\n{array_funciones}')\n",
    "\n",
    "array_aplanado=np.sort(array_funciones.flatten())[::-1] #[::-1] invierte el array para obtener el orden de mayor a menor\n",
    "print(f'el array rodenado de mayor a menor, con un flatten es:\\n{array_aplanado}')"
   ]
  }
 ],
 "metadata": {
  "kernelspec": {
   "display_name": "base",
   "language": "python",
   "name": "python3"
  },
  "language_info": {
   "codemirror_mode": {
    "name": "ipython",
    "version": 3
   },
   "file_extension": ".py",
   "mimetype": "text/x-python",
   "name": "python",
   "nbconvert_exporter": "python",
   "pygments_lexer": "ipython3",
   "version": "3.9.7"
  }
 },
 "nbformat": 4,
 "nbformat_minor": 2
}
