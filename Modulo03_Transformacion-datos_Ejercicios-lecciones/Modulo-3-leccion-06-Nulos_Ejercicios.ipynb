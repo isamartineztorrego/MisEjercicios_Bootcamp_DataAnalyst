{
 "cells": [
  {
   "cell_type": "markdown",
   "metadata": {},
   "source": [
    "## Lección 06 Imputación de nulos\n",
    "\n",
    "### Ejercicios"
   ]
  },
  {
   "cell_type": "code",
   "execution_count": 13,
   "metadata": {},
   "outputs": [],
   "source": [
    "# importamos las librerías que necesitamos\n",
    "\n",
    "# Tratamiento de datos\n",
    "# -----------------------------------------------------------------------\n",
    "import pandas as pd\n",
    "import numpy as np\n",
    "\n",
    "# Imputación de nulos usando métodos avanzados estadísticos\n",
    "# -----------------------------------------------------------------------\n",
    "from sklearn.impute import SimpleImputer\n",
    "from sklearn.experimental import enable_iterative_imputer\n",
    "from sklearn.impute import IterativeImputer\n",
    "from sklearn.impute import KNNImputer\n",
    "\n",
    "# Librerías de visualización\n",
    "# -----------------------------------------------------------------------\n",
    "import seaborn as sns\n",
    "import matplotlib.pyplot as plt\n",
    "# Configuración\n",
    "# -----------------------------------------------------------------------\n",
    "pd.set_option('display.max_columns', None) # para poder visualizar todas las columnas de los DataFrames"
   ]
  },
  {
   "cell_type": "markdown",
   "metadata": {},
   "source": [
    "1. Cargad el csv que obtuvimos en los ejercicios de la clase invertida de ayer."
   ]
  },
  {
   "cell_type": "code",
   "execution_count": 14,
   "metadata": {},
   "outputs": [
    {
     "data": {
      "text/html": [
       "<div>\n",
       "<style scoped>\n",
       "    .dataframe tbody tr th:only-of-type {\n",
       "        vertical-align: middle;\n",
       "    }\n",
       "\n",
       "    .dataframe tbody tr th {\n",
       "        vertical-align: top;\n",
       "    }\n",
       "\n",
       "    .dataframe thead th {\n",
       "        text-align: right;\n",
       "    }\n",
       "</style>\n",
       "<table border=\"1\" class=\"dataframe\">\n",
       "  <thead>\n",
       "    <tr style=\"text-align: right;\">\n",
       "      <th></th>\n",
       "      <th>index</th>\n",
       "      <th>title</th>\n",
       "      <th>price</th>\n",
       "      <th>retail_price</th>\n",
       "      <th>price_difference</th>\n",
       "      <th>units_sold</th>\n",
       "      <th>uses_ad_boosts</th>\n",
       "      <th>rating_x</th>\n",
       "      <th>rating_count</th>\n",
       "      <th>rating_five_count</th>\n",
       "      <th>rating_four_count</th>\n",
       "      <th>rating_three_count</th>\n",
       "      <th>rating_two_count</th>\n",
       "      <th>rating_one_count</th>\n",
       "      <th>badge_local_product</th>\n",
       "      <th>badge_product_quality</th>\n",
       "      <th>badge_fast_shipping</th>\n",
       "      <th>tags</th>\n",
       "      <th>product_color</th>\n",
       "      <th>product_variation_size_id</th>\n",
       "      <th>shipping_option_name</th>\n",
       "      <th>shipping_option_price</th>\n",
       "      <th>shipping_is_express</th>\n",
       "      <th>countries_shipped_to</th>\n",
       "      <th>inventory_total</th>\n",
       "      <th>origin_country</th>\n",
       "      <th>merchant_name</th>\n",
       "      <th>merchant_info_subtitle</th>\n",
       "      <th>merchant_rating_count</th>\n",
       "      <th>merchant_rating</th>\n",
       "      <th>merchant_id</th>\n",
       "      <th>product_url</th>\n",
       "      <th>product_id</th>\n",
       "      <th>crawl_month</th>\n",
       "      <th>listed_products</th>\n",
       "      <th>total_units_sold</th>\n",
       "      <th>mean_units_sold_per_product</th>\n",
       "      <th>rating_y</th>\n",
       "      <th>merchant_ratings_count</th>\n",
       "      <th>mean_product_prices</th>\n",
       "      <th>mean_retail_prices</th>\n",
       "      <th>average_discount</th>\n",
       "      <th>mean_discount</th>\n",
       "      <th>mean_product_ratings_count</th>\n",
       "    </tr>\n",
       "  </thead>\n",
       "  <tbody>\n",
       "    <tr>\n",
       "      <th>0</th>\n",
       "      <td>0</td>\n",
       "      <td>2020 Summer Vintage Flamingo Print  Pajamas Se...</td>\n",
       "      <td>16.0</td>\n",
       "      <td>14</td>\n",
       "      <td>2.0</td>\n",
       "      <td>100</td>\n",
       "      <td>0</td>\n",
       "      <td>3.76</td>\n",
       "      <td>54</td>\n",
       "      <td>26.0</td>\n",
       "      <td>8.0</td>\n",
       "      <td>10.0</td>\n",
       "      <td>1.0</td>\n",
       "      <td>9.0</td>\n",
       "      <td>0</td>\n",
       "      <td>0</td>\n",
       "      <td>0</td>\n",
       "      <td>Summer,Fashion,womenunderwearsuit,printedpajam...</td>\n",
       "      <td>white</td>\n",
       "      <td>M</td>\n",
       "      <td>Livraison standard</td>\n",
       "      <td>4</td>\n",
       "      <td>0</td>\n",
       "      <td>34</td>\n",
       "      <td>50</td>\n",
       "      <td>CN</td>\n",
       "      <td>zgrdejia</td>\n",
       "      <td>NaN</td>\n",
       "      <td>568</td>\n",
       "      <td>4.128521</td>\n",
       "      <td>595097d6a26f6e070cb878d1</td>\n",
       "      <td>https://www.wish.com/c/5e9ae51d43d6a96e303acdb0</td>\n",
       "      <td>5e9ae51d43d6a96e303acdb0</td>\n",
       "      <td>2020-08</td>\n",
       "      <td>2</td>\n",
       "      <td>120000</td>\n",
       "      <td>60000.0</td>\n",
       "      <td>4.219</td>\n",
       "      <td>320031.0</td>\n",
       "      <td>9.0</td>\n",
       "      <td>20.0</td>\n",
       "      <td>54.0</td>\n",
       "      <td>54.0</td>\n",
       "      <td>8836.0</td>\n",
       "    </tr>\n",
       "  </tbody>\n",
       "</table>\n",
       "</div>"
      ],
      "text/plain": [
       "   index                                              title  price  \\\n",
       "0      0  2020 Summer Vintage Flamingo Print  Pajamas Se...   16.0   \n",
       "\n",
       "   retail_price  price_difference  units_sold  uses_ad_boosts  rating_x  \\\n",
       "0            14               2.0         100               0      3.76   \n",
       "\n",
       "   rating_count  rating_five_count  rating_four_count  rating_three_count  \\\n",
       "0            54               26.0                8.0                10.0   \n",
       "\n",
       "   rating_two_count  rating_one_count  badge_local_product  \\\n",
       "0               1.0               9.0                    0   \n",
       "\n",
       "   badge_product_quality  badge_fast_shipping  \\\n",
       "0                      0                    0   \n",
       "\n",
       "                                                tags product_color  \\\n",
       "0  Summer,Fashion,womenunderwearsuit,printedpajam...         white   \n",
       "\n",
       "  product_variation_size_id shipping_option_name  shipping_option_price  \\\n",
       "0                         M   Livraison standard                      4   \n",
       "\n",
       "   shipping_is_express  countries_shipped_to  inventory_total origin_country  \\\n",
       "0                    0                    34               50             CN   \n",
       "\n",
       "  merchant_name merchant_info_subtitle  merchant_rating_count  \\\n",
       "0      zgrdejia                    NaN                    568   \n",
       "\n",
       "   merchant_rating               merchant_id  \\\n",
       "0         4.128521  595097d6a26f6e070cb878d1   \n",
       "\n",
       "                                       product_url                product_id  \\\n",
       "0  https://www.wish.com/c/5e9ae51d43d6a96e303acdb0  5e9ae51d43d6a96e303acdb0   \n",
       "\n",
       "  crawl_month  listed_products  total_units_sold  mean_units_sold_per_product  \\\n",
       "0     2020-08                2            120000                      60000.0   \n",
       "\n",
       "   rating_y  merchant_ratings_count  mean_product_prices  mean_retail_prices  \\\n",
       "0     4.219                320031.0                  9.0                20.0   \n",
       "\n",
       "   average_discount  mean_discount  mean_product_ratings_count  \n",
       "0              54.0           54.0                      8836.0  "
      ]
     },
     "execution_count": 14,
     "metadata": {},
     "output_type": "execute_result"
    }
   ],
   "source": [
    "df_leccion_nulos=pd.read_csv('post_leccion04_rating_insight.csv', index_col=0)\n",
    "df_leccion_nulos.head(1)"
   ]
  },
  {
   "cell_type": "markdown",
   "metadata": {},
   "source": [
    "2. ¿Qué columnas tienen nulos?"
   ]
  },
  {
   "cell_type": "code",
   "execution_count": 15,
   "metadata": {},
   "outputs": [
    {
     "data": {
      "text/plain": [
       "rating_five_count             26\n",
       "rating_four_count             26\n",
       "rating_three_count            26\n",
       "rating_two_count              26\n",
       "rating_one_count              26\n",
       "product_color                 21\n",
       "product_variation_size_id      9\n",
       "origin_country                10\n",
       "merchant_name                  2\n",
       "merchant_info_subtitle       184\n",
       "dtype: int64"
      ]
     },
     "execution_count": 15,
     "metadata": {},
     "output_type": "execute_result"
    }
   ],
   "source": [
    "#Veo todas las columnas que tienen nulos y cuántos son\n",
    "col_null=df_leccion_nulos.isnull().sum()[df_leccion_nulos.isnull().sum()>0]\n",
    "col_null"
   ]
  },
  {
   "cell_type": "code",
   "execution_count": 16,
   "metadata": {},
   "outputs": [
    {
     "data": {
      "text/html": [
       "<div>\n",
       "<style scoped>\n",
       "    .dataframe tbody tr th:only-of-type {\n",
       "        vertical-align: middle;\n",
       "    }\n",
       "\n",
       "    .dataframe tbody tr th {\n",
       "        vertical-align: top;\n",
       "    }\n",
       "\n",
       "    .dataframe thead th {\n",
       "        text-align: right;\n",
       "    }\n",
       "</style>\n",
       "<table border=\"1\" class=\"dataframe\">\n",
       "  <thead>\n",
       "    <tr style=\"text-align: right;\">\n",
       "      <th></th>\n",
       "      <th>% nulos</th>\n",
       "    </tr>\n",
       "  </thead>\n",
       "  <tbody>\n",
       "    <tr>\n",
       "      <th>rating_five_count</th>\n",
       "      <td>2.713987</td>\n",
       "    </tr>\n",
       "    <tr>\n",
       "      <th>rating_four_count</th>\n",
       "      <td>2.713987</td>\n",
       "    </tr>\n",
       "    <tr>\n",
       "      <th>rating_three_count</th>\n",
       "      <td>2.713987</td>\n",
       "    </tr>\n",
       "    <tr>\n",
       "      <th>rating_two_count</th>\n",
       "      <td>2.713987</td>\n",
       "    </tr>\n",
       "    <tr>\n",
       "      <th>rating_one_count</th>\n",
       "      <td>2.713987</td>\n",
       "    </tr>\n",
       "    <tr>\n",
       "      <th>product_color</th>\n",
       "      <td>2.192067</td>\n",
       "    </tr>\n",
       "    <tr>\n",
       "      <th>product_variation_size_id</th>\n",
       "      <td>0.939457</td>\n",
       "    </tr>\n",
       "    <tr>\n",
       "      <th>origin_country</th>\n",
       "      <td>1.043841</td>\n",
       "    </tr>\n",
       "    <tr>\n",
       "      <th>merchant_name</th>\n",
       "      <td>0.208768</td>\n",
       "    </tr>\n",
       "    <tr>\n",
       "      <th>merchant_info_subtitle</th>\n",
       "      <td>19.206681</td>\n",
       "    </tr>\n",
       "  </tbody>\n",
       "</table>\n",
       "</div>"
      ],
      "text/plain": [
       "                             % nulos\n",
       "rating_five_count           2.713987\n",
       "rating_four_count           2.713987\n",
       "rating_three_count          2.713987\n",
       "rating_two_count            2.713987\n",
       "rating_one_count            2.713987\n",
       "product_color               2.192067\n",
       "product_variation_size_id   0.939457\n",
       "origin_country              1.043841\n",
       "merchant_name               0.208768\n",
       "merchant_info_subtitle     19.206681"
      ]
     },
     "execution_count": 16,
     "metadata": {},
     "output_type": "execute_result"
    }
   ],
   "source": [
    "#Calculo qué % representan sobre el total de valores de cada columna\n",
    "percentage_null=(df_leccion_nulos.isnull().sum() / df_leccion_nulos.shape[0])*100\n",
    "percentage_null=pd.DataFrame(percentage_null[percentage_null>0], columns=['% nulos'])\n",
    "percentage_null"
   ]
  },
  {
   "cell_type": "markdown",
   "metadata": {},
   "source": [
    "3. Explorad los nulos que hay en el DataFrame.\n",
    "4. Con lo aprendido en la lección de hoy gestiona los nulos de la forma que consideres más correcta. Mañana en clase discutiremos sobre los métodos elegidos."
   ]
  },
  {
   "cell_type": "markdown",
   "metadata": {},
   "source": [
    "#### Columnas categóricas\n",
    "1. Quiero saber qué columnas categóricas tienen nulos, que % del total representan esos nulos y cómo están distribuidos los valores no nulos."
   ]
  },
  {
   "cell_type": "code",
   "execution_count": 17,
   "metadata": {},
   "outputs": [
    {
     "data": {
      "text/plain": [
       "Index(['product_color', 'product_variation_size_id', 'origin_country',\n",
       "       'merchant_name', 'merchant_info_subtitle'],\n",
       "      dtype='object')"
      ]
     },
     "execution_count": 17,
     "metadata": {},
     "output_type": "execute_result"
    }
   ],
   "source": [
    "#Ahora quiero ver las columnas categóricas que tienen nulos y qué % representan sobre el total\n",
    "#1. Guardo las columnas categóricas con nulos en una variable\n",
    "col_cate_null=df_leccion_nulos[df_leccion_nulos.columns[df_leccion_nulos.isnull().any()]].select_dtypes(include='O').columns\n",
    "col_cate_null"
   ]
  },
  {
   "cell_type": "code",
   "execution_count": 18,
   "metadata": {},
   "outputs": [
    {
     "data": {
      "text/plain": [
       "product_color                 2.192067\n",
       "product_variation_size_id     0.939457\n",
       "origin_country                1.043841\n",
       "merchant_name                 0.208768\n",
       "merchant_info_subtitle       19.206681\n",
       "dtype: float64"
      ]
     },
     "execution_count": 18,
     "metadata": {},
     "output_type": "execute_result"
    }
   ],
   "source": [
    "#2. Veo qué % de nulos tiene cada una\n",
    "#Al aplicar .isnull() convierte cada valor en un boolean (Nan es True, y no nulo es False).\n",
    "#Ahora los valores son boolean, por lo que .mean() trata True como 1 y False como 0, por tanto .mean() calcula la proporción de True (valores nuloes) en cada columna\n",
    "col_cate_null_percen=df_leccion_nulos[col_cate_null].isnull().mean()*100\n",
    "col_cate_null_percen"
   ]
  },
  {
   "cell_type": "code",
   "execution_count": 19,
   "metadata": {},
   "outputs": [
    {
     "name": "stdout",
     "output_type": "stream",
     "text": [
      "-------------\n",
      "Columna PRODUCT_COLOR\n"
     ]
    },
    {
     "data": {
      "text/plain": [
       "black           0.187891\n",
       "white           0.159708\n",
       "yellow          0.069937\n",
       "blue            0.068894\n",
       "pink            0.065762\n",
       "                  ...   \n",
       "claret          0.001044\n",
       "pink & white    0.001044\n",
       "tan             0.001044\n",
       "wine red        0.001044\n",
       "whitestripe     0.001044\n",
       "Name: product_color, Length: 83, dtype: float64"
      ]
     },
     "metadata": {},
     "output_type": "display_data"
    },
    {
     "name": "stdout",
     "output_type": "stream",
     "text": [
      "-------------\n",
      "Columna PRODUCT_VARIATION_SIZE_ID\n"
     ]
    },
    {
     "data": {
      "text/plain": [
       "S         0.426931\n",
       "XS        0.217119\n",
       "M         0.129436\n",
       "XXS       0.054280\n",
       "L         0.029228\n",
       "            ...   \n",
       "S..       0.001044\n",
       "30 cm     0.001044\n",
       "5XL       0.001044\n",
       "Size M    0.001044\n",
       "25-S      0.001044\n",
       "Name: product_variation_size_id, Length: 72, dtype: float64"
      ]
     },
     "metadata": {},
     "output_type": "display_data"
    },
    {
     "name": "stdout",
     "output_type": "stream",
     "text": [
      "-------------\n",
      "Columna ORIGIN_COUNTRY\n"
     ]
    },
    {
     "data": {
      "text/plain": [
       "CN    0.964509\n",
       "US    0.018789\n",
       "VE    0.003132\n",
       "SG    0.002088\n",
       "AT    0.001044\n",
       "Name: origin_country, dtype: float64"
      ]
     },
     "metadata": {},
     "output_type": "display_data"
    },
    {
     "name": "stdout",
     "output_type": "stream",
     "text": [
      "-------------\n",
      "Columna MERCHANT_NAME\n"
     ]
    },
    {
     "data": {
      "text/plain": [
       "sjhdstoer                      0.007307\n",
       "greatexpectationstechnology    0.007307\n",
       "sangboostore                   0.007307\n",
       "广州唯适唯服饰有限公司                    0.006263\n",
       "sklioppp                       0.006263\n",
       "                                 ...   \n",
       "abcdyyy                        0.001044\n",
       "xiaoxia0914                    0.001044\n",
       "fomalhautjewelry               0.001044\n",
       "alicadubecka                   0.001044\n",
       "frome                          0.001044\n",
       "Name: merchant_name, Length: 670, dtype: float64"
      ]
     },
     "metadata": {},
     "output_type": "display_data"
    },
    {
     "name": "stdout",
     "output_type": "stream",
     "text": [
      "-------------\n",
      "Columna MERCHANT_INFO_SUBTITLE\n"
     ]
    },
    {
     "data": {
      "text/plain": [
       "86 % avis positifs                 0.091858\n",
       "85 % avis positifs                 0.082463\n",
       "88 % avis positifs                 0.065762\n",
       "84 % avis positifs                 0.062630\n",
       "87 % avis positifs                 0.062630\n",
       "                                     ...   \n",
       "คำติชมเชิงบวก 83%                  0.001044\n",
       "83% Feedback positivo              0.001044\n",
       "88% retroalimentación positiva     0.001044\n",
       "86% Positive Feedback              0.001044\n",
       "74 % avis positifs                 0.001044\n",
       "Name: merchant_info_subtitle, Length: 61, dtype: float64"
      ]
     },
     "metadata": {},
     "output_type": "display_data"
    }
   ],
   "source": [
    "#3. Ahora quiero saber cómo está distribuida cada una de esas columnas, cuánto % de cada valor único tienen.\n",
    "#Hago un for de value_counts\n",
    "for i in col_cate_null:\n",
    "    print(f'-------------\\nColumna {i.upper()}')\n",
    "    display(df_leccion_nulos[i].value_counts() / df_leccion_nulos.shape[0])"
   ]
  },
  {
   "cell_type": "markdown",
   "metadata": {},
   "source": [
    "2. Defino qué regla voy a seguir para cada una de esas columnas:\n",
    "\n",
    "- product_color ➡️ unknown\n",
    "- product_variation_size_id ➡️ moda\n",
    "- origin_country ➡️ moda\n",
    "- merchant_name ➡️ unknown\n",
    "- merchant_info_subtitle ➡️ unknown"
   ]
  },
  {
   "cell_type": "code",
   "execution_count": 20,
   "metadata": {},
   "outputs": [],
   "source": [
    "#Voy a reemplazar los nulos de las columnas categóricas.\n",
    "#1. Creo una variable con las columnas por tipo de sustitución de datos\n",
    "col_unknown=['product_color', 'merchant_name', 'merchant_info_subtitle']\n",
    "col_moda=['product_variation_size_id', 'origin_country']\n",
    "\n",
    "#2. Hago un for para cada cambio\n",
    "for i in col_unknown:\n",
    "    df_leccion_nulos[i]=df_leccion_nulos[i].fillna('unknown')\n",
    "\n",
    "for i in col_moda:\n",
    "    moda=df_leccion_nulos[i].mode()[0]\n",
    "    df_leccion_nulos[i]=df_leccion_nulos[i].fillna(moda)"
   ]
  },
  {
   "cell_type": "markdown",
   "metadata": {},
   "source": [
    "#### Columnas numéricas\n",
    "1. Quiero saber qué columnas numéricas tienen nulos, que % del total representan esos nulos y cómo están distribuidos los valores no nulos."
   ]
  },
  {
   "cell_type": "code",
   "execution_count": 21,
   "metadata": {},
   "outputs": [
    {
     "data": {
      "text/plain": [
       "Index(['rating_five_count', 'rating_four_count', 'rating_three_count',\n",
       "       'rating_two_count', 'rating_one_count'],\n",
       "      dtype='object')"
      ]
     },
     "execution_count": 21,
     "metadata": {},
     "output_type": "execute_result"
    }
   ],
   "source": [
    "#Ahora quiero ver las columnas numéricas que tienen nulos y qué % representan sobre el total\n",
    "#1. Guardo las columnas numéricas con nulos en una variable\n",
    "col_num_null=df_leccion_nulos[df_leccion_nulos.columns[df_leccion_nulos.isnull().any()]].select_dtypes(include=np.number).columns\n",
    "col_num_null"
   ]
  },
  {
   "cell_type": "code",
   "execution_count": 22,
   "metadata": {},
   "outputs": [
    {
     "data": {
      "text/plain": [
       "rating_five_count     2.713987\n",
       "rating_four_count     2.713987\n",
       "rating_three_count    2.713987\n",
       "rating_two_count      2.713987\n",
       "rating_one_count      2.713987\n",
       "dtype: float64"
      ]
     },
     "execution_count": 22,
     "metadata": {},
     "output_type": "execute_result"
    }
   ],
   "source": [
    "#2. Veo qué % de nulos tiene cada una\n",
    "#Al aplicar .isnull() convierte cada valor en un boolean (Nan es True, y no nulo es False).\n",
    "#Ahora los valores son boolean, por lo que .mean() trata True como 1 y False como 0, por tanto .mean() calcula la proporción de True (valores nuloes) en cada columna\n",
    "col_num_null_percen=df_leccion_nulos[col_num_null].isnull().mean()*100\n",
    "col_num_null_percen"
   ]
  },
  {
   "cell_type": "code",
   "execution_count": 23,
   "metadata": {},
   "outputs": [
    {
     "name": "stdout",
     "output_type": "stream",
     "text": [
      "-------------\n",
      "Columna RATING_FIVE_COUNT\n"
     ]
    },
    {
     "data": {
      "text/plain": [
       "3.0       0.035491\n",
       "5.0       0.035491\n",
       "1.0       0.029228\n",
       "2.0       0.027140\n",
       "0.0       0.021921\n",
       "            ...   \n",
       "210.0     0.001044\n",
       "130.0     0.001044\n",
       "351.0     0.001044\n",
       "2089.0    0.001044\n",
       "7337.0    0.001044\n",
       "Name: rating_five_count, Length: 444, dtype: float64"
      ]
     },
     "metadata": {},
     "output_type": "display_data"
    },
    {
     "name": "stdout",
     "output_type": "stream",
     "text": [
      "-------------\n",
      "Columna RATING_FOUR_COUNT\n"
     ]
    },
    {
     "data": {
      "text/plain": [
       "0.0       0.061587\n",
       "1.0       0.060543\n",
       "2.0       0.039666\n",
       "3.0       0.038622\n",
       "4.0       0.035491\n",
       "            ...   \n",
       "850.0     0.001044\n",
       "103.0     0.001044\n",
       "250.0     0.001044\n",
       "468.0     0.001044\n",
       "2647.0    0.001044\n",
       "Name: rating_four_count, Length: 332, dtype: float64"
      ]
     },
     "metadata": {},
     "output_type": "display_data"
    },
    {
     "name": "stdout",
     "output_type": "stream",
     "text": [
      "-------------\n",
      "Columna RATING_THREE_COUNT\n"
     ]
    },
    {
     "data": {
      "text/plain": [
       "0.0       0.090814\n",
       "1.0       0.053236\n",
       "2.0       0.051148\n",
       "5.0       0.032359\n",
       "3.0       0.032359\n",
       "            ...   \n",
       "1148.0    0.001044\n",
       "358.0     0.001044\n",
       "230.0     0.001044\n",
       "327.0     0.001044\n",
       "1643.0    0.001044\n",
       "Name: rating_three_count, Length: 303, dtype: float64"
      ]
     },
     "metadata": {},
     "output_type": "display_data"
    },
    {
     "name": "stdout",
     "output_type": "stream",
     "text": [
      "-------------\n",
      "Columna RATING_TWO_COUNT\n"
     ]
    },
    {
     "data": {
      "text/plain": [
       "0.0      0.125261\n",
       "1.0      0.104384\n",
       "2.0      0.054280\n",
       "3.0      0.038622\n",
       "4.0      0.027140\n",
       "           ...   \n",
       "469.0    0.001044\n",
       "162.0    0.001044\n",
       "189.0    0.001044\n",
       "287.0    0.001044\n",
       "623.0    0.001044\n",
       "Name: rating_two_count, Length: 213, dtype: float64"
      ]
     },
     "metadata": {},
     "output_type": "display_data"
    },
    {
     "name": "stdout",
     "output_type": "stream",
     "text": [
      "-------------\n",
      "Columna RATING_ONE_COUNT\n"
     ]
    },
    {
     "data": {
      "text/plain": [
       "0.0      0.079332\n",
       "1.0      0.067850\n",
       "2.0      0.045929\n",
       "3.0      0.042797\n",
       "4.0      0.038622\n",
       "           ...   \n",
       "52.0     0.001044\n",
       "168.0    0.001044\n",
       "882.0    0.001044\n",
       "440.0    0.001044\n",
       "630.0    0.001044\n",
       "Name: rating_one_count, Length: 260, dtype: float64"
      ]
     },
     "metadata": {},
     "output_type": "display_data"
    }
   ],
   "source": [
    "#3. Ahora quiero saber cómo está distribuida cada una de esas columnas, cuánto % de cada valor único tienen.\n",
    "#Hago un for de value_counts\n",
    "for i in col_num_null:\n",
    "    print(f'-------------\\nColumna {i.upper()}')\n",
    "    display(df_leccion_nulos[i].value_counts() / df_leccion_nulos.shape[0])"
   ]
  },
  {
   "cell_type": "markdown",
   "metadata": {},
   "source": [
    "2. Busco valores atípicos para poder decidir cómo reemplezaré los nulos."
   ]
  },
  {
   "cell_type": "code",
   "execution_count": 24,
   "metadata": {},
   "outputs": [
    {
     "data": {
      "image/png": "[encoded data removed]",
      "text/plain": [
       "<Figure size 1440x720 with 5 Axes>"
      ]
     },
     "metadata": {
      "needs_background": "light"
     },
     "output_type": "display_data"
    }
   ],
   "source": [
    "fig, axes = plt.subplots(nrows = 2, ncols = 3, figsize = (20,10)) \n",
    "\n",
    "axes = axes.flat\n",
    "\n",
    "for indice, col in enumerate(col_num_null):\n",
    "    sns.boxplot(x = col, data = df_leccion_nulos, ax = axes[indice])\n",
    "    \n",
    "plt.tight_layout()\n",
    "fig.delaxes(axes[-1])"
   ]
  },
  {
   "cell_type": "markdown",
   "metadata": {},
   "source": [
    "2. Voy a aplicar `IterativeImputer` y `KNNImputer` para comparar los resultados y decidir cuál es la mejor opción."
   ]
  },
  {
   "cell_type": "code",
   "execution_count": 25,
   "metadata": {},
   "outputs": [
    {
     "data": {
      "text/plain": [
       "rating_five_ii     0\n",
       "rating_four_ii     0\n",
       "rating_three_ii    0\n",
       "rating_two_ii      0\n",
       "rating_one_ii      0\n",
       "dtype: int64"
      ]
     },
     "execution_count": 25,
     "metadata": {},
     "output_type": "execute_result"
    }
   ],
   "source": [
    "#Aplico IterativeImputer\n",
    "#Creo el imputer\n",
    "imputer=IterativeImputer(max_iter=20, random_state=42)\n",
    "#Transformo los datos\n",
    "imputado_ii=imputer.fit_transform(df_leccion_nulos[['rating_five_count', 'rating_four_count', 'rating_three_count', 'rating_two_count', 'rating_one_count']])\n",
    "#Aplico a las columnas (creo nuevas para poder comparar el rdo con KNN)\n",
    "df_leccion_nulos[['rating_five_ii', 'rating_four_ii', 'rating_three_ii', 'rating_two_ii', 'rating_one_ii']]=imputado_ii\n",
    "#Compruebo que no quedan nulos\n",
    "df_leccion_nulos[['rating_five_ii', 'rating_four_ii', 'rating_three_ii', 'rating_two_ii', 'rating_one_ii']].isnull().sum()\n"
   ]
  },
  {
   "cell_type": "code",
   "execution_count": 26,
   "metadata": {},
   "outputs": [
    {
     "data": {
      "text/plain": [
       "rating_five_knn     0\n",
       "rating_four_knn     0\n",
       "rating_three_knn    0\n",
       "rating_two_knn      0\n",
       "rating_one_knn      0\n",
       "dtype: int64"
      ]
     },
     "execution_count": 26,
     "metadata": {},
     "output_type": "execute_result"
    }
   ],
   "source": [
    "#Aplico KNNImputer\n",
    "#Creo el imputer\n",
    "imputer=KNNImputer(n_neighbors=5)\n",
    "#Transformo los datos\n",
    "imputado_knn=imputer.fit_transform(df_leccion_nulos[['rating_five_count', 'rating_four_count', 'rating_three_count', 'rating_two_count', 'rating_one_count']])\n",
    "#Aplico a las columnas (creo nuevas para poder comparar el rdo con IterativeImputer)\n",
    "df_leccion_nulos[['rating_five_knn', 'rating_four_knn', 'rating_three_knn', 'rating_two_knn', 'rating_one_knn']]=imputado_knn\n",
    "#Compruebo que no quedan nulos\n",
    "df_leccion_nulos[['rating_five_knn', 'rating_four_knn', 'rating_three_knn', 'rating_two_knn', 'rating_one_knn']].isnull().sum()\n"
   ]
  },
  {
   "cell_type": "code",
   "execution_count": 27,
   "metadata": {},
   "outputs": [
    {
     "data": {
      "text/html": [
       "<div>\n",
       "<style scoped>\n",
       "    .dataframe tbody tr th:only-of-type {\n",
       "        vertical-align: middle;\n",
       "    }\n",
       "\n",
       "    .dataframe tbody tr th {\n",
       "        vertical-align: top;\n",
       "    }\n",
       "\n",
       "    .dataframe thead th {\n",
       "        text-align: right;\n",
       "    }\n",
       "</style>\n",
       "<table border=\"1\" class=\"dataframe\">\n",
       "  <thead>\n",
       "    <tr style=\"text-align: right;\">\n",
       "      <th></th>\n",
       "      <th>count</th>\n",
       "      <th>mean</th>\n",
       "      <th>std</th>\n",
       "      <th>min</th>\n",
       "      <th>25%</th>\n",
       "      <th>50%</th>\n",
       "      <th>75%</th>\n",
       "      <th>max</th>\n",
       "    </tr>\n",
       "  </thead>\n",
       "  <tbody>\n",
       "    <tr>\n",
       "      <th>rating_five_count</th>\n",
       "      <td>932.0</td>\n",
       "      <td>459.136266</td>\n",
       "      <td>1030.990506</td>\n",
       "      <td>0.0</td>\n",
       "      <td>11.0</td>\n",
       "      <td>85.0</td>\n",
       "      <td>441.000000</td>\n",
       "      <td>11548.0</td>\n",
       "    </tr>\n",
       "    <tr>\n",
       "      <th>rating_five_ii</th>\n",
       "      <td>958.0</td>\n",
       "      <td>459.136266</td>\n",
       "      <td>1016.888973</td>\n",
       "      <td>0.0</td>\n",
       "      <td>12.0</td>\n",
       "      <td>92.0</td>\n",
       "      <td>459.136266</td>\n",
       "      <td>11548.0</td>\n",
       "    </tr>\n",
       "    <tr>\n",
       "      <th>rating_five_knn</th>\n",
       "      <td>958.0</td>\n",
       "      <td>459.136266</td>\n",
       "      <td>1016.888973</td>\n",
       "      <td>0.0</td>\n",
       "      <td>12.0</td>\n",
       "      <td>92.0</td>\n",
       "      <td>459.136266</td>\n",
       "      <td>11548.0</td>\n",
       "    </tr>\n",
       "    <tr>\n",
       "      <th>rating_four_count</th>\n",
       "      <td>932.0</td>\n",
       "      <td>187.835837</td>\n",
       "      <td>413.334583</td>\n",
       "      <td>0.0</td>\n",
       "      <td>5.0</td>\n",
       "      <td>34.5</td>\n",
       "      <td>174.500000</td>\n",
       "      <td>4152.0</td>\n",
       "    </tr>\n",
       "    <tr>\n",
       "      <th>rating_four_ii</th>\n",
       "      <td>958.0</td>\n",
       "      <td>187.835837</td>\n",
       "      <td>407.681135</td>\n",
       "      <td>0.0</td>\n",
       "      <td>5.0</td>\n",
       "      <td>37.5</td>\n",
       "      <td>187.835837</td>\n",
       "      <td>4152.0</td>\n",
       "    </tr>\n",
       "    <tr>\n",
       "      <th>rating_four_knn</th>\n",
       "      <td>958.0</td>\n",
       "      <td>187.835837</td>\n",
       "      <td>407.681135</td>\n",
       "      <td>0.0</td>\n",
       "      <td>5.0</td>\n",
       "      <td>37.5</td>\n",
       "      <td>187.835837</td>\n",
       "      <td>4152.0</td>\n",
       "    </tr>\n",
       "    <tr>\n",
       "      <th>rating_three_count</th>\n",
       "      <td>932.0</td>\n",
       "      <td>142.216738</td>\n",
       "      <td>317.937412</td>\n",
       "      <td>0.0</td>\n",
       "      <td>4.0</td>\n",
       "      <td>26.0</td>\n",
       "      <td>135.000000</td>\n",
       "      <td>2951.0</td>\n",
       "    </tr>\n",
       "    <tr>\n",
       "      <th>rating_three_ii</th>\n",
       "      <td>958.0</td>\n",
       "      <td>142.216738</td>\n",
       "      <td>313.588773</td>\n",
       "      <td>0.0</td>\n",
       "      <td>4.0</td>\n",
       "      <td>28.5</td>\n",
       "      <td>142.216738</td>\n",
       "      <td>2951.0</td>\n",
       "    </tr>\n",
       "    <tr>\n",
       "      <th>rating_three_knn</th>\n",
       "      <td>958.0</td>\n",
       "      <td>142.216738</td>\n",
       "      <td>313.588773</td>\n",
       "      <td>0.0</td>\n",
       "      <td>4.0</td>\n",
       "      <td>28.5</td>\n",
       "      <td>142.216738</td>\n",
       "      <td>2951.0</td>\n",
       "    </tr>\n",
       "    <tr>\n",
       "      <th>rating_two_count</th>\n",
       "      <td>932.0</td>\n",
       "      <td>67.221030</td>\n",
       "      <td>150.257103</td>\n",
       "      <td>0.0</td>\n",
       "      <td>2.0</td>\n",
       "      <td>12.0</td>\n",
       "      <td>64.250000</td>\n",
       "      <td>1410.0</td>\n",
       "    </tr>\n",
       "    <tr>\n",
       "      <th>rating_two_ii</th>\n",
       "      <td>958.0</td>\n",
       "      <td>67.221030</td>\n",
       "      <td>148.201938</td>\n",
       "      <td>0.0</td>\n",
       "      <td>2.0</td>\n",
       "      <td>14.0</td>\n",
       "      <td>67.221030</td>\n",
       "      <td>1410.0</td>\n",
       "    </tr>\n",
       "    <tr>\n",
       "      <th>rating_two_knn</th>\n",
       "      <td>958.0</td>\n",
       "      <td>67.221030</td>\n",
       "      <td>148.201938</td>\n",
       "      <td>0.0</td>\n",
       "      <td>2.0</td>\n",
       "      <td>14.0</td>\n",
       "      <td>67.221030</td>\n",
       "      <td>1410.0</td>\n",
       "    </tr>\n",
       "    <tr>\n",
       "      <th>rating_one_count</th>\n",
       "      <td>932.0</td>\n",
       "      <td>101.693133</td>\n",
       "      <td>211.556774</td>\n",
       "      <td>0.0</td>\n",
       "      <td>4.0</td>\n",
       "      <td>22.0</td>\n",
       "      <td>107.000000</td>\n",
       "      <td>1846.0</td>\n",
       "    </tr>\n",
       "    <tr>\n",
       "      <th>rating_one_ii</th>\n",
       "      <td>958.0</td>\n",
       "      <td>101.693133</td>\n",
       "      <td>208.663174</td>\n",
       "      <td>0.0</td>\n",
       "      <td>4.0</td>\n",
       "      <td>24.5</td>\n",
       "      <td>101.693133</td>\n",
       "      <td>1846.0</td>\n",
       "    </tr>\n",
       "    <tr>\n",
       "      <th>rating_one_knn</th>\n",
       "      <td>958.0</td>\n",
       "      <td>101.693133</td>\n",
       "      <td>208.663174</td>\n",
       "      <td>0.0</td>\n",
       "      <td>4.0</td>\n",
       "      <td>24.5</td>\n",
       "      <td>101.693133</td>\n",
       "      <td>1846.0</td>\n",
       "    </tr>\n",
       "  </tbody>\n",
       "</table>\n",
       "</div>"
      ],
      "text/plain": [
       "                    count        mean          std  min   25%   50%  \\\n",
       "rating_five_count   932.0  459.136266  1030.990506  0.0  11.0  85.0   \n",
       "rating_five_ii      958.0  459.136266  1016.888973  0.0  12.0  92.0   \n",
       "rating_five_knn     958.0  459.136266  1016.888973  0.0  12.0  92.0   \n",
       "rating_four_count   932.0  187.835837   413.334583  0.0   5.0  34.5   \n",
       "rating_four_ii      958.0  187.835837   407.681135  0.0   5.0  37.5   \n",
       "rating_four_knn     958.0  187.835837   407.681135  0.0   5.0  37.5   \n",
       "rating_three_count  932.0  142.216738   317.937412  0.0   4.0  26.0   \n",
       "rating_three_ii     958.0  142.216738   313.588773  0.0   4.0  28.5   \n",
       "rating_three_knn    958.0  142.216738   313.588773  0.0   4.0  28.5   \n",
       "rating_two_count    932.0   67.221030   150.257103  0.0   2.0  12.0   \n",
       "rating_two_ii       958.0   67.221030   148.201938  0.0   2.0  14.0   \n",
       "rating_two_knn      958.0   67.221030   148.201938  0.0   2.0  14.0   \n",
       "rating_one_count    932.0  101.693133   211.556774  0.0   4.0  22.0   \n",
       "rating_one_ii       958.0  101.693133   208.663174  0.0   4.0  24.5   \n",
       "rating_one_knn      958.0  101.693133   208.663174  0.0   4.0  24.5   \n",
       "\n",
       "                           75%      max  \n",
       "rating_five_count   441.000000  11548.0  \n",
       "rating_five_ii      459.136266  11548.0  \n",
       "rating_five_knn     459.136266  11548.0  \n",
       "rating_four_count   174.500000   4152.0  \n",
       "rating_four_ii      187.835837   4152.0  \n",
       "rating_four_knn     187.835837   4152.0  \n",
       "rating_three_count  135.000000   2951.0  \n",
       "rating_three_ii     142.216738   2951.0  \n",
       "rating_three_knn    142.216738   2951.0  \n",
       "rating_two_count     64.250000   1410.0  \n",
       "rating_two_ii        67.221030   1410.0  \n",
       "rating_two_knn       67.221030   1410.0  \n",
       "rating_one_count    107.000000   1846.0  \n",
       "rating_one_ii       101.693133   1846.0  \n",
       "rating_one_knn      101.693133   1846.0  "
      ]
     },
     "execution_count": 27,
     "metadata": {},
     "output_type": "execute_result"
    }
   ],
   "source": [
    "#Comparo con un .describe()\n",
    "df_leccion_nulos[['rating_five_count', 'rating_five_ii',  'rating_five_knn', 'rating_four_count', 'rating_four_ii', 'rating_four_knn', 'rating_three_count', 'rating_three_ii', 'rating_three_knn', 'rating_two_count', 'rating_two_ii', 'rating_two_knn', 'rating_one_count', 'rating_one_ii','rating_one_knn']].describe().T"
   ]
  },
  {
   "cell_type": "markdown",
   "metadata": {},
   "source": [
    "3. Conclusión: veo que puedo utlizar tando `IterativeImputer`como `KNNImputer` porque, en este caso, ambos devuelven las mismas medias y medianas."
   ]
  },
  {
   "cell_type": "markdown",
   "metadata": {},
   "source": [
    "#### Elimino las columnas sobrantes y renombro las elegidas."
   ]
  },
  {
   "cell_type": "code",
   "execution_count": 28,
   "metadata": {},
   "outputs": [
    {
     "data": {
      "text/html": [
       "<div>\n",
       "<style scoped>\n",
       "    .dataframe tbody tr th:only-of-type {\n",
       "        vertical-align: middle;\n",
       "    }\n",
       "\n",
       "    .dataframe tbody tr th {\n",
       "        vertical-align: top;\n",
       "    }\n",
       "\n",
       "    .dataframe thead th {\n",
       "        text-align: right;\n",
       "    }\n",
       "</style>\n",
       "<table border=\"1\" class=\"dataframe\">\n",
       "  <thead>\n",
       "    <tr style=\"text-align: right;\">\n",
       "      <th></th>\n",
       "      <th>index</th>\n",
       "      <th>title</th>\n",
       "      <th>price</th>\n",
       "      <th>retail_price</th>\n",
       "      <th>price_difference</th>\n",
       "      <th>units_sold</th>\n",
       "      <th>uses_ad_boosts</th>\n",
       "      <th>rating_x</th>\n",
       "      <th>rating_count</th>\n",
       "      <th>badge_local_product</th>\n",
       "      <th>badge_product_quality</th>\n",
       "      <th>badge_fast_shipping</th>\n",
       "      <th>tags</th>\n",
       "      <th>product_color</th>\n",
       "      <th>product_variation_size_id</th>\n",
       "      <th>shipping_option_name</th>\n",
       "      <th>shipping_option_price</th>\n",
       "      <th>shipping_is_express</th>\n",
       "      <th>countries_shipped_to</th>\n",
       "      <th>inventory_total</th>\n",
       "      <th>origin_country</th>\n",
       "      <th>merchant_name</th>\n",
       "      <th>merchant_info_subtitle</th>\n",
       "      <th>merchant_rating_count</th>\n",
       "      <th>merchant_rating</th>\n",
       "      <th>merchant_id</th>\n",
       "      <th>product_url</th>\n",
       "      <th>product_id</th>\n",
       "      <th>crawl_month</th>\n",
       "      <th>listed_products</th>\n",
       "      <th>total_units_sold</th>\n",
       "      <th>mean_units_sold_per_product</th>\n",
       "      <th>rating_y</th>\n",
       "      <th>merchant_ratings_count</th>\n",
       "      <th>mean_product_prices</th>\n",
       "      <th>mean_retail_prices</th>\n",
       "      <th>average_discount</th>\n",
       "      <th>mean_discount</th>\n",
       "      <th>mean_product_ratings_count</th>\n",
       "      <th>rating_five_ii</th>\n",
       "      <th>rating_four_ii</th>\n",
       "      <th>rating_three_ii</th>\n",
       "      <th>rating_two_ii</th>\n",
       "      <th>rating_one_ii</th>\n",
       "    </tr>\n",
       "  </thead>\n",
       "  <tbody>\n",
       "    <tr>\n",
       "      <th>0</th>\n",
       "      <td>0</td>\n",
       "      <td>2020 Summer Vintage Flamingo Print  Pajamas Se...</td>\n",
       "      <td>16.0</td>\n",
       "      <td>14</td>\n",
       "      <td>2.0</td>\n",
       "      <td>100</td>\n",
       "      <td>0</td>\n",
       "      <td>3.76</td>\n",
       "      <td>54</td>\n",
       "      <td>0</td>\n",
       "      <td>0</td>\n",
       "      <td>0</td>\n",
       "      <td>Summer,Fashion,womenunderwearsuit,printedpajam...</td>\n",
       "      <td>white</td>\n",
       "      <td>M</td>\n",
       "      <td>Livraison standard</td>\n",
       "      <td>4</td>\n",
       "      <td>0</td>\n",
       "      <td>34</td>\n",
       "      <td>50</td>\n",
       "      <td>CN</td>\n",
       "      <td>zgrdejia</td>\n",
       "      <td>unknown</td>\n",
       "      <td>568</td>\n",
       "      <td>4.128521</td>\n",
       "      <td>595097d6a26f6e070cb878d1</td>\n",
       "      <td>https://www.wish.com/c/5e9ae51d43d6a96e303acdb0</td>\n",
       "      <td>5e9ae51d43d6a96e303acdb0</td>\n",
       "      <td>2020-08</td>\n",
       "      <td>2</td>\n",
       "      <td>120000</td>\n",
       "      <td>60000.0</td>\n",
       "      <td>4.219</td>\n",
       "      <td>320031.0</td>\n",
       "      <td>9.0</td>\n",
       "      <td>20.0</td>\n",
       "      <td>54.0</td>\n",
       "      <td>54.0</td>\n",
       "      <td>8836.0</td>\n",
       "      <td>26.0</td>\n",
       "      <td>8.0</td>\n",
       "      <td>10.0</td>\n",
       "      <td>1.0</td>\n",
       "      <td>9.0</td>\n",
       "    </tr>\n",
       "  </tbody>\n",
       "</table>\n",
       "</div>"
      ],
      "text/plain": [
       "   index                                              title  price  \\\n",
       "0      0  2020 Summer Vintage Flamingo Print  Pajamas Se...   16.0   \n",
       "\n",
       "   retail_price  price_difference  units_sold  uses_ad_boosts  rating_x  \\\n",
       "0            14               2.0         100               0      3.76   \n",
       "\n",
       "   rating_count  badge_local_product  badge_product_quality  \\\n",
       "0            54                    0                      0   \n",
       "\n",
       "   badge_fast_shipping                                               tags  \\\n",
       "0                    0  Summer,Fashion,womenunderwearsuit,printedpajam...   \n",
       "\n",
       "  product_color product_variation_size_id shipping_option_name  \\\n",
       "0         white                         M   Livraison standard   \n",
       "\n",
       "   shipping_option_price  shipping_is_express  countries_shipped_to  \\\n",
       "0                      4                    0                    34   \n",
       "\n",
       "   inventory_total origin_country merchant_name merchant_info_subtitle  \\\n",
       "0               50             CN      zgrdejia                unknown   \n",
       "\n",
       "   merchant_rating_count  merchant_rating               merchant_id  \\\n",
       "0                    568         4.128521  595097d6a26f6e070cb878d1   \n",
       "\n",
       "                                       product_url                product_id  \\\n",
       "0  https://www.wish.com/c/5e9ae51d43d6a96e303acdb0  5e9ae51d43d6a96e303acdb0   \n",
       "\n",
       "  crawl_month  listed_products  total_units_sold  mean_units_sold_per_product  \\\n",
       "0     2020-08                2            120000                      60000.0   \n",
       "\n",
       "   rating_y  merchant_ratings_count  mean_product_prices  mean_retail_prices  \\\n",
       "0     4.219                320031.0                  9.0                20.0   \n",
       "\n",
       "   average_discount  mean_discount  mean_product_ratings_count  \\\n",
       "0              54.0           54.0                      8836.0   \n",
       "\n",
       "   rating_five_ii  rating_four_ii  rating_three_ii  rating_two_ii  \\\n",
       "0            26.0             8.0             10.0            1.0   \n",
       "\n",
       "   rating_one_ii  \n",
       "0            9.0  "
      ]
     },
     "execution_count": 28,
     "metadata": {},
     "output_type": "execute_result"
    }
   ],
   "source": [
    "df_leccion_nulos.drop(['rating_five_count', 'rating_five_knn', 'rating_four_count', 'rating_four_knn', 'rating_three_count', 'rating_three_knn', 'rating_two_count', 'rating_two_knn', 'rating_one_count','rating_one_knn'], axis=1, inplace=True)\n",
    "df_leccion_nulos.head(1)"
   ]
  },
  {
   "cell_type": "code",
   "execution_count": 29,
   "metadata": {},
   "outputs": [
    {
     "data": {
      "text/html": [
       "<div>\n",
       "<style scoped>\n",
       "    .dataframe tbody tr th:only-of-type {\n",
       "        vertical-align: middle;\n",
       "    }\n",
       "\n",
       "    .dataframe tbody tr th {\n",
       "        vertical-align: top;\n",
       "    }\n",
       "\n",
       "    .dataframe thead th {\n",
       "        text-align: right;\n",
       "    }\n",
       "</style>\n",
       "<table border=\"1\" class=\"dataframe\">\n",
       "  <thead>\n",
       "    <tr style=\"text-align: right;\">\n",
       "      <th></th>\n",
       "      <th>index</th>\n",
       "      <th>title</th>\n",
       "      <th>price</th>\n",
       "      <th>retail_price</th>\n",
       "      <th>price_difference</th>\n",
       "      <th>units_sold</th>\n",
       "      <th>uses_ad_boosts</th>\n",
       "      <th>rating_x</th>\n",
       "      <th>rating_count</th>\n",
       "      <th>badge_local_product</th>\n",
       "      <th>badge_product_quality</th>\n",
       "      <th>badge_fast_shipping</th>\n",
       "      <th>tags</th>\n",
       "      <th>product_color</th>\n",
       "      <th>product_variation_size_id</th>\n",
       "      <th>shipping_option_name</th>\n",
       "      <th>shipping_option_price</th>\n",
       "      <th>shipping_is_express</th>\n",
       "      <th>countries_shipped_to</th>\n",
       "      <th>inventory_total</th>\n",
       "      <th>origin_country</th>\n",
       "      <th>merchant_name</th>\n",
       "      <th>merchant_info_subtitle</th>\n",
       "      <th>merchant_rating_count</th>\n",
       "      <th>merchant_rating</th>\n",
       "      <th>merchant_id</th>\n",
       "      <th>product_url</th>\n",
       "      <th>product_id</th>\n",
       "      <th>crawl_month</th>\n",
       "      <th>listed_products</th>\n",
       "      <th>total_units_sold</th>\n",
       "      <th>mean_units_sold_per_product</th>\n",
       "      <th>rating_y</th>\n",
       "      <th>merchant_ratings_count</th>\n",
       "      <th>mean_product_prices</th>\n",
       "      <th>mean_retail_prices</th>\n",
       "      <th>average_discount</th>\n",
       "      <th>mean_discount</th>\n",
       "      <th>mean_product_ratings_count</th>\n",
       "      <th>rating_five</th>\n",
       "      <th>rating_four</th>\n",
       "      <th>rating_three</th>\n",
       "      <th>rating_two</th>\n",
       "      <th>rating_one</th>\n",
       "    </tr>\n",
       "  </thead>\n",
       "  <tbody>\n",
       "    <tr>\n",
       "      <th>0</th>\n",
       "      <td>0</td>\n",
       "      <td>2020 Summer Vintage Flamingo Print  Pajamas Se...</td>\n",
       "      <td>16.0</td>\n",
       "      <td>14</td>\n",
       "      <td>2.0</td>\n",
       "      <td>100</td>\n",
       "      <td>0</td>\n",
       "      <td>3.76</td>\n",
       "      <td>54</td>\n",
       "      <td>0</td>\n",
       "      <td>0</td>\n",
       "      <td>0</td>\n",
       "      <td>Summer,Fashion,womenunderwearsuit,printedpajam...</td>\n",
       "      <td>white</td>\n",
       "      <td>M</td>\n",
       "      <td>Livraison standard</td>\n",
       "      <td>4</td>\n",
       "      <td>0</td>\n",
       "      <td>34</td>\n",
       "      <td>50</td>\n",
       "      <td>CN</td>\n",
       "      <td>zgrdejia</td>\n",
       "      <td>unknown</td>\n",
       "      <td>568</td>\n",
       "      <td>4.128521</td>\n",
       "      <td>595097d6a26f6e070cb878d1</td>\n",
       "      <td>https://www.wish.com/c/5e9ae51d43d6a96e303acdb0</td>\n",
       "      <td>5e9ae51d43d6a96e303acdb0</td>\n",
       "      <td>2020-08</td>\n",
       "      <td>2</td>\n",
       "      <td>120000</td>\n",
       "      <td>60000.0</td>\n",
       "      <td>4.219</td>\n",
       "      <td>320031.0</td>\n",
       "      <td>9.0</td>\n",
       "      <td>20.0</td>\n",
       "      <td>54.0</td>\n",
       "      <td>54.0</td>\n",
       "      <td>8836.0</td>\n",
       "      <td>26.0</td>\n",
       "      <td>8.0</td>\n",
       "      <td>10.0</td>\n",
       "      <td>1.0</td>\n",
       "      <td>9.0</td>\n",
       "    </tr>\n",
       "  </tbody>\n",
       "</table>\n",
       "</div>"
      ],
      "text/plain": [
       "   index                                              title  price  \\\n",
       "0      0  2020 Summer Vintage Flamingo Print  Pajamas Se...   16.0   \n",
       "\n",
       "   retail_price  price_difference  units_sold  uses_ad_boosts  rating_x  \\\n",
       "0            14               2.0         100               0      3.76   \n",
       "\n",
       "   rating_count  badge_local_product  badge_product_quality  \\\n",
       "0            54                    0                      0   \n",
       "\n",
       "   badge_fast_shipping                                               tags  \\\n",
       "0                    0  Summer,Fashion,womenunderwearsuit,printedpajam...   \n",
       "\n",
       "  product_color product_variation_size_id shipping_option_name  \\\n",
       "0         white                         M   Livraison standard   \n",
       "\n",
       "   shipping_option_price  shipping_is_express  countries_shipped_to  \\\n",
       "0                      4                    0                    34   \n",
       "\n",
       "   inventory_total origin_country merchant_name merchant_info_subtitle  \\\n",
       "0               50             CN      zgrdejia                unknown   \n",
       "\n",
       "   merchant_rating_count  merchant_rating               merchant_id  \\\n",
       "0                    568         4.128521  595097d6a26f6e070cb878d1   \n",
       "\n",
       "                                       product_url                product_id  \\\n",
       "0  https://www.wish.com/c/5e9ae51d43d6a96e303acdb0  5e9ae51d43d6a96e303acdb0   \n",
       "\n",
       "  crawl_month  listed_products  total_units_sold  mean_units_sold_per_product  \\\n",
       "0     2020-08                2            120000                      60000.0   \n",
       "\n",
       "   rating_y  merchant_ratings_count  mean_product_prices  mean_retail_prices  \\\n",
       "0     4.219                320031.0                  9.0                20.0   \n",
       "\n",
       "   average_discount  mean_discount  mean_product_ratings_count  rating_five  \\\n",
       "0              54.0           54.0                      8836.0         26.0   \n",
       "\n",
       "   rating_four  rating_three  rating_two  rating_one  \n",
       "0          8.0          10.0         1.0         9.0  "
      ]
     },
     "execution_count": 29,
     "metadata": {},
     "output_type": "execute_result"
    }
   ],
   "source": [
    "new_columns={'rating_five_ii':'rating_five',\n",
    "             'rating_four_ii':'rating_four',\n",
    "             'rating_three_ii':'rating_three',\n",
    "             'rating_two_ii':'rating_two',\n",
    "             'rating_one_ii':'rating_one'}\n",
    "\n",
    "df_leccion_nulos.rename(columns=new_columns, inplace=True)\n",
    "df_leccion_nulos.head(1)"
   ]
  },
  {
   "cell_type": "markdown",
   "metadata": {},
   "source": [
    "5. Guardad el csv para los ejercicios de la clase invertida de mañana con las columnas sin nulos."
   ]
  },
  {
   "cell_type": "code",
   "execution_count": 30,
   "metadata": {},
   "outputs": [],
   "source": [
    "df_leccion_nulos.to_csv(\"post_leccion06_rating_insight.csv\")"
   ]
  }
 ],
 "metadata": {
  "kernelspec": {
   "display_name": "Python 3 (ipykernel)",
   "language": "python",
   "name": "python3"
  },
  "language_info": {
   "codemirror_mode": {
    "name": "ipython",
    "version": 3
   },
   "file_extension": ".py",
   "mimetype": "text/x-python",
   "name": "python",
   "nbconvert_exporter": "python",
   "pygments_lexer": "ipython3",
   "version": "3.9.7"
  },
  "toc": {
   "base_numbering": 1,
   "nav_menu": {},
   "number_sections": true,
   "sideBar": true,
   "skip_h1_title": false,
   "title_cell": "Table of Contents",
   "title_sidebar": "Contents",
   "toc_cell": true,
   "toc_position": {
    "height": "calc(100% - 180px)",
    "left": "10px",
    "top": "150px",
    "width": "384px"
   },
   "toc_section_display": true,
   "toc_window_display": false
  }
 },
 "nbformat": 4,
 "nbformat_minor": 2
}
