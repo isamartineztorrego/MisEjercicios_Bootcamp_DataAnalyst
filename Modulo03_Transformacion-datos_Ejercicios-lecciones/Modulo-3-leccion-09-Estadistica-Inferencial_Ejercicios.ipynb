{
 "cells": [
  {
   "cell_type": "code",
   "execution_count": 62,
   "metadata": {},
   "outputs": [],
   "source": [
    "\n",
    "# importamos las librerías que necesitamos\n",
    "\n",
    "# Tratamiento de datos\n",
    "# -----------------------------------------------------------------------\n",
    "import pandas as pd\n",
    "import numpy as np\n",
    "\n",
    "# Visualización\n",
    "# ------------------------------------------------------------------------------\n",
    "import matplotlib.pyplot as plt\n",
    "import seaborn as sns\n",
    "\n",
    "# Evaluar linealidad de las relaciones entre las variables\n",
    "# y la distribución de las variables\n",
    "# ------------------------------------------------------------------------------\n",
    "#import scipy.stats as stats\n",
    "import scipy.stats as stats\n",
    "from scipy.stats import shapiro, poisson, chisquare, expon, kstest\n",
    "\n",
    "\n",
    "# Configuración\n",
    "# -----------------------------------------------------------------------\n",
    "pd.set_option('display.max_columns', None) # para poder visualizar todas las columnas de los DataFrames\n",
    "\n",
    "# Gestión de los warnings\n",
    "# -----------------------------------------------------------------------\n",
    "import warnings\n",
    "warnings.filterwarnings(\"ignore\")"
   ]
  },
  {
   "cell_type": "code",
   "execution_count": 63,
   "metadata": {},
   "outputs": [
    {
     "data": {
      "text/html": [
       "<div>\n",
       "<style scoped>\n",
       "    .dataframe tbody tr th:only-of-type {\n",
       "        vertical-align: middle;\n",
       "    }\n",
       "\n",
       "    .dataframe tbody tr th {\n",
       "        vertical-align: top;\n",
       "    }\n",
       "\n",
       "    .dataframe thead th {\n",
       "        text-align: right;\n",
       "    }\n",
       "</style>\n",
       "<table border=\"1\" class=\"dataframe\">\n",
       "  <thead>\n",
       "    <tr style=\"text-align: right;\">\n",
       "      <th></th>\n",
       "      <th>title</th>\n",
       "      <th>price</th>\n",
       "      <th>retail_price</th>\n",
       "      <th>price_difference</th>\n",
       "      <th>units_sold</th>\n",
       "      <th>uses_ad_boosts</th>\n",
       "      <th>rating_x</th>\n",
       "      <th>rating_count</th>\n",
       "      <th>badge_local_product</th>\n",
       "      <th>badge_product_quality</th>\n",
       "      <th>badge_fast_shipping</th>\n",
       "      <th>tags</th>\n",
       "      <th>product_color</th>\n",
       "      <th>product_variation_size_id</th>\n",
       "      <th>shipping_option_name</th>\n",
       "      <th>shipping_option_price</th>\n",
       "      <th>shipping_is_express</th>\n",
       "      <th>countries_shipped_to</th>\n",
       "      <th>inventory_total</th>\n",
       "      <th>origin_country</th>\n",
       "      <th>merchant_name</th>\n",
       "      <th>merchant_info_subtitle</th>\n",
       "      <th>merchant_rating_count</th>\n",
       "      <th>merchant_id</th>\n",
       "      <th>product_url</th>\n",
       "      <th>product_id</th>\n",
       "      <th>crawl_month</th>\n",
       "      <th>listed_products</th>\n",
       "      <th>total_units_sold</th>\n",
       "      <th>mean_units_sold_per_product</th>\n",
       "      <th>rating_y</th>\n",
       "      <th>merchant_ratings_count</th>\n",
       "      <th>mean_product_prices</th>\n",
       "      <th>mean_retail_prices</th>\n",
       "      <th>mean_product_ratings_count</th>\n",
       "      <th>discount_percentage</th>\n",
       "      <th>seller_reputation</th>\n",
       "      <th>rating_five</th>\n",
       "      <th>rating_four</th>\n",
       "      <th>rating_three</th>\n",
       "      <th>rating_two</th>\n",
       "      <th>rating_one</th>\n",
       "    </tr>\n",
       "    <tr>\n",
       "      <th>index</th>\n",
       "      <th></th>\n",
       "      <th></th>\n",
       "      <th></th>\n",
       "      <th></th>\n",
       "      <th></th>\n",
       "      <th></th>\n",
       "      <th></th>\n",
       "      <th></th>\n",
       "      <th></th>\n",
       "      <th></th>\n",
       "      <th></th>\n",
       "      <th></th>\n",
       "      <th></th>\n",
       "      <th></th>\n",
       "      <th></th>\n",
       "      <th></th>\n",
       "      <th></th>\n",
       "      <th></th>\n",
       "      <th></th>\n",
       "      <th></th>\n",
       "      <th></th>\n",
       "      <th></th>\n",
       "      <th></th>\n",
       "      <th></th>\n",
       "      <th></th>\n",
       "      <th></th>\n",
       "      <th></th>\n",
       "      <th></th>\n",
       "      <th></th>\n",
       "      <th></th>\n",
       "      <th></th>\n",
       "      <th></th>\n",
       "      <th></th>\n",
       "      <th></th>\n",
       "      <th></th>\n",
       "      <th></th>\n",
       "      <th></th>\n",
       "      <th></th>\n",
       "      <th></th>\n",
       "      <th></th>\n",
       "      <th></th>\n",
       "      <th></th>\n",
       "    </tr>\n",
       "  </thead>\n",
       "  <tbody>\n",
       "    <tr>\n",
       "      <th>0</th>\n",
       "      <td>2020 Summer Vintage Flamingo Print  Pajamas Se...</td>\n",
       "      <td>16.0</td>\n",
       "      <td>14</td>\n",
       "      <td>2.0</td>\n",
       "      <td>100</td>\n",
       "      <td>no</td>\n",
       "      <td>3.76</td>\n",
       "      <td>54</td>\n",
       "      <td>no</td>\n",
       "      <td>buena</td>\n",
       "      <td>no</td>\n",
       "      <td>Summer,Fashion,womenunderwearsuit,printedpajam...</td>\n",
       "      <td>white</td>\n",
       "      <td>M</td>\n",
       "      <td>Livraison standard</td>\n",
       "      <td>4</td>\n",
       "      <td>no</td>\n",
       "      <td>34</td>\n",
       "      <td>50</td>\n",
       "      <td>CN</td>\n",
       "      <td>zgrdejia</td>\n",
       "      <td>unknown</td>\n",
       "      <td>568</td>\n",
       "      <td>595097d6a26f6e070cb878d1</td>\n",
       "      <td>https://www.wish.com/c/5e9ae51d43d6a96e303acdb0</td>\n",
       "      <td>5e9ae51d43d6a96e303acdb0</td>\n",
       "      <td>2020-08</td>\n",
       "      <td>2</td>\n",
       "      <td>120000</td>\n",
       "      <td>60000.0</td>\n",
       "      <td>4.219</td>\n",
       "      <td>320031.0</td>\n",
       "      <td>9.0</td>\n",
       "      <td>20.0</td>\n",
       "      <td>8836.0</td>\n",
       "      <td>-14.29</td>\n",
       "      <td>buena</td>\n",
       "      <td>26.0</td>\n",
       "      <td>8.0</td>\n",
       "      <td>10.0</td>\n",
       "      <td>1.0</td>\n",
       "      <td>9.0</td>\n",
       "    </tr>\n",
       "  </tbody>\n",
       "</table>\n",
       "</div>"
      ],
      "text/plain": [
       "                                                   title  price  retail_price  \\\n",
       "index                                                                           \n",
       "0      2020 Summer Vintage Flamingo Print  Pajamas Se...   16.0            14   \n",
       "\n",
       "       price_difference  units_sold uses_ad_boosts  rating_x  rating_count  \\\n",
       "index                                                                        \n",
       "0                   2.0         100             no      3.76            54   \n",
       "\n",
       "      badge_local_product badge_product_quality badge_fast_shipping  \\\n",
       "index                                                                 \n",
       "0                      no                 buena                  no   \n",
       "\n",
       "                                                    tags product_color  \\\n",
       "index                                                                    \n",
       "0      Summer,Fashion,womenunderwearsuit,printedpajam...         white   \n",
       "\n",
       "      product_variation_size_id shipping_option_name  shipping_option_price  \\\n",
       "index                                                                         \n",
       "0                             M   Livraison standard                      4   \n",
       "\n",
       "      shipping_is_express  countries_shipped_to  inventory_total  \\\n",
       "index                                                              \n",
       "0                      no                    34               50   \n",
       "\n",
       "      origin_country merchant_name merchant_info_subtitle  \\\n",
       "index                                                       \n",
       "0                 CN      zgrdejia                unknown   \n",
       "\n",
       "       merchant_rating_count               merchant_id  \\\n",
       "index                                                    \n",
       "0                        568  595097d6a26f6e070cb878d1   \n",
       "\n",
       "                                           product_url  \\\n",
       "index                                                    \n",
       "0      https://www.wish.com/c/5e9ae51d43d6a96e303acdb0   \n",
       "\n",
       "                     product_id crawl_month  listed_products  \\\n",
       "index                                                          \n",
       "0      5e9ae51d43d6a96e303acdb0     2020-08                2   \n",
       "\n",
       "       total_units_sold  mean_units_sold_per_product  rating_y  \\\n",
       "index                                                            \n",
       "0                120000                      60000.0     4.219   \n",
       "\n",
       "       merchant_ratings_count  mean_product_prices  mean_retail_prices  \\\n",
       "index                                                                    \n",
       "0                    320031.0                  9.0                20.0   \n",
       "\n",
       "       mean_product_ratings_count  discount_percentage seller_reputation  \\\n",
       "index                                                                      \n",
       "0                          8836.0               -14.29             buena   \n",
       "\n",
       "       rating_five  rating_four  rating_three  rating_two  rating_one  \n",
       "index                                                                  \n",
       "0             26.0          8.0          10.0         1.0         9.0  "
      ]
     },
     "execution_count": 63,
     "metadata": {},
     "output_type": "execute_result"
    }
   ],
   "source": [
    "df_leccion=pd.read_csv(\"post_leccion06_rating_insight.csv\", index_col=0)\n",
    "df_leccion.head(1)"
   ]
  },
  {
   "cell_type": "markdown",
   "metadata": {},
   "source": [
    "# Ejercicios\n",
    "\n",
    "Seguiremos usando el conjunto de datos que usamos siempre para los ejercicios de la clase invertida. \n",
    "\n",
    "1. Dadas las situaciones, decide si se trata de una distribución de tipo exponencial o de poisson. A nivel teórico, no hace falta que lo demuestres con código. \n",
    "\n",
    "   - Imagina que estás registrando el tiempo que transcurre entre la llegada de clientes a una tienda en minutos. ¿Se asemeja más a una distribución exponencial o de Poisson?\n",
    "\n",
    "   *Distribución exponencial*\n",
    "\n",
    "   - Si observas el número de accidentes que ocurren en una intersección en un día determinado, ¿tiene más sentido pensar en una distribución exponencial o de Poisson?\n",
    "\n",
    "   *Distribución de Poisson*\n",
    "\n",
    "   - Cuando las personas esperan en una cola para recibir atención al cliente en una tienda, se registra el tiempo que esperan en minutos. ¿Parece seguir una distribución exponencial o de Poisson?\n",
    "\n",
    "   *Distribución exponencial*\n",
    "\n",
    "   - Si supervisas el número de llamadas telefónicas que llegan a un centro de atención al cliente en una hora, ¿sería más apropiado pensar en una distribución exponencial o de Poisson?\n",
    "\n",
    "   *Distribución de Poisson*\n",
    "\n",
    "   - Si mides el tiempo entre la llegada de correos electrónicos a tu bandeja de entrada durante el día, ¿se ajusta mejor a una distribución exponencial o de Poisson?\n",
    "\n",
    "   *Distribución exponencial*"
   ]
  },
  {
   "cell_type": "markdown",
   "metadata": {},
   "source": [
    "2. Ejercicios intervalo de confianza: Para cada uno de los ejercicios interpreta los resultados y piensa que ventaja a nivel de negocio podemos sacar de calcularlo."
   ]
  },
  {
   "cell_type": "code",
   "execution_count": 64,
   "metadata": {},
   "outputs": [],
   "source": [
    "#Creo una función para calcular el intervalo de confianza (que personalizaré con los parámetros necesarios para cada consulta cuando llame a la función)\n",
    "def confidence_interval(dataframe, column, confidence_level=float):\n",
    "    calculated_mean=dataframe[column].mean()\n",
    "    error=stats.sem(dataframe[column])\n",
    "\n",
    "    degrees_of_freedom=len(dataframe[column])-1\n",
    "\n",
    "    critical_value=stats.t.ppf((1+confidence_level) / 2, df=degrees_of_freedom)\n",
    "\n",
    "    upper_limit=calculated_mean - critical_value * error\n",
    "    lower_limit=calculated_mean + critical_value * error\n",
    "\n",
    "    margin_of_error=critical_value * error\n",
    "\n",
    "    print(f'Intervalo de confianza para {column.upper()}:')\n",
    "    print(f'Media muestral: {np.round(calculated_mean, 2)}')\n",
    "    print(f'Error estándar: {np.round(error, 2)}')\n",
    "    print(f'Nivel de confianza: {confidence_level}')\n",
    "    print(f'Valor crítico: {np.round(critical_value, 2)}')\n",
    "    print(f'Margen de error: {np.round(margin_of_error, 2)}')\n",
    "    print(f'Intervalo de confianza: ({np.round(upper_limit, 2)}, {np.round(lower_limit, 2)})')"
   ]
  },
  {
   "cell_type": "markdown",
   "metadata": {},
   "source": [
    "   - Trabajas para una plataforma de comercio en línea y deseas determinar el intervalo de confianza al 95% para el precio promedio de productos con una cantidad media de valoraciones al producto de 500."
   ]
  },
  {
   "cell_type": "code",
   "execution_count": 65,
   "metadata": {},
   "outputs": [
    {
     "name": "stdout",
     "output_type": "stream",
     "text": [
      "Intervalo de confianza para MEAN_PRODUCT_RATINGS_COUNT:\n",
      "Media muestral: 2311.32\n",
      "Error estándar: 141.25\n",
      "Nivel de confianza: 0.95\n",
      "Valor crítico: 1.97\n",
      "Margen de error: 277.79\n",
      "Intervalo de confianza: (2033.52, 2589.11)\n"
     ]
    }
   ],
   "source": [
    "#1. Filtro por productos con una cantidad de valoraciones superior a 500\n",
    "df_filtered=df_leccion[df_leccion['mean_product_ratings_count']>500]\n",
    "\n",
    "#2. Llamo a la función\n",
    "confidence_interval(df_filtered, 'mean_product_ratings_count', 0.95)"
   ]
  },
  {
   "cell_type": "markdown",
   "metadata": {},
   "source": [
    "   - Eres un analista de ventas en una plataforma de comercio electrónico y quieres calcular el intervalo de confianza al 90% para el número promedio de unidades vendidas por producto."
   ]
  },
  {
   "cell_type": "code",
   "execution_count": 66,
   "metadata": {},
   "outputs": [
    {
     "name": "stdout",
     "output_type": "stream",
     "text": [
      "Intervalo de confianza para MEAN_UNITS_SOLD_PER_PRODUCT:\n",
      "Media muestral: 4407.61\n",
      "Error estándar: 296.17\n",
      "Nivel de confianza: 0.9\n",
      "Valor crítico: 1.65\n",
      "Margen de error: 487.64\n",
      "Intervalo de confianza: (3919.97, 4895.24)\n"
     ]
    }
   ],
   "source": [
    "confidence_interval(df_leccion, 'mean_units_sold_per_product', 0.90)"
   ]
  },
  {
   "cell_type": "markdown",
   "metadata": {},
   "source": [
    "   - Trabajas en la gestión de inventario de una tienda en línea y necesitas calcular el intervalo de confianza al 99% para el precio promedio de productos según su país de origen."
   ]
  },
  {
   "cell_type": "code",
   "execution_count": 67,
   "metadata": {},
   "outputs": [
    {
     "name": "stdout",
     "output_type": "stream",
     "text": [
      "\n",
      "Análisis para el país: CN\n",
      "Intervalo de confianza para MEAN_PRODUCT_PRICES:\n",
      "Media muestral: 8.66\n",
      "Error estándar: 0.13\n",
      "Nivel de confianza: 0.99\n",
      "Valor crítico: 2.58\n",
      "Margen de error: 0.34\n",
      "Intervalo de confianza: (8.32, 9.0)\n",
      "None\n",
      "\n",
      "Análisis para el país: US\n",
      "Intervalo de confianza para MEAN_PRODUCT_PRICES:\n",
      "Media muestral: 7.66\n",
      "Error estándar: 0.62\n",
      "Nivel de confianza: 0.99\n",
      "Valor crítico: 2.9\n",
      "Margen de error: 1.79\n",
      "Intervalo de confianza: (5.88, 9.45)\n",
      "None\n",
      "\n",
      "Análisis para el país: VE\n",
      "Intervalo de confianza para MEAN_PRODUCT_PRICES:\n",
      "Media muestral: 10.0\n",
      "Error estándar: 2.0\n",
      "Nivel de confianza: 0.99\n",
      "Valor crítico: 9.92\n",
      "Margen de error: 19.85\n",
      "Intervalo de confianza: (-9.85, 29.85)\n",
      "None\n",
      "No se puede calcular el intervalo de confianza de AT porque no hay datos suficientes\n",
      "\n",
      "Análisis para el país: SG\n",
      "Intervalo de confianza para MEAN_PRODUCT_PRICES:\n",
      "Media muestral: 7.5\n",
      "Error estándar: 1.5\n",
      "Nivel de confianza: 0.99\n",
      "Valor crítico: 63.66\n",
      "Margen de error: 95.49\n",
      "Intervalo de confianza: (-87.99, 102.99)\n",
      "None\n"
     ]
    }
   ],
   "source": [
    "#1. Creo dataframe para cada país y los guardo en un diccionario\n",
    "dictionary_countries={}\n",
    "for i in df_leccion['origin_country'].unique():\n",
    "    dictionary_countries[i]=df_leccion[df_leccion['origin_country'] == i]\n",
    "\n",
    "#2. Calculo el intervalo de confianza para cada país del diccionario\n",
    "for k,v in dictionary_countries.items():\n",
    "    if v.shape[0]>1:\n",
    "        print(f'\\nAnálisis para el país: {k.upper()}')\n",
    "        print(confidence_interval(v, 'mean_product_prices', 0.99))\n",
    "    else:\n",
    "        print(f'No se puede calcular el intervalo de confianza de {k.upper()} porque no hay datos suficientes')"
   ]
  },
  {
   "cell_type": "markdown",
   "metadata": {},
   "source": [
    "   - Eres un gerente de ventas en una plataforma de comercio electrónico y quieres determinar el intervalo de confianza al 95% para la valoración promedio de los vendedores según si ofrecen envío express o no."
   ]
  },
  {
   "cell_type": "code",
   "execution_count": 68,
   "metadata": {},
   "outputs": [
    {
     "name": "stdout",
     "output_type": "stream",
     "text": [
      "\n",
      "Análisis para el envío: NO\n",
      "Intervalo de confianza para RATING_FIVE:\n",
      "Media muestral: 460.16\n",
      "Error estándar: 32.95\n",
      "Nivel de confianza: 0.95\n",
      "Valor crítico: 1.96\n",
      "Margen de error: 64.66\n",
      "Intervalo de confianza: (395.49, 524.82)\n",
      "None\n",
      "\n",
      "Análisis para el envío: SI\n",
      "Intervalo de confianza para RATING_FIVE:\n",
      "Media muestral: 134.33\n",
      "Error estándar: 129.83\n",
      "Nivel de confianza: 0.95\n",
      "Valor crítico: 4.3\n",
      "Margen de error: 558.63\n",
      "Intervalo de confianza: (-424.3, 692.96)\n",
      "None\n"
     ]
    }
   ],
   "source": [
    "#1. Creo diccionario para guardar los tipos de envío\n",
    "dictionary_deliveries={}\n",
    "for i in df_leccion['shipping_is_express'].unique():\n",
    "    dictionary_deliveries[i]=df_leccion[df_leccion['shipping_is_express'] == i]\n",
    "\n",
    "#2. Calculo el intervalo de confianza para cada tipo de envío del diccionario\n",
    "for k,v in dictionary_deliveries.items():\n",
    "    print(f'\\nAnálisis para el envío: {k.upper()}')\n",
    "    print(confidence_interval(v, 'rating_five', 0.95))"
   ]
  },
  {
   "cell_type": "markdown",
   "metadata": {},
   "source": [
    "   - Trabajas en el departamento de precios de una tienda en línea y necesitas calcular el intervalo de confianza al 90% para el descuento promedio de productos según la reputación del vendedor (alta, media o baja)."
   ]
  },
  {
   "cell_type": "code",
   "execution_count": 69,
   "metadata": {},
   "outputs": [
    {
     "name": "stdout",
     "output_type": "stream",
     "text": [
      "\n",
      "Análisis para la categoría de empleado: ALTA\n",
      "Intervalo de confianza para DISCOUNT_PERCENTAGE:\n",
      "Media muestral: 24.69\n",
      "Error estándar: 1.42\n",
      "Nivel de confianza: 0.9\n",
      "Valor crítico: 1.65\n",
      "Margen de error: 2.34\n",
      "Intervalo de confianza: (22.36, 27.03)\n",
      "None\n",
      "\n",
      "Análisis para la categoría de empleado: BAJA\n",
      "Intervalo de confianza para DISCOUNT_PERCENTAGE:\n",
      "Media muestral: 32.53\n",
      "Error estándar: 6.21\n",
      "Nivel de confianza: 0.9\n",
      "Valor crítico: 1.68\n",
      "Margen de error: 10.42\n",
      "Intervalo de confianza: (22.1, 42.95)\n",
      "None\n",
      "\n",
      "Análisis para la categoría de empleado: MEDIA\n",
      "Intervalo de confianza para DISCOUNT_PERCENTAGE:\n",
      "Media muestral: 32.53\n",
      "Error estándar: 4.6\n",
      "Nivel de confianza: 0.9\n",
      "Valor crítico: 1.66\n",
      "Margen de error: 7.65\n",
      "Intervalo de confianza: (24.88, 40.18)\n",
      "None\n"
     ]
    }
   ],
   "source": [
    "#1. Creo función para categorizar la columna 'rating_five' (reputación del vendedor)\n",
    "def categorize_seller_reputation(rating):\n",
    "    if rating < 2:\n",
    "        return 'baja'\n",
    "    elif rating >= 2 and rating <= 4:\n",
    "        return 'media'\n",
    "    elif rating >4:\n",
    "        return 'alta'\n",
    "    else:\n",
    "        return 'valor fuera de rango'\n",
    "\n",
    "#2. Llamo a la función para añadir la columna al dataframe\n",
    "df_leccion['categorized_seller']=df_leccion['rating_five'].apply(categorize_seller_reputation)\n",
    "\n",
    "#3. Creo un diccionario para guardar las categorías que acabo de crear con la función\n",
    "dictionary_sellers={}\n",
    "for i in df_leccion['categorized_seller'].unique():\n",
    "    dictionary_sellers[i]=df_leccion[df_leccion['categorized_seller'] == i]\n",
    "\n",
    "#4. Calculo el intervalo de confianza para cada tipo de categoría del diccionario\n",
    "for k,v in dictionary_sellers.items():\n",
    "    print(f'\\nAnálisis para la categoría de empleado: {k.upper()}')\n",
    "    print(confidence_interval(v, 'discount_percentage', 0.90))"
   ]
  },
  {
   "cell_type": "markdown",
   "metadata": {},
   "source": [
    "3. Ejercicios prueba de hipótesis:\n",
    "\n",
    "   - Prueba de Hipótesis sobre el precio promedio de productos con o sin empleados calificados\n",
    "\n",
    "      - *Contexto:* Trabajas en una plataforma de comercio en línea que ofrece productos de moda. Quieres saber si hay una diferencia significativa en el precio promedio de productos entre aquellos vendidos por empleados calificados (rating_employee > 4) y aquellos vendidos por empleados menos calificados (rating_employee <= 4). Esto te ayudará a tomar decisiones sobre la estrategia de precios y capacitación de empleados.\n",
    "\n",
    "      - *Hipótesis Nula (H0):* No hay diferencia significativa en el precio promedio de productos entre empleados con buena y mala reputación. \n",
    "      \n",
    "      - *Hipótesis Alternativa (H1):* Existe una diferencia significativa en el precio promedio de productos entre empleados calificados y menos calificados."
   ]
  },
  {
   "cell_type": "code",
   "execution_count": 70,
   "metadata": {},
   "outputs": [],
   "source": [
    "#1. Creo función para hacer el t-test de Student\n",
    "def hypothesis_test(*args):\n",
    "\n",
    "    #Veo si las varianzas son iguales o no\n",
    "    if len(args) == 2:\n",
    "        p_valor_variance=stats.levene(*args, center='median')[1]\n",
    "    else:\n",
    "        p_valor_variance=stats.barlett(*args)[1]\n",
    "\n",
    "    #Hago la prueba t de Student\n",
    "    if p_valor_variance < 0.05:\n",
    "        t_stat, p_valor=stats.ttest_ind(*args, equal_var=True)\n",
    "    else:\n",
    "        t_stat, p_valor=stats.ttest_ind(*args, equal_var=False)\n",
    "    \n",
    "    #Establezco el nivel de significancia\n",
    "    alfa=0.05\n",
    "\n",
    "    #Comparo el p_valor con el nivel de significancia\n",
    "    if p_valor < alfa:\n",
    "        print('Rechazamos la hipótesis nula.\\nHay una diferencia siginificativa en el precio promedio de productos entre empleados con buena y con mala reputación')\n",
    "    else:\n",
    "        print('No se puede rechazar la hipótesis nula.\\nNo hay evidencia suficiente para afirmar que haya una diferencia significativa en el precio promedio de productos entre empleados con buena y con mala reputación')\n"
   ]
  },
  {
   "cell_type": "code",
   "execution_count": 71,
   "metadata": {},
   "outputs": [],
   "source": [
    "#2. Pruebo la hipótesis\n",
    "#Creo una nueva columna np.where(condición, valor_si_verdadero, valor_si_falso)\n",
    "df_leccion['employee_rat_cat']=np.where(df_leccion['rating_five'] >4, 'calificado', 'no_calificado')\n",
    "#Creo una nueva variable en la que primero filtro para obtener sólo las filas de calificados, después selecciono la columna de los precios promedio. El resultado es una serie de precios promedio para empleados calificados.\n",
    "df_calificado=df_leccion[df_leccion['employee_rat_cat'] == 'calificado']['mean_product_prices']\n",
    "#Creo una nueva variable en la que primero filtro para obtener sólo las filas de no_calificados, después selecciono la columna de los precios promedio. El resultado es una serie de precios promedio para empleados no_calificados.\n",
    "df_no_calificado=df_leccion[df_leccion['employee_rat_cat'] == 'no_calificado']['mean_product_prices']"
   ]
  },
  {
   "cell_type": "code",
   "execution_count": 72,
   "metadata": {},
   "outputs": [
    {
     "name": "stdout",
     "output_type": "stream",
     "text": [
      "No se puede rechazar la hipótesis nula.\n",
      "No hay evidencia suficiente para afirmar que haya una diferencia significativa en el precio promedio de productos entre empleados con buena y con mala reputación\n"
     ]
    }
   ],
   "source": [
    "#3. Llamo a la función para ver si apruebo o rechazo la hipótesis nula\n",
    "hypothesis_test(df_calificado, df_no_calificado)"
   ]
  },
  {
   "cell_type": "markdown",
   "metadata": {},
   "source": [
    "   - Prueba de Hipótesis sobre el número de unidades vendidas en envío express y envío estándar\n",
    "\n",
    "      - *Contexto:* Eres un gerente de operaciones de envío en una plataforma de comercio electrónico. Quieres determinar si el número promedio de unidades vendidas difiere cuando los productos se envían con envío express (shipping_option_name = \"Express Shipping\") en comparación con envío estándar (shipping_option_name = \"Livraison standard\"). Esto te ayudará a tomar decisiones sobre la logística de envío.\n",
    "\n",
    "      - *Hipótesis Nula (H0):* No hay diferencia significativa en el número promedio de unidades vendidas entre envío express y envío estándar.\n",
    "\n",
    "      - *Hipótesis Alternativa (H1):* Existe una diferencia significativa en el número promedio de unidades vendidas entre envío express y envío estándar."
   ]
  },
  {
   "cell_type": "code",
   "execution_count": 73,
   "metadata": {},
   "outputs": [
    {
     "name": "stdout",
     "output_type": "stream",
     "text": [
      "No se puede rechazar la hipótesis nula.\n",
      "No hay evidencia suficiente para afirmar que haya una diferencia significativa en el precio promedio de productos entre empleados con buena y con mala reputación\n"
     ]
    }
   ],
   "source": [
    "df_express=df_leccion[df_leccion['employee_rat_cat'] == 'Express Shipping']['mean_units_sold_per_product']\n",
    "df_no_express=df_leccion[df_leccion['employee_rat_cat'] == 'Livraison standard']['mean_units_sold_per_product']\n",
    "\n",
    "hypothesis_test(df_express, df_no_express)"
   ]
  }
 ],
 "metadata": {
  "kernelspec": {
   "display_name": "Python 3 (ipykernel)",
   "language": "python",
   "name": "python3"
  },
  "language_info": {
   "codemirror_mode": {
    "name": "ipython",
    "version": 3
   },
   "file_extension": ".py",
   "mimetype": "text/x-python",
   "name": "python",
   "nbconvert_exporter": "python",
   "pygments_lexer": "ipython3",
   "version": "3.9.7"
  },
  "toc": {
   "base_numbering": 1,
   "nav_menu": {},
   "number_sections": true,
   "sideBar": true,
   "skip_h1_title": false,
   "title_cell": "Table of Contents",
   "title_sidebar": "Contents",
   "toc_cell": true,
   "toc_position": {
    "height": "calc(100% - 180px)",
    "left": "10px",
    "top": "150px",
    "width": "384px"
   },
   "toc_section_display": true,
   "toc_window_display": true
  }
 },
 "nbformat": 4,
 "nbformat_minor": 2
}
