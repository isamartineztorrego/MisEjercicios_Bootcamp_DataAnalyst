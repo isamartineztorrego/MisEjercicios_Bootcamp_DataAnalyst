{
 "cells": [
  {
   "cell_type": "markdown",
   "metadata": {},
   "source": [
    "# Sesión de Repaso (listas, tuplas, sets, diccionarios y sentencias de control)"
   ]
  },
  {
   "cell_type": "markdown",
   "metadata": {},
   "source": [
    "# Listas"
   ]
  },
  {
   "cell_type": "markdown",
   "metadata": {},
   "source": [
    "\n",
    "1. Crear una lista: Crea una lista con cinco colores diferentes."
   ]
  },
  {
   "cell_type": "code",
   "execution_count": 49,
   "metadata": {},
   "outputs": [],
   "source": [
    "colores = ['azul', 'rosa', 'verde', 'amarillo', 'rojo']"
   ]
  },
  {
   "cell_type": "markdown",
   "metadata": {},
   "source": [
    "2. Acceder a elementos: Accede al tercer elemento de la lista de colores."
   ]
  },
  {
   "cell_type": "code",
   "execution_count": 50,
   "metadata": {},
   "outputs": [
    {
     "name": "stdout",
     "output_type": "stream",
     "text": [
      "El tercer elemento de la lista es: verde\n"
     ]
    }
   ],
   "source": [
    "print(\"El tercer elemento de la lista es:\", colores[2])"
   ]
  },
  {
   "cell_type": "code",
   "execution_count": 51,
   "metadata": {},
   "outputs": [
    {
     "name": "stdout",
     "output_type": "stream",
     "text": [
      "verde\n"
     ]
    }
   ],
   "source": [
    "tercer_color = colores[2]\n",
    "print(tercer_color)"
   ]
  },
  {
   "cell_type": "markdown",
   "metadata": {},
   "source": [
    "3. Modificar elementos: Cambia el segundo color de la lista por otro de tu elección."
   ]
  },
  {
   "cell_type": "code",
   "execution_count": 52,
   "metadata": {},
   "outputs": [
    {
     "name": "stdout",
     "output_type": "stream",
     "text": [
      "['azul', 'negro', 'verde', 'amarillo', 'rojo']\n"
     ]
    }
   ],
   "source": [
    "colores [1] = 'negro'\n",
    "print(colores)"
   ]
  },
  {
   "cell_type": "markdown",
   "metadata": {},
   "source": [
    "4. Agregar elementos: Agrega dos colores nuevos a la lista."
   ]
  },
  {
   "cell_type": "code",
   "execution_count": 53,
   "metadata": {},
   "outputs": [
    {
     "name": "stdout",
     "output_type": "stream",
     "text": [
      "['azul', 'negro', 'verde', 'amarillo', 'rojo', 'lila', 'granate']\n"
     ]
    }
   ],
   "source": [
    "# creando la lista dentro de extend.\n",
    "colores.extend(['lila','granate'])\n",
    "print(colores)"
   ]
  },
  {
   "cell_type": "code",
   "execution_count": 54,
   "metadata": {},
   "outputs": [
    {
     "name": "stdout",
     "output_type": "stream",
     "text": [
      "['azul', 'negro', 'verde', 'amarillo', 'rojo', 'lila', 'granate', 'blanco', 'morado']\n"
     ]
    }
   ],
   "source": [
    "# creando la lista primero, y luego añadiéndola con extend.\n",
    "nuevos_colores = ['blanco', 'morado']\n",
    "colores.extend(nuevos_colores)\n",
    "print(colores)"
   ]
  },
  {
   "cell_type": "markdown",
   "metadata": {},
   "source": [
    "5. Eliminar elementos: Elimina el cuarto color de la lista."
   ]
  },
  {
   "cell_type": "code",
   "execution_count": 55,
   "metadata": {},
   "outputs": [
    {
     "name": "stdout",
     "output_type": "stream",
     "text": [
      "['azul', 'negro', 'verde', 'rojo', 'lila', 'granate', 'blanco', 'morado']\n"
     ]
    }
   ],
   "source": [
    "colores.pop(3)\n",
    "print(colores)"
   ]
  },
  {
   "cell_type": "markdown",
   "metadata": {},
   "source": [
    "6. Longitud de la lista: Encuentra la longitud de la lista de colores."
   ]
  },
  {
   "cell_type": "code",
   "execution_count": 56,
   "metadata": {},
   "outputs": [
    {
     "data": {
      "text/plain": [
       "8"
      ]
     },
     "execution_count": 56,
     "metadata": {},
     "output_type": "execute_result"
    }
   ],
   "source": [
    "len(colores)"
   ]
  },
  {
   "cell_type": "markdown",
   "metadata": {},
   "source": [
    "7. Ordenar la lista: Ordena la lista de colores en orden alfabético."
   ]
  },
  {
   "cell_type": "code",
   "execution_count": 57,
   "metadata": {},
   "outputs": [
    {
     "name": "stdout",
     "output_type": "stream",
     "text": [
      "['azul', 'blanco', 'granate', 'lila', 'morado', 'negro', 'rojo', 'verde']\n"
     ]
    }
   ],
   "source": [
    "colores.sort()\n",
    "print(colores)"
   ]
  },
  {
   "cell_type": "code",
   "execution_count": 58,
   "metadata": {},
   "outputs": [
    {
     "name": "stdout",
     "output_type": "stream",
     "text": [
      "['verde', 'rojo', 'negro', 'morado', 'lila', 'granate', 'blanco', 'azul']\n"
     ]
    }
   ],
   "source": [
    "colores.sort(reverse=True)\n",
    "print(colores)"
   ]
  },
  {
   "cell_type": "markdown",
   "metadata": {},
   "source": [
    "8. Listas anidadas: Crea una lista de dos sublistas, cada una con tres nombres de frutas."
   ]
  },
  {
   "cell_type": "code",
   "execution_count": 29,
   "metadata": {},
   "outputs": [
    {
     "name": "stdout",
     "output_type": "stream",
     "text": [
      "(['kiwi', 'melón', 'sandía'], ['pera', 'plátano', 'manzana'])\n"
     ]
    }
   ],
   "source": [
    "frutas = ['kiwi', 'melón', 'sandía'], ['pera', 'plátano', 'manzana']\n",
    "print(frutas)"
   ]
  },
  {
   "cell_type": "markdown",
   "metadata": {},
   "source": [
    "9. Concatenar listas: Concatena las dos sublistas en una sola lista de frutas."
   ]
  },
  {
   "cell_type": "code",
   "execution_count": 31,
   "metadata": {},
   "outputs": [
    {
     "name": "stdout",
     "output_type": "stream",
     "text": [
      "['kiwi', 'melón', 'sandía', 'pera', 'plátano', 'manzana']\n"
     ]
    }
   ],
   "source": [
    "frutas_todas = frutas[0] + frutas[1]\n",
    "print(frutas_todas)"
   ]
  },
  {
   "cell_type": "markdown",
   "metadata": {},
   "source": [
    "10. Repetir elementos: Repite la lista de frutas tres veces para obtener una lista más larga."
   ]
  },
  {
   "cell_type": "code",
   "execution_count": 32,
   "metadata": {},
   "outputs": [
    {
     "name": "stdout",
     "output_type": "stream",
     "text": [
      "['kiwi', 'melón', 'sandía', 'pera', 'plátano', 'manzana', 'kiwi', 'melón', 'sandía', 'pera', 'plátano', 'manzana', 'kiwi', 'melón', 'sandía', 'pera', 'plátano', 'manzana']\n"
     ]
    }
   ],
   "source": [
    "lista_tripe = frutas_todas *3\n",
    "print(lista_tripe)"
   ]
  },
  {
   "cell_type": "markdown",
   "metadata": {},
   "source": [
    "11. Acceder a la primera lista de frutas: Crea una variable llamada primera_lista y asigna la primera lista de frutas a esta variable."
   ]
  },
  {
   "cell_type": "code",
   "execution_count": 33,
   "metadata": {},
   "outputs": [
    {
     "name": "stdout",
     "output_type": "stream",
     "text": [
      "['kiwi', 'melón', 'sandía']\n"
     ]
    }
   ],
   "source": [
    "primera_lista = frutas[0]\n",
    "print(primera_lista)"
   ]
  },
  {
   "cell_type": "markdown",
   "metadata": {},
   "source": [
    "12. Acceder a la segunda lista de frutas: Crea una variable llamada segunda_lista y asigna la segunda lista de frutas a esta variable."
   ]
  },
  {
   "cell_type": "code",
   "execution_count": 34,
   "metadata": {},
   "outputs": [
    {
     "name": "stdout",
     "output_type": "stream",
     "text": [
      "['pera', 'plátano', 'manzana']\n"
     ]
    }
   ],
   "source": [
    "segunda_lista = frutas[1]\n",
    "print(segunda_lista)"
   ]
  },
  {
   "cell_type": "markdown",
   "metadata": {},
   "source": [
    "13. Acceder a la primera fruta de la primera lista: Crea una variable llamada primera_fruta y asigna la primera fruta de la primera lista de frutas a esta variable."
   ]
  },
  {
   "cell_type": "code",
   "execution_count": 35,
   "metadata": {},
   "outputs": [
    {
     "name": "stdout",
     "output_type": "stream",
     "text": [
      "kiwi\n"
     ]
    }
   ],
   "source": [
    "primera_fruta = primera_lista[0]\n",
    "print(primera_fruta)"
   ]
  },
  {
   "cell_type": "code",
   "execution_count": 37,
   "metadata": {},
   "outputs": [
    {
     "name": "stdout",
     "output_type": "stream",
     "text": [
      "kiwi\n"
     ]
    }
   ],
   "source": [
    "primera_fruta = frutas[0][0]\n",
    "print(primera_fruta)"
   ]
  },
  {
   "cell_type": "markdown",
   "metadata": {},
   "source": [
    "14. Acceder a la última fruta de la segunda lista: Crea una variable llamada ultima_fruta y asigna la última fruta de la segunda lista de frutas a esta variable."
   ]
  },
  {
   "cell_type": "code",
   "execution_count": 36,
   "metadata": {},
   "outputs": [
    {
     "name": "stdout",
     "output_type": "stream",
     "text": [
      "manzana\n"
     ]
    }
   ],
   "source": [
    "ultima_fruta = segunda_lista[2]\n",
    "print(ultima_fruta)"
   ]
  },
  {
   "cell_type": "code",
   "execution_count": 38,
   "metadata": {},
   "outputs": [
    {
     "name": "stdout",
     "output_type": "stream",
     "text": [
      "manzana\n"
     ]
    }
   ],
   "source": [
    "ultima_fruta = frutas[1][2]\n",
    "print(ultima_fruta)"
   ]
  },
  {
   "cell_type": "markdown",
   "metadata": {},
   "source": [
    "15. Acceder a la segunda fruta de la primera lista: Crea una variable llamada segunda_fruta y asigna la segunda fruta de la primera lista de frutas a esta variable."
   ]
  },
  {
   "cell_type": "code",
   "execution_count": 39,
   "metadata": {},
   "outputs": [
    {
     "name": "stdout",
     "output_type": "stream",
     "text": [
      "melón\n"
     ]
    }
   ],
   "source": [
    "segunda_fruta = primera_lista[1]\n",
    "print(segunda_fruta)"
   ]
  },
  {
   "cell_type": "code",
   "execution_count": 40,
   "metadata": {},
   "outputs": [
    {
     "name": "stdout",
     "output_type": "stream",
     "text": [
      "melón\n"
     ]
    }
   ],
   "source": [
    "segunda_fruta = frutas[0][1]\n",
    "print(segunda_fruta)"
   ]
  },
  {
   "cell_type": "markdown",
   "metadata": {},
   "source": [
    "16. Acceder a la última fruta de la primera lista: Crea una variable llamada ultima_fruta_primera_lista y asigna la última fruta de la primera lista de frutas a esta variable."
   ]
  },
  {
   "cell_type": "code",
   "execution_count": 41,
   "metadata": {},
   "outputs": [
    {
     "name": "stdout",
     "output_type": "stream",
     "text": [
      "sandía\n"
     ]
    }
   ],
   "source": [
    "ultima_fruta_primera_lista = primera_lista[-1]\n",
    "print(ultima_fruta_primera_lista)"
   ]
  },
  {
   "cell_type": "code",
   "execution_count": 42,
   "metadata": {},
   "outputs": [
    {
     "name": "stdout",
     "output_type": "stream",
     "text": [
      "sandía\n"
     ]
    }
   ],
   "source": [
    "ultima_fruta_primera_lista = frutas[0][-1]\n",
    "print(ultima_fruta_primera_lista)"
   ]
  },
  {
   "cell_type": "markdown",
   "metadata": {},
   "source": [
    "17. Acceder a la longitud de la segunda lista de frutas: Crea una variable llamada longitud_segunda_lista y asigna la longitud (número de elementos) de la segunda lista de frutas a esta variable."
   ]
  },
  {
   "cell_type": "code",
   "execution_count": 43,
   "metadata": {},
   "outputs": [
    {
     "name": "stdout",
     "output_type": "stream",
     "text": [
      "3\n"
     ]
    }
   ],
   "source": [
    "longitud_segunda_lista = len(segunda_lista)\n",
    "print(longitud_segunda_lista)"
   ]
  },
  {
   "cell_type": "code",
   "execution_count": 45,
   "metadata": {},
   "outputs": [
    {
     "data": {
      "text/plain": [
       "3"
      ]
     },
     "execution_count": 45,
     "metadata": {},
     "output_type": "execute_result"
    }
   ],
   "source": [
    "longitud_segunda_lista = len(frutas[1])\n",
    "longitud_segunda_lista"
   ]
  },
  {
   "cell_type": "markdown",
   "metadata": {},
   "source": [
    "18. Acceder a una porción de la segunda lista (slicing): Crea una variable llamada porcion_segunda_lista y asigna los dos primeros elementos de la segunda lista de frutas a esta variable utilizando el slicing."
   ]
  },
  {
   "cell_type": "code",
   "execution_count": 46,
   "metadata": {},
   "outputs": [
    {
     "name": "stdout",
     "output_type": "stream",
     "text": [
      "['pera', 'plátano']\n"
     ]
    }
   ],
   "source": [
    "porcion_segunda_lista = segunda_lista[0:2]\n",
    "print(porcion_segunda_lista)"
   ]
  },
  {
   "cell_type": "code",
   "execution_count": 47,
   "metadata": {},
   "outputs": [
    {
     "name": "stdout",
     "output_type": "stream",
     "text": [
      "['pera', 'plátano']\n"
     ]
    }
   ],
   "source": [
    "porcion_segunda_lista = frutas[1][0:2]\n",
    "print(porcion_segunda_lista)"
   ]
  },
  {
   "cell_type": "markdown",
   "metadata": {},
   "source": [
    "19. Cambiar la segunda fruta de la segunda lista: Cambia la segunda fruta de la segunda lista de frutas a \"ciruela\"."
   ]
  },
  {
   "cell_type": "code",
   "execution_count": 48,
   "metadata": {},
   "outputs": [
    {
     "name": "stdout",
     "output_type": "stream",
     "text": [
      "['pera', 'plátano', 'manzana']\n",
      "['pera', 'ciruela', 'manzana']\n"
     ]
    }
   ],
   "source": [
    "print(segunda_lista)\n",
    "segunda_lista[1] = 'ciruela'\n",
    "print(segunda_lista)"
   ]
  },
  {
   "cell_type": "markdown",
   "metadata": {},
   "source": [
    "20. Agregar una nueva fruta a la primera lista: Agrega una nueva fruta, \"kiwi\", a la primera lista de frutas."
   ]
  },
  {
   "cell_type": "code",
   "execution_count": 49,
   "metadata": {},
   "outputs": [
    {
     "name": "stdout",
     "output_type": "stream",
     "text": [
      "['kiwi', 'melón', 'sandía']\n",
      "['kiwi', 'melón', 'sandía', 'kiwi']\n"
     ]
    }
   ],
   "source": [
    "print(primera_lista)\n",
    "primera_lista.append('kiwi')\n",
    "print(primera_lista)"
   ]
  },
  {
   "cell_type": "markdown",
   "metadata": {},
   "source": [
    "# Tuplas"
   ]
  },
  {
   "cell_type": "markdown",
   "metadata": {},
   "source": [
    "1. Crear una tupla: Crea una tupla llamada mi_tupla con algunos elementos de tu elección."
   ]
  },
  {
   "cell_type": "code",
   "execution_count": 53,
   "metadata": {},
   "outputs": [
    {
     "name": "stdout",
     "output_type": "stream",
     "text": [
      "('antonio', 'manolo', 'juan', 'eustaquio', 'gumersindo', 'pepe')\n"
     ]
    }
   ],
   "source": [
    "mi_tupla = ('antonio', 'manolo', 'juan', 'eustaquio', 'gumersindo', 'pepe')\n",
    "print(mi_tupla)"
   ]
  },
  {
   "cell_type": "markdown",
   "metadata": {},
   "source": [
    "2. Acceder al primer elemento: Accede al primer elemento de mi_tupla y guárdalo en una variable llamada primer_elemento."
   ]
  },
  {
   "cell_type": "code",
   "execution_count": 54,
   "metadata": {},
   "outputs": [
    {
     "name": "stdout",
     "output_type": "stream",
     "text": [
      "antonio\n"
     ]
    }
   ],
   "source": [
    "primer_elemento = mi_tupla[0]\n",
    "print(primer_elemento)"
   ]
  },
  {
   "cell_type": "markdown",
   "metadata": {},
   "source": [
    "3. Acceder al último elemento: Accede al último elemento de mi_tupla y guárdalo en una variable llamada ultimo_elemento."
   ]
  },
  {
   "cell_type": "code",
   "execution_count": 55,
   "metadata": {},
   "outputs": [
    {
     "name": "stdout",
     "output_type": "stream",
     "text": [
      "pepe\n"
     ]
    }
   ],
   "source": [
    "ultimo_elemento = mi_tupla[-1]\n",
    "print(ultimo_elemento)"
   ]
  },
  {
   "cell_type": "markdown",
   "metadata": {},
   "source": [
    "4. Acceder a un rango de elementos: Utilizando el slicing, crea una nueva tupla llamada sub_tupla que contenga los elementos desde el segundo hasta el cuarto de mi_tupla."
   ]
  },
  {
   "cell_type": "code",
   "execution_count": 56,
   "metadata": {},
   "outputs": [
    {
     "name": "stdout",
     "output_type": "stream",
     "text": [
      "('manolo', 'juan', 'eustaquio', 'gumersindo')\n"
     ]
    }
   ],
   "source": [
    "sub_tupla = mi_tupla[1:5]\n",
    "print(sub_tupla)"
   ]
  },
  {
   "cell_type": "markdown",
   "metadata": {},
   "source": [
    "5. Concatenar dos tuplas: Crea otra tupla llamada otra_tupla y concaténala con mi_tupla para formar una nueva tupla llamada tupla_concatenada."
   ]
  },
  {
   "cell_type": "code",
   "execution_count": 57,
   "metadata": {},
   "outputs": [
    {
     "name": "stdout",
     "output_type": "stream",
     "text": [
      "('antonio', 'manolo', 'juan', 'eustaquio', 'gumersindo', 'pepe', 'lola', 'filomena', 'ramona')\n"
     ]
    }
   ],
   "source": [
    "otra_tupla = ('lola', 'filomena', 'ramona')\n",
    "\n",
    "tupla_concatenada = mi_tupla + otra_tupla\n",
    "print(tupla_concatenada)"
   ]
  },
  {
   "cell_type": "markdown",
   "metadata": {},
   "source": [
    "6. Encontrar la longitud: Encuentra la longitud de tupla_concatenada y guárdala en una variable llamada longitud."
   ]
  },
  {
   "cell_type": "code",
   "execution_count": 58,
   "metadata": {},
   "outputs": [
    {
     "name": "stdout",
     "output_type": "stream",
     "text": [
      "9\n"
     ]
    }
   ],
   "source": [
    "longitud = len(tupla_concatenada)\n",
    "print(longitud)"
   ]
  },
  {
   "cell_type": "markdown",
   "metadata": {},
   "source": [
    "7. Buscar un elemento: Verifica si un elemento específico está presente en mi_tupla, por ejemplo, \"manzana\"."
   ]
  },
  {
   "cell_type": "code",
   "execution_count": 59,
   "metadata": {},
   "outputs": [
    {
     "data": {
      "text/plain": [
       "False"
      ]
     },
     "execution_count": 59,
     "metadata": {},
     "output_type": "execute_result"
    }
   ],
   "source": [
    "elemento_buscado = 'manzana'\n",
    "elemento_buscado in mi_tupla"
   ]
  },
  {
   "cell_type": "code",
   "execution_count": 60,
   "metadata": {},
   "outputs": [
    {
     "data": {
      "text/plain": [
       "False"
      ]
     },
     "execution_count": 60,
     "metadata": {},
     "output_type": "execute_result"
    }
   ],
   "source": [
    "'manzana' in mi_tupla"
   ]
  },
  {
   "cell_type": "markdown",
   "metadata": {},
   "source": [
    "8. Contar elementos: Cuenta cuántas veces aparece un elemento específico en mi_tupla, por ejemplo, cuántas veces aparece \"pera\"."
   ]
  },
  {
   "cell_type": "code",
   "execution_count": 62,
   "metadata": {},
   "outputs": [
    {
     "data": {
      "text/plain": [
       "1"
      ]
     },
     "execution_count": 62,
     "metadata": {},
     "output_type": "execute_result"
    }
   ],
   "source": [
    "mi_tupla.count('pepe')"
   ]
  },
  {
   "cell_type": "code",
   "execution_count": 63,
   "metadata": {},
   "outputs": [
    {
     "data": {
      "text/plain": [
       "0"
      ]
     },
     "execution_count": 63,
     "metadata": {},
     "output_type": "execute_result"
    }
   ],
   "source": [
    "mi_tupla.count('severino')"
   ]
  },
  {
   "cell_type": "markdown",
   "metadata": {},
   "source": [
    "9. Desempaquetar una tupla: Si tienes una tupla de nombres (nombre, apellido), desempaqueta los valores en dos variables separadas."
   ]
  },
  {
   "cell_type": "code",
   "execution_count": 67,
   "metadata": {},
   "outputs": [
    {
     "name": "stdout",
     "output_type": "stream",
     "text": [
      "isa\n",
      "martinez\n"
     ]
    }
   ],
   "source": [
    "tupla_nombres = ('isa', 'martinez')\n",
    "nombre, apellido = tupla_nombres\n",
    "print(nombre)\n",
    "print(apellido)"
   ]
  },
  {
   "cell_type": "markdown",
   "metadata": {},
   "source": [
    "10. Convertir una lista en tupla: Crea una lista de números y conviértela en una tupla llamada tupla_desde_lista."
   ]
  },
  {
   "cell_type": "code",
   "execution_count": null,
   "metadata": {},
   "outputs": [],
   "source": [
    "lista_numeros = [1,2,3,4,5,6]\n",
    "print(type)\n",
    "tupla_numeros = tuple(lista_numeros)"
   ]
  },
  {
   "cell_type": "markdown",
   "metadata": {},
   "source": [
    "# Diccionarios"
   ]
  },
  {
   "cell_type": "markdown",
   "metadata": {},
   "source": [
    "1. Crear un diccionario: Crea un diccionario vacío llamado mi_diccionario con una key llamada apellido y que su value sea López."
   ]
  },
  {
   "cell_type": "code",
   "execution_count": 2,
   "metadata": {},
   "outputs": [
    {
     "name": "stdout",
     "output_type": "stream",
     "text": [
      "{'Apellido': 'López'}\n"
     ]
    }
   ],
   "source": [
    "mi_diccionario = {'Apellido':'López'}\n",
    "print(mi_diccionario)"
   ]
  },
  {
   "cell_type": "markdown",
   "metadata": {},
   "source": [
    "2. Agregar elementos: Agrega una clave-valor al diccionario mi_diccionario. Por ejemplo, agrega la clave \"nombre\" con el valor \"Juan\"."
   ]
  },
  {
   "cell_type": "code",
   "execution_count": 3,
   "metadata": {},
   "outputs": [
    {
     "name": "stdout",
     "output_type": "stream",
     "text": [
      "{'Apellido': 'López', 'Nombre': 'Jose'}\n"
     ]
    }
   ],
   "source": [
    "mi_diccionario['Nombre'] = 'Jose'\n",
    "print(mi_diccionario)"
   ]
  },
  {
   "cell_type": "markdown",
   "metadata": {},
   "source": [
    "3. Acceder a un valor: Accede al valor correspondiente a la clave \"nombre\" en mi_diccionario."
   ]
  },
  {
   "cell_type": "code",
   "execution_count": 4,
   "metadata": {},
   "outputs": [
    {
     "name": "stdout",
     "output_type": "stream",
     "text": [
      "Jose\n"
     ]
    }
   ],
   "source": [
    "print(mi_diccionario.get('Nombre'))"
   ]
  },
  {
   "cell_type": "code",
   "execution_count": 5,
   "metadata": {},
   "outputs": [
    {
     "name": "stdout",
     "output_type": "stream",
     "text": [
      "Jose\n"
     ]
    }
   ],
   "source": [
    "print(mi_diccionario['Nombre'])"
   ]
  },
  {
   "cell_type": "markdown",
   "metadata": {},
   "source": [
    "4. Modificar un valor: Cambia el valor de la clave \"nombre\" a \"Ana\"."
   ]
  },
  {
   "cell_type": "code",
   "execution_count": 6,
   "metadata": {},
   "outputs": [
    {
     "name": "stdout",
     "output_type": "stream",
     "text": [
      "{'Apellido': 'López', 'Nombre': 'Ana'}\n"
     ]
    }
   ],
   "source": [
    "mi_diccionario['Nombre'] = 'Ana'\n",
    "print(mi_diccionario)"
   ]
  },
  {
   "cell_type": "markdown",
   "metadata": {},
   "source": [
    "5. Eliminar un elemento: Elimina la clave \"nombre\" de mi_diccionario."
   ]
  },
  {
   "cell_type": "code",
   "execution_count": 7,
   "metadata": {},
   "outputs": [
    {
     "name": "stdout",
     "output_type": "stream",
     "text": [
      "{'Apellido': 'López'}\n"
     ]
    }
   ],
   "source": [
    "mi_diccionario.pop('Nombre')\n",
    "print(mi_diccionario)"
   ]
  },
  {
   "cell_type": "markdown",
   "metadata": {},
   "source": [
    "6. Verificar existencia: Verifica si la clave \"apellido\" existe en mi_diccionario."
   ]
  },
  {
   "cell_type": "code",
   "execution_count": 8,
   "metadata": {},
   "outputs": [
    {
     "data": {
      "text/plain": [
       "True"
      ]
     },
     "execution_count": 8,
     "metadata": {},
     "output_type": "execute_result"
    }
   ],
   "source": [
    "'Apellido' in mi_diccionario"
   ]
  },
  {
   "cell_type": "markdown",
   "metadata": {},
   "source": [
    "7. Obtener todas las claves: Obtén una lista de todas las claves en mi_diccionario."
   ]
  },
  {
   "cell_type": "code",
   "execution_count": 9,
   "metadata": {},
   "outputs": [
    {
     "name": "stdout",
     "output_type": "stream",
     "text": [
      "['Apellido']\n"
     ]
    }
   ],
   "source": [
    "print(list(mi_diccionario.keys()))"
   ]
  },
  {
   "cell_type": "markdown",
   "metadata": {},
   "source": [
    "8. Obtener todos los valores: Obtén una lista de todos los valores en mi_diccionario."
   ]
  },
  {
   "cell_type": "code",
   "execution_count": 10,
   "metadata": {},
   "outputs": [
    {
     "name": "stdout",
     "output_type": "stream",
     "text": [
      "['López']\n"
     ]
    }
   ],
   "source": [
    "print(list(mi_diccionario.values()))"
   ]
  },
  {
   "cell_type": "markdown",
   "metadata": {},
   "source": [
    "9. Recorrer el diccionario: Usa un bucle for para recorrer y mostrar todas las claves y valores en mi_diccionario."
   ]
  },
  {
   "cell_type": "code",
   "execution_count": 11,
   "metadata": {},
   "outputs": [
    {
     "name": "stdout",
     "output_type": "stream",
     "text": [
      "Apellido López\n"
     ]
    }
   ],
   "source": [
    "for k, v in mi_diccionario.items():\n",
    "    print(k,v)"
   ]
  },
  {
   "cell_type": "markdown",
   "metadata": {},
   "source": [
    "10. Longitud del diccionario: Calcula la longitud (cantidad de elementos) de mi_diccionario."
   ]
  },
  {
   "cell_type": "code",
   "execution_count": 80,
   "metadata": {},
   "outputs": [
    {
     "name": "stdout",
     "output_type": "stream",
     "text": [
      "1\n"
     ]
    }
   ],
   "source": [
    "print(len(mi_diccionario))"
   ]
  },
  {
   "cell_type": "markdown",
   "metadata": {},
   "source": [
    "11. Copiar un diccionario: Crea una copia de mi_diccionario llamada copia_diccionario."
   ]
  },
  {
   "cell_type": "code",
   "execution_count": 82,
   "metadata": {},
   "outputs": [
    {
     "name": "stdout",
     "output_type": "stream",
     "text": [
      "{'Apellido': 'López'}\n"
     ]
    }
   ],
   "source": [
    "copia_diccionario = mi_diccionario.copy()\n",
    "print(copia_diccionario)"
   ]
  },
  {
   "cell_type": "markdown",
   "metadata": {},
   "source": [
    "12. Eliminar elementos: Elimina todos los elementos de copia_diccionario."
   ]
  },
  {
   "cell_type": "code",
   "execution_count": 83,
   "metadata": {},
   "outputs": [
    {
     "name": "stdout",
     "output_type": "stream",
     "text": [
      "{}\n"
     ]
    }
   ],
   "source": [
    "copia_diccionario.clear()\n",
    "print(copia_diccionario)"
   ]
  },
  {
   "cell_type": "markdown",
   "metadata": {},
   "source": [
    "13. Combinar diccionarios: Crea otro diccionario llamado diccionario_combinado y combina mi_diccionario y copia_diccionario en él."
   ]
  },
  {
   "cell_type": "code",
   "execution_count": 86,
   "metadata": {},
   "outputs": [
    {
     "name": "stdout",
     "output_type": "stream",
     "text": [
      "None\n"
     ]
    }
   ],
   "source": [
    "diccionario_combinado = mi_diccionario.update(copia_diccionario)\n",
    "print(diccionario_combinado)"
   ]
  },
  {
   "cell_type": "code",
   "execution_count": 87,
   "metadata": {},
   "outputs": [
    {
     "name": "stdout",
     "output_type": "stream",
     "text": [
      "{'Apellido': 'López'}\n"
     ]
    }
   ],
   "source": [
    "print(mi_diccionario)"
   ]
  },
  {
   "cell_type": "markdown",
   "metadata": {},
   "source": [
    "14. Obtener valor predeterminado: Intenta acceder a la clave \"edad\" en mi_diccionario. Si no existe, muestra el valor predeterminado \"Desconocida\"."
   ]
  },
  {
   "cell_type": "code",
   "execution_count": 88,
   "metadata": {},
   "outputs": [
    {
     "name": "stdout",
     "output_type": "stream",
     "text": [
      "Desconocida\n"
     ]
    }
   ],
   "source": [
    "print(mi_diccionario.get('edad', 'Desconocida'))"
   ]
  },
  {
   "cell_type": "markdown",
   "metadata": {},
   "source": [
    "15. Clave máxima: Encuentra la clave con el valor máximo en un diccionario que contenga pares clave-valor numéricos."
   ]
  },
  {
   "cell_type": "code",
   "execution_count": 89,
   "metadata": {},
   "outputs": [
    {
     "name": "stdout",
     "output_type": "stream",
     "text": [
      "{'a': 1, 'b': 2, 'c': 3, 'd': 4}\n",
      "d\n"
     ]
    }
   ],
   "source": [
    "diccionario_numeros = {'a':1, 'b':2, 'c':3, 'd':4}\n",
    "print(diccionario_numeros)\n",
    "print(max(diccionario_numeros))"
   ]
  },
  {
   "cell_type": "markdown",
   "metadata": {},
   "source": [
    "# Sets"
   ]
  },
  {
   "cell_type": "markdown",
   "metadata": {},
   "source": [
    "1. Crear un conjunto vacío: Crea un conjunto llamado mi_set que esté vacío."
   ]
  },
  {
   "cell_type": "code",
   "execution_count": 107,
   "metadata": {},
   "outputs": [
    {
     "name": "stdout",
     "output_type": "stream",
     "text": [
      "<class 'set'>\n",
      "set()\n"
     ]
    }
   ],
   "source": [
    "mi_set = set()\n",
    "print(type(mi_set))\n",
    "print(mi_set)"
   ]
  },
  {
   "cell_type": "markdown",
   "metadata": {},
   "source": [
    "2. Agregar elementos a un conjunto: Agrega los números 1, 2 y 3 al conjunto mi_set."
   ]
  },
  {
   "cell_type": "code",
   "execution_count": 108,
   "metadata": {},
   "outputs": [
    {
     "name": "stdout",
     "output_type": "stream",
     "text": [
      "{1, 2, 3}\n"
     ]
    }
   ],
   "source": [
    "mi_set.add(1)\n",
    "mi_set.add(2)\n",
    "mi_set.add(3)\n",
    "print(mi_set)"
   ]
  },
  {
   "cell_type": "markdown",
   "metadata": {},
   "source": [
    "3. Eliminar elementos de un conjunto: Elimina el número 2 del conjunto mi_set."
   ]
  },
  {
   "cell_type": "code",
   "execution_count": 109,
   "metadata": {},
   "outputs": [
    {
     "name": "stdout",
     "output_type": "stream",
     "text": [
      "{1, 3}\n"
     ]
    }
   ],
   "source": [
    "mi_set.remove(2)\n",
    "print(mi_set)"
   ]
  },
  {
   "cell_type": "markdown",
   "metadata": {},
   "source": [
    "4. Verificar pertenencia: Comprueba si el número 3 está en mi_set y almacena el resultado en una variable llamada existe."
   ]
  },
  {
   "cell_type": "code",
   "execution_count": 112,
   "metadata": {},
   "outputs": [
    {
     "name": "stdout",
     "output_type": "stream",
     "text": [
      "True\n"
     ]
    }
   ],
   "source": [
    "existe = 3 in mi_set\n",
    "print(existe)"
   ]
  },
  {
   "cell_type": "markdown",
   "metadata": {},
   "source": [
    "5. Operaciones de conjuntos: Crea dos conjuntos set1 y set2 con números y encuentra la intersección de ambos conjuntos."
   ]
  },
  {
   "cell_type": "code",
   "execution_count": 114,
   "metadata": {},
   "outputs": [
    {
     "name": "stdout",
     "output_type": "stream",
     "text": [
      "{4, 5, 6}\n"
     ]
    }
   ],
   "source": [
    "set1 = {1, 2, 3, 4, 5, 6}\n",
    "set2 = {9, 8, 7, 6, 5, 4}\n",
    "\n",
    "interseccion = set1.intersection(set2)\n",
    "print(interseccion)"
   ]
  },
  {
   "cell_type": "markdown",
   "metadata": {},
   "source": [
    "6. Unión de conjuntos: Combina set1 y set2 para formar un nuevo conjunto que contenga todos los elementos de ambos."
   ]
  },
  {
   "cell_type": "code",
   "execution_count": 116,
   "metadata": {},
   "outputs": [
    {
     "name": "stdout",
     "output_type": "stream",
     "text": [
      "{1, 2, 3, 4, 5, 6, 7, 8, 9}\n"
     ]
    }
   ],
   "source": [
    "union = set1.union(set2)\n",
    "print(union)"
   ]
  },
  {
   "cell_type": "markdown",
   "metadata": {},
   "source": [
    "7. Diferencia de conjuntos: Encuentra los elementos que están en set1 pero no en set2."
   ]
  },
  {
   "cell_type": "code",
   "execution_count": 117,
   "metadata": {},
   "outputs": [
    {
     "name": "stdout",
     "output_type": "stream",
     "text": [
      "{1, 2, 3}\n"
     ]
    }
   ],
   "source": [
    "diferencia = set1.difference(set2)\n",
    "print(diferencia)"
   ]
  },
  {
   "cell_type": "markdown",
   "metadata": {},
   "source": [
    "8. Comparación de conjuntos: Comprueba si set1 es un subconjunto de set2 y almacena el resultado en una variable llamada es_subconjunto."
   ]
  },
  {
   "cell_type": "code",
   "execution_count": 118,
   "metadata": {},
   "outputs": [
    {
     "name": "stdout",
     "output_type": "stream",
     "text": [
      "False\n"
     ]
    }
   ],
   "source": [
    "es_subconjunto = set1.issubset(set2)\n",
    "print(es_subconjunto)"
   ]
  },
  {
   "cell_type": "markdown",
   "metadata": {},
   "source": [
    "9. Eliminar elementos duplicados: Dada una lista mi_lista con elementos duplicados, conviértela en un conjunto para eliminar los duplicados."
   ]
  },
  {
   "cell_type": "code",
   "execution_count": 119,
   "metadata": {},
   "outputs": [
    {
     "name": "stdout",
     "output_type": "stream",
     "text": [
      "['a', 'b', 'c', 'd', 'a', 'b', 'c']\n",
      "{'b', 'a', 'c', 'd'}\n"
     ]
    }
   ],
   "source": [
    "mi_lista = ['a', 'b', 'c', 'd', 'a', 'b', 'c']\n",
    "print(mi_lista)\n",
    "conjunto = set(mi_lista)\n",
    "print(conjunto)"
   ]
  },
  {
   "cell_type": "markdown",
   "metadata": {},
   "source": [
    "10. Comprobar igualdad de conjuntos: Compara si set1 y set2 son iguales y almacena el resultado en una variable llamada son_iguales."
   ]
  },
  {
   "cell_type": "code",
   "execution_count": 121,
   "metadata": {},
   "outputs": [
    {
     "name": "stdout",
     "output_type": "stream",
     "text": [
      "False\n"
     ]
    }
   ],
   "source": [
    "son_iguales = set1 == set2\n",
    "print(son_iguales)"
   ]
  },
  {
   "cell_type": "markdown",
   "metadata": {},
   "source": [
    "# Sentencias de control"
   ]
  },
  {
   "cell_type": "markdown",
   "metadata": {},
   "source": [
    "1. Clasificación de triángulos: Pide al usuario que ingrese las longitudes de tres lados de un triángulo. Determina si el triángulo es equilátero (todos los lados iguales), isósceles (dos lados iguales), o escaleno (ningún lado igual)."
   ]
  },
  {
   "cell_type": "code",
   "execution_count": 138,
   "metadata": {},
   "outputs": [
    {
     "name": "stdout",
     "output_type": "stream",
     "text": [
      "El lado1 mide: 2\n",
      "El lado2 mide: 3\n",
      "El lado3 mide: 4\n",
      "Es un triánguno escaleno porque no tiene nigún lado igual\n"
     ]
    }
   ],
   "source": [
    "lado1 = input(\"Introduce la longitud del lado 1\")\n",
    "print(\"El lado1 mide:\", lado1)\n",
    "lado2 = input(\"Introduce la longitud del lado 2\")\n",
    "print(\"El lado2 mide:\", lado2)\n",
    "lado3 = input(\"Introduce la longitud del lado 3\")\n",
    "print(\"El lado3 mide:\", lado3)\n",
    "\n",
    "if lado1 == lado2 and lado1 == lado3:\n",
    "    print(\"Es un triángulo equilátero porque todos los lados son iguales\")\n",
    "elif lado1 == lado2 or lado1 == lado3:\n",
    "    print(\"Es un triángulo isósceles porque tiene dos lados iguales\")\n",
    "elif lado2 == lado1 or lado2 == lado3:\n",
    "    print(\"Es un triángulo isósceles porque tiene dos lados iguales\")\n",
    "else:\n",
    "    print(\"Es un triánguno escaleno porque no tiene nigún lado igual\")"
   ]
  },
  {
   "cell_type": "markdown",
   "metadata": {},
   "source": [
    "2. Conversión de temperatura: Crea un programa que permita al usuario convertir temperaturas entre Celsius y Fahrenheit. Pide al usuario que ingrese la temperatura y la unidad (C o F) y realiza la conversión."
   ]
  },
  {
   "cell_type": "code",
   "execution_count": 149,
   "metadata": {},
   "outputs": [
    {
     "name": "stdout",
     "output_type": "stream",
     "text": [
      "Los grados a convertir son: 34.0\n",
      "El tipo de grados a convertir es: c\n",
      "La temperatura en Fahrenheit es: 93.2\n"
     ]
    }
   ],
   "source": [
    "# conversión celsius a fahrenheit: (grados*9/5)+32\n",
    "# conveersión de fahrenheit a celsius: (grados-32)*5/9\n",
    "\n",
    "temperatura = float(input(\"Ingrersa la temperatura\"))\n",
    "print(\"Los grados a convertir son:\", temperatura)\n",
    "unidad = input(\"Escribe C para Celsius y F para Fahrenheit\")\n",
    "print(\"El tipo de grados a convertir es:\", unidad)\n",
    "\n",
    "paso_a_fahrenheit = (temperatura*9/5)+32\n",
    "paso_a_celsius = (temperatura-32)*5/9\n",
    "\n",
    "if unidad.upper() == 'C':\n",
    "    print(\"La temperatura en Fahrenheit es:\", paso_a_fahrenheit)\n",
    "elif unidad.upper() == 'F':\n",
    "    print(\"La temperatura en Celsius es:\", paso_a_celsius)\n",
    "else:\n",
    "    print(\"Introdujiste un tipo de grado erróneo\")\n"
   ]
  },
  {
   "cell_type": "code",
   "execution_count": 148,
   "metadata": {},
   "outputs": [
    {
     "name": "stdout",
     "output_type": "stream",
     "text": [
      "Los grados a convertir son: 34.0\n",
      "El tipo de grados a convertir es: c\n",
      "La temperatura en Fahrenheit es: 93.2\n"
     ]
    }
   ],
   "source": [
    "# conversión celsius a fahrenheit: (grados*9/5)+32\n",
    "# conveersión de fahrenheit a celsius: (grados-32)*5/9\n",
    "\n",
    "temperatura = float(input(\"Ingrersa la temperatura\"))\n",
    "print(\"Los grados a convertir son:\", temperatura)\n",
    "unidad = input(\"Escribe C para Celsius y F para Fahrenheit\")\n",
    "print(\"El tipo de grados a convertir es:\", unidad)\n",
    "\n",
    "\n",
    "if unidad.upper() == 'C':\n",
    "    grados_fahrenheit = (temperatura*9/5)+32\n",
    "    print(\"La temperatura en Fahrenheit es:\", grados_fahrenheit)\n",
    "elif unidad.upper() == 'F':\n",
    "    grados_celsius = (temperatura-32)*5/9\n",
    "    print(\"La temperatura en Celsius es:\", grados_celsius)\n",
    "else:\n",
    "    print(\"Introdujiste un tipo de grado erróneo\")"
   ]
  },
  {
   "cell_type": "markdown",
   "metadata": {},
   "source": [
    "3. Cajero automático: Simula un cajero automático que permite a los usuarios verificar su saldo, depositar y retirar dinero. El programa debe mantener un registro del saldo actual."
   ]
  },
  {
   "cell_type": "code",
   "execution_count": 12,
   "metadata": {},
   "outputs": [
    {
     "name": "stdout",
     "output_type": "stream",
     "text": [
      "Tu saldo inicial es: 100.0\n",
      "Has elegido: ingresar\n",
      "Ingreso: 20.0\n",
      "Tu saldo final es: 120.0\n",
      "Has elegido: retirar\n",
      "Retirada: 10.0\n",
      "Tu saldo final es: 110.0\n",
      "Has elegido: fgosdf\n",
      "Opción inválida. Vuelve a intentarlo.\n",
      "Opción inválida. Vuelve a intentarlo.\n",
      "Has elegido: salir\n"
     ]
    }
   ],
   "source": [
    "saldo = float(100)\n",
    "print(\"Tu saldo inicial es:\", saldo)\n",
    "opciones = ('ingresar', 'retirar', 'salir')\n",
    "\n",
    "while True:\n",
    "\n",
    "    opcion = input(\"¿Qué desear hacer: ingresar, retirar o salir\")\n",
    "    opcion = opcion.lower()\n",
    "    print(\"Has elegido:\", opcion)\n",
    "    if not opcion in opciones:\n",
    "        print(\"Opción inválida. Vuelve a intentarlo.\")\n",
    "\n",
    "    if opcion == 'ingresar':\n",
    "        ingreso = float(input(\"¿Cuánto quieres ingresar?\"))\n",
    "        print(\"Ingreso:\", ingreso)\n",
    "        saldo += ingreso\n",
    "        print(\"Tu saldo final es:\", saldo)\n",
    "\n",
    "    elif opcion == 'retirar':\n",
    "        retirada = float(input(\"¿Cuánto quieres retirar?\"))\n",
    "        print(\"Retirada:\", retirada)\n",
    "        if retirada <= saldo:\n",
    "            saldo -= retirada\n",
    "            print(\"Tu saldo final es:\", saldo)\n",
    "        else: print(\"Saldo insuficiente\") # porque retirada > saldo\n",
    "\n",
    "    elif opcion == 'salir':\n",
    "        break\n",
    "\n",
    "    else: print(\"Opción inválida. Vuelve a intentarlo.\")\n"
   ]
  },
  {
   "cell_type": "markdown",
   "metadata": {},
   "source": [
    "4. Calculadora de descuento: Pide al usuario que ingrese el precio original de un producto y el porcentaje de descuento. Calcula el precio final después del descuento y muestra el ahorro."
   ]
  },
  {
   "cell_type": "code",
   "execution_count": 21,
   "metadata": {},
   "outputs": [
    {
     "name": "stdout",
     "output_type": "stream",
     "text": [
      "El precio original era: 20.0\n",
      "El porcentaje de descuento es: 5\n",
      "El precio final es: 19.0\n",
      "El ahorro es: 1.0\n"
     ]
    }
   ],
   "source": [
    "precio_original = float(input(\"Ingrersa el precio original\"))\n",
    "print(\"El precio original era:\", precio_original)\n",
    "\n",
    "porcentaje_descuento = int(input(\"Ingresa el porcentaje de descuento\"))\n",
    "print(\"El porcentaje de descuento es:\", porcentaje_descuento)\n",
    "\n",
    "precio_final = precio_original - (precio_original * (porcentaje_descuento/100))\n",
    "print(\"El precio final es:\", precio_final)\n",
    "ahorro = precio_original - precio_final\n",
    "print(\"El ahorro es:\", ahorro)"
   ]
  },
  {
   "cell_type": "markdown",
   "metadata": {},
   "source": [
    "5. Cálculo de promedio de calificaciones: Pide al usuario que ingrese una serie de calificaciones y calcule el promedio. También muestra si el estudiante aprobó (promedio mayor o igual a 5) o no. Pistas:\n",
    "\n",
    "Solicita al usuario que ingrese la cantidad de calificaciones que quiere promediar.\n",
    "\n",
    "Luego, pide al usuario que ingrese cada calificación una por una.\n",
    "\n",
    "Calcula el promedio de las calificaciones ingresadas.\n",
    "\n",
    "Muestra el resultado del promedio con dos decimales.\n",
    "\n",
    "Determina si el estudiante aprobó o no. Un estudiante se considera aprobado si su promedio es mayor o igual a 5."
   ]
  },
  {
   "cell_type": "code",
   "execution_count": 27,
   "metadata": {},
   "outputs": [
    {
     "name": "stdout",
     "output_type": "stream",
     "text": [
      "El número de calificaciones a promediar es: 3\n",
      "Las calificaciones son: [6.0, 6.0, 8.0]\n",
      "El promedio de calificaciones es: 6.67\n",
      "Aprobado\n"
     ]
    }
   ],
   "source": [
    "numero_calificaciones = int(input(\"¿Cuántas calificaciones quieres promediar?\"))\n",
    "print(\"El número de calificaciones a promediar es:\", numero_calificaciones)\n",
    "calificaciones = []\n",
    "\n",
    "for _ in range(numero_calificaciones):\n",
    "    calificacion = float(input(\"Ingresa una calificación\"))\n",
    "    calificaciones.append(calificacion)\n",
    "\n",
    "print(\"Las calificaciones son:\", calificaciones)\n",
    "\n",
    "promedio = sum(calificaciones) / numero_calificaciones\n",
    "print(f\"El promedio de calificaciones es: {promedio:.2f}\")\n",
    "\n",
    "if promedio >= 5: print(\"Aprobado\")\n",
    "else: print(\"Suspenso\")"
   ]
  },
  {
   "cell_type": "markdown",
   "metadata": {},
   "source": [
    "6. Generador de contraseñas seguras: Crea un programa que genere una contraseña segura. El usuario debe especificar la longitud deseada y si desea incluir números, letras mayúsculas, minúsculas y caracteres especiales. Pistas:\n",
    "\n",
    "Pregunta al usuario cuántos caracteres debe tener la contraseña que desea generar.\n",
    "\n",
    "Luego, consulta al usuario si quiere incluir números, letras mayúsculas, letras minúsculas y caracteres especiales en su contraseña.\n",
    "\n",
    "Basado en las respuestas del usuario, crea una contraseña segura aleatoria que cumple con los criterios especificados.\n",
    "\n",
    "Muestra la contraseña generada como resultado.\n",
    "\n",
    "Este ejercicio le permite al usuario personalizar la fortaleza y complejidad de su contraseña según sus preferencias, lo que es esencial para mantener la seguridad en línea."
   ]
  },
  {
   "cell_type": "code",
   "execution_count": 32,
   "metadata": {},
   "outputs": [
    {
     "name": "stdout",
     "output_type": "stream",
     "text": [
      "Número de caracteres: 0123456789ABCDEFGHIJKLMNOPQRSTUVWXYZabcdefghijklmnopqrstuvwxyz!\"#$%&'()*+,-./:;<=>?@[\\]^_`{|}~\n",
      "Necesita números: True\n",
      "Necesita mayúsculas: False\n",
      "Necesita minúsculas: True\n",
      "Necesita caracteres especiales: True\n",
      "Contraseña generada: l`?nsax\n"
     ]
    }
   ],
   "source": [
    "import random\n",
    "import string\n",
    "\n",
    "longitud = int(input(\"¿Cuántos caracteres debe tener la contraseña?\"))\n",
    "print(\"Número de caracteres:\", caracteres)\n",
    "numeros = (input(\"¿Necesitas números? s/n\").lower()) == 's'\n",
    "print(\"Necesita números:\", numeros)\n",
    "mayusculas = (input(\"¿Necesitas mayúsculas? s/n\").lower()) == 's'\n",
    "print(\"Necesita mayúsculas:\", mayusculas)\n",
    "minusculas = (input(\"¿Necesitas minúsculas? s/n\").lower()) == 's'\n",
    "print(\"Necesita minúsculas:\", minusculas)\n",
    "especiales = (input(\"¿Necesitas caracteres especiales? s/n\").lower()) == 's'\n",
    "print(\"Necesita caracteres especiales:\", especiales)\n",
    "\n",
    "caracteres = \"\"\n",
    "\n",
    "if numeros:\n",
    "    caracteres += string.digits\n",
    "if mayusculas:\n",
    "    caracteres += string.ascii_uppercase\n",
    "if minusculas:\n",
    "    caracteres += string.ascii_lowercase\n",
    "if especiales:\n",
    "    caracteres += string.punctuation\n",
    "\n",
    "if not (numeros or mayusculas or minusculas or especiales):\n",
    "    print(\"Selecciona al menos una opción\")\n",
    "\n",
    "else:\n",
    "    contraseña = ''.join(random.choice(caracteres) for _ in  range(longitud))\n",
    "    print(\"Contraseña generada:\", contraseña)\n",
    "\n",
    "\n"
   ]
  },
  {
   "cell_type": "markdown",
   "metadata": {},
   "source": [
    "7. Calculadora de edad de perros: Pide al usuario que ingrese la edad de su perro en años y calcula su edad equivalente en años humanos. La fórmula comúnmente utilizada es diferente para los primeros dos años y luego para el resto."
   ]
  },
  {
   "cell_type": "code",
   "execution_count": 19,
   "metadata": {},
   "outputs": [
    {
     "name": "stdout",
     "output_type": "stream",
     "text": [
      "Tu perro tiene 2.5 años caninos\n",
      "Tu perro tiene 31.5 años humanos\n"
     ]
    }
   ],
   "source": [
    "#en internet hay varias teorías sobre la equivalencia. Elegí la que dice que los dos primeros años equivalen a 28 años humanos.\n",
    "edad_perro=float(input('Introduce la edad de tu perro'))\n",
    "print(f'Tu perro tiene {edad_perro} años caninos')\n",
    "\n",
    "if edad_perro<=2:\n",
    "    primeros_anios=edad_perro*14\n",
    "    print(f'Tu perro tiene {primeros_anios} años humanos')\n",
    "else:\n",
    "    primeros_anios=2*14 #cada año de los dos primeros equivalen a 14 años humanos\n",
    "    siguientes_anios=(edad_perro-2)*7 #cada año de los siguientes equivale a 7 años humanos\n",
    "    total_anios=primeros_anios+siguientes_anios\n",
    "    print(f'Tu perro tiene {total_anios} años humanos')"
   ]
  },
  {
   "cell_type": "markdown",
   "metadata": {},
   "source": [
    "8. Simulador de ruleta: Simula un juego de ruleta en el que el usuario apuesta un monto en un número o color específico. Genera un número aleatorio y determina si el usuario gana o pierde.\n",
    "\n",
    "Comienza por preguntar al usuario cuánto dinero quiere apostar en el juego de ruleta.\n",
    "\n",
    "Luego, pregunta al usuario si quiere apostar a un número específico o a un color (rojo o negro).\n",
    "\n",
    "Si el usuario elige apostar a un número, solicita que ingrese el número en el que quiere apostar (de 1 a 36, ya que son los números en una ruleta estándar).\n",
    "\n",
    "Si el usuario elige apostar a un color, solicita que indique si desea apostar al color rojo o negro.\n",
    "\n",
    "Genera un número aleatorio entre 1 y 36 para simular el resultado de la ruleta.\n",
    "\n",
    "Comprueba si el resultado coincide con la apuesta del usuario (ya sea número o color).\n",
    "\n",
    "Si coincide, el usuario gana un premio equivalente a su apuesta.\n",
    "\n",
    "Si no coincide, el usuario pierde la apuesta.\n",
    "\n",
    "Muestra el resultado del juego, indicando si el usuario ganó o perdió y cuánto dinero tiene después del juego."
   ]
  },
  {
   "cell_type": "code",
   "execution_count": 23,
   "metadata": {},
   "outputs": [
    {
     "name": "stdout",
     "output_type": "stream",
     "text": [
      "El número a adivinar es: 2\n",
      "El color a adivinar es: rojo\n",
      "Enhorabuena. Has ganado: 20.0€\n"
     ]
    }
   ],
   "source": [
    "import random\n",
    "dinero_apostado=float(input('¿Cuánto dinero quieres apostar?'))\n",
    "numero_o_color=input('¿Quieres apostar a un número específico o a un color? Indica cuál (número/color)').lower()\n",
    "numero_apostado=int(input('¿A qué número del 1 al 36 quieres apostar?'))\n",
    "color_apostado=input('¿A qué color quieres apostar: rojo o negro?').lower()\n",
    "opciones_numero=range(1,36)\n",
    "opciones_color=('rojo','negro')\n",
    "\n",
    "numero_ruleta=random.randint(1,36) # es el número a adivinar\n",
    "print(f'El número a adivinar es: {numero_ruleta}')\n",
    "color_ruleta=random.choice(opciones_color)\n",
    "print(f'El color a adivinar es: {color_ruleta}')\n",
    "\n",
    "if numero_apostado == numero_ruleta and color_apostado == color_ruleta:\n",
    "    dinero_ganado=(dinero_apostado*36)*2 #gana dos veces, por haber adivinado el número y el color\n",
    "    print(f'Enhorabuena. Has ganado: {dinero_ganado}€')\n",
    "elif numero_apostado == numero_ruleta:\n",
    "    dinero_ganado=(dinero_apostado*36)\n",
    "    print(f'Enhorabuena. Has ganado: {dinero_ganado}€')\n",
    "elif color_apostado == color_ruleta:\n",
    "    dinero_ganado=(dinero_apostado*2)#se multiplica por dos porque sólo había dos opciones: rojo o negro\n",
    "    print(f'Enhorabuena. Has ganado: {dinero_ganado}€')\n",
    "else:\n",
    "    print(f'No has acetado ni el número ni el color')\n"
   ]
  },
  {
   "cell_type": "markdown",
   "metadata": {},
   "source": [
    "# While"
   ]
  },
  {
   "cell_type": "markdown",
   "metadata": {},
   "source": [
    "1. Contador Regresivo: Crea un programa que pida al usuario ingresar un número y luego cuente hacia abajo desde ese número hasta llegar a cero utilizando un bucle while."
   ]
  },
  {
   "cell_type": "code",
   "execution_count": 24,
   "metadata": {},
   "outputs": [
    {
     "name": "stdout",
     "output_type": "stream",
     "text": [
      "El número elegido es el: 5\n",
      "4\n",
      "3\n",
      "2\n",
      "1\n",
      "0\n"
     ]
    }
   ],
   "source": [
    "numero_usuario=int(input('Elige un número'))\n",
    "print(f'El número elegido es el: {numero_usuario}')\n",
    "\n",
    "while numero_usuario>0:\n",
    "    numero_usuario-=1\n",
    "    print(numero_usuario)\n"
   ]
  },
  {
   "cell_type": "markdown",
   "metadata": {},
   "source": [
    "2. Adivina el Número: Genera un número aleatorio entre 1 y 20. Pide al usuario que adivine el número y proporciona pistas (mayor o menor) hasta que adivinen correctamente."
   ]
  },
  {
   "cell_type": "code",
   "execution_count": 28,
   "metadata": {},
   "outputs": [
    {
     "name": "stdout",
     "output_type": "stream",
     "text": [
      "Has elegido el: 10\n",
      "El número secreto es mayor. Vuelve a intentarlo.\n",
      "Has elegido el: 15\n",
      "El número secreto es mayor. Vuelve a intentarlo.\n",
      "Has elegido el: 18\n",
      "El número secreto es menor. Vuelve a intentarlo.\n",
      "Has elegido el: 18\n",
      "El número secreto es menor. Vuelve a intentarlo.\n",
      "Has elegido el: 16\n",
      "¡Enhorabuena, has acertado el número secreto!\n"
     ]
    }
   ],
   "source": [
    "import random\n",
    "numero_secreto=random.randint(1,20)\n",
    "\n",
    "while True:\n",
    "    guessed_number=int(input('Elige un número del 1 al 20'))\n",
    "    print(f'Has elegido el: {guessed_number}')\n",
    "    if guessed_number == numero_secreto:\n",
    "        print('¡Enhorabuena, has acertado el número secreto!')\n",
    "        break\n",
    "    elif guessed_number > numero_secreto:\n",
    "        print('El número secreto es menor. Vuelve a intentarlo.')\n",
    "    else:\n",
    "        print('El número secreto es mayor. Vuelve a intentarlo.')"
   ]
  },
  {
   "cell_type": "markdown",
   "metadata": {},
   "source": [
    "3. Calculadora Simple: Desarrolla una calculadora que realice operaciones básicas (suma, resta, multiplicación, división) con dos números ingresados por el usuario. El programa debe permitir al usuario realizar cálculos continuos hasta que decida salir."
   ]
  },
  {
   "cell_type": "code",
   "execution_count": 45,
   "metadata": {},
   "outputs": [
    {
     "name": "stdout",
     "output_type": "stream",
     "text": [
      "Has elegido: dfg\n",
      "El primer número es: 10.0\n",
      "El segundo número es: 2.0\n",
      "Introduce un valor válido\n",
      "Has elegido: +\n",
      "El primer número es: 10.0\n",
      "El segundo número es: 2.0\n",
      "El resultado de la operación es: 12.0\n",
      "Has elegido: -\n",
      "El primer número es: 10.0\n",
      "El segundo número es: 2.0\n",
      "El resultado de la operación es: 8.0\n",
      "Has elegido: *\n",
      "El primer número es: 10.0\n",
      "El segundo número es: 2.0\n",
      "El resultado de la operación es: 20.0\n",
      "Has elegido: /\n",
      "El primer número es: 10.0\n",
      "El segundo número es: 0.0\n",
      "No se puede dividir entre cero\n",
      "Has elegido: /\n",
      "El primer número es: 10.0\n",
      "El segundo número es: 2.0\n",
      "El resultado de la operación es: 5.0\n",
      "Has elegido: x\n"
     ]
    }
   ],
   "source": [
    "while True:\n",
    "\n",
    "    operacion=input('¿Qué deseas hacer: +sumar, -restar, *multiplicar, /dividir o x salir?')\n",
    "    print(f'Has elegido: {operacion}')\n",
    "    \n",
    "    if operacion == 'x':\n",
    "        break\n",
    "\n",
    "    numero1=float(input('Ingresa el primer número'))\n",
    "    print(f'El primer número es: {numero1}')\n",
    "    numero2=float(input('Ingresa el segundo número'))\n",
    "    print(f'El segundo número es: {numero2}')\n",
    "    \n",
    "    if operacion == '+':\n",
    "        resultado=numero1+numero2\n",
    "        print(f'El resultado de la operación es: {resultado}')\n",
    "    elif operacion == '-':\n",
    "        resultado=numero1-numero2\n",
    "        print(f'El resultado de la operación es: {resultado}')\n",
    "    elif operacion == '*':\n",
    "        resultado=numero1*numero2\n",
    "        print(f'El resultado de la operación es: {resultado}')\n",
    "    elif operacion == '/':\n",
    "        if numero2 ==0:\n",
    "            print('No se puede dividir entre cero')\n",
    "        else:\n",
    "            resultado=numero1/numero2\n",
    "            print(f'El resultado de la operación es: {resultado}')\n",
    "    else:\n",
    "        print('Introduce un valor válido')\n",
    "        continue"
   ]
  },
  {
   "cell_type": "markdown",
   "metadata": {},
   "source": [
    "4. Conversión de Unidades: Crea un programa que convierta entre diferentes unidades de medida (por ejemplo, de grados Celsius a grados Fahrenheit o de kilómetros a millas). El usuario debe ingresar los valores y las unidades de origen y destino, y el programa realizará la conversión hasta que el usuario decida detenerse."
   ]
  },
  {
   "cell_type": "code",
   "execution_count": 47,
   "metadata": {},
   "outputs": [
    {
     "name": "stdout",
     "output_type": "stream",
     "text": [
      "Has elegido: 1\n",
      "El valor a convertir es: 10.0\n",
      "El resultado de la conversión es: 50.0\n",
      "Has elegido: 2\n",
      "El valor a convertir es: 10.0\n",
      "El resultado de la conversión es: -12.222222222222221\n",
      "Has elegido: 3\n",
      "El valor a convertir es: 10.0\n",
      "El resultado de la conversión es: 6.21371\n",
      "Has elegido: 4\n",
      "El valor a convertir es: 10.0\n",
      "El resultado de la conversión es: 16.0934\n",
      "Has elegido: j\n",
      "El valor a convertir es: 10.0\n",
      "Introduce un valor válido\n",
      "Has elegido: salir\n"
     ]
    }
   ],
   "source": [
    "# conversión celsius a fahrenheit: (grados*9/5)+32\n",
    "# conversión de fahrenheit a celsius: (grados-32)*5/9\n",
    "# conversión de km a millas: km*0,621371\n",
    "# conversión de millas a km: millas*1,60934\n",
    "\n",
    "while True:\n",
    "    eleccion_usuario=input('Elige entre: 1. Celsius a Fahrenheit; 2. Fahrenheit a Celsius; 3. Kms a millas; 4. Millas a kms; 5. Salir').lower()\n",
    "    print(f'Has elegido: {eleccion_usuario}')\n",
    "\n",
    "    if eleccion_usuario=='salir':\n",
    "        break\n",
    "\n",
    "    valor1=float(input('Ingresa el valor que quieres convertir'))\n",
    "    print(f'El valor a convertir es: {valor1}')\n",
    "\n",
    "    if eleccion_usuario=='1':\n",
    "        conversion=(valor1*9/5)+32\n",
    "        print(f'El resultado de la conversión es: {conversion}')\n",
    "    elif eleccion_usuario=='2':\n",
    "        conversion=(valor1-32)*5/9\n",
    "        print(f'El resultado de la conversión es: {conversion}')\n",
    "    elif eleccion_usuario=='3':\n",
    "        conversion=(valor1*0.621371)\n",
    "        print(f'El resultado de la conversión es: {conversion}')\n",
    "    elif eleccion_usuario=='4':\n",
    "        conversion=(valor1*1.60934)\n",
    "        print(f'El resultado de la conversión es: {conversion}')\n",
    "    else:\n",
    "        print('Introduce un valor válido')\n",
    "        "
   ]
  }
 ],
 "metadata": {
  "kernelspec": {
   "display_name": "Python 3",
   "language": "python",
   "name": "python3"
  },
  "language_info": {
   "codemirror_mode": {
    "name": "ipython",
    "version": 3
   },
   "file_extension": ".py",
   "mimetype": "text/x-python",
   "name": "python",
   "nbconvert_exporter": "python",
   "pygments_lexer": "ipython3",
   "version": "3.9.7"
  }
 },
 "nbformat": 4,
 "nbformat_minor": 2
}
