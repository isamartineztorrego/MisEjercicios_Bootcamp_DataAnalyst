{
 "cells": [
  {
   "cell_type": "markdown",
   "metadata": {},
   "source": [
    "# Ejercicio intermedio\n",
    "Isabel Martínez\n",
    "\n",
    "08/04/2024"
   ]
  },
  {
   "cell_type": "markdown",
   "metadata": {},
   "source": [
    "## Parte 1: Strings"
   ]
  },
  {
   "cell_type": "markdown",
   "metadata": {},
   "source": [
    "1.Dada una cadena de texto, contar cuántas veces aparece una letra específica en ella. Usa un input para que el usuario elija la letra a buscar.\n",
    "\n",
    "cadena = \"Python es un lenguaje de programación muy popular\""
   ]
  },
  {
   "cell_type": "code",
   "execution_count": 1,
   "metadata": {},
   "outputs": [
    {
     "name": "stdout",
     "output_type": "stream",
     "text": [
      "La letra buscada es: a\n",
      "La letra buscada aparece: 4 veces\n"
     ]
    }
   ],
   "source": [
    "letra_buscada = input(\"¿Qué letra quieres buscar?\")\n",
    "print(\"La letra buscada es:\", letra_buscada)\n",
    "\n",
    "cadena = 'Python es un lenguaje de programación muy popular'\n",
    "\n",
    "print(\"La letra buscada aparece:\", cadena.count(letra_buscada), \"veces\")\n"
   ]
  },
  {
   "cell_type": "markdown",
   "metadata": {},
   "source": [
    "2. Escribe un programa que tome la siguiente cadena de texto y reemplace una palabra específica por otra palabra. La palabra a reemplazar y reemplazada deben ser elegidas por el usuario.\n",
    "\n",
    "cadena = \"Python es genial. Python es fácil de aprender.\""
   ]
  },
  {
   "cell_type": "code",
   "execution_count": 88,
   "metadata": {},
   "outputs": [
    {
     "name": "stdout",
     "output_type": "stream",
     "text": [
      "['Python', 'es', 'genial.', 'Python', 'es', 'fácil', 'de', 'aprender.']\n",
      "La palabra a reemplazar es: fácil\n",
      "La palabra a ingresar es: difícil\n",
      "Python es genial. Python es difícil de aprender.\n"
     ]
    }
   ],
   "source": [
    "cadena = \"Python es genial. Python es fácil de aprender.\"\n",
    "lista1 = []\n",
    "lista1 = cadena.split(' ')\n",
    "print(lista1)\n",
    "\n",
    "reemplazada = input(\"¿Qué palabra quieres reemplazar?\")\n",
    "print(\"La palabra a reemplazar es:\", reemplazada)\n",
    "\n",
    "new_palabra = input(\"¿Qué palabra quieres poner en su lugar?\")\n",
    "print(\"La palabra a ingresar es:\", new_palabra)\n",
    "\n",
    "cadena = cadena.replace(reemplazada, new_palabra)\n",
    "print(cadena)"
   ]
  },
  {
   "cell_type": "code",
   "execution_count": 2,
   "metadata": {},
   "outputs": [
    {
     "name": "stdout",
     "output_type": "stream",
     "text": [
      "Python es genial. Python es difícil de aprender.\n"
     ]
    }
   ],
   "source": [
    "cadena2 = \"Python es genial. Python es fácil de aprender.\"\n",
    "reemplazada = input(\"¿Qué palabra quieres reemplazar?\")\n",
    "reemplazo = input(\"Pon aquí la palabra por la que quieres reemplazarla:\")\n",
    "cambio = cadena2.replace(reemplazada,reemplazo)\n",
    "print(cambio)"
   ]
  },
  {
   "cell_type": "markdown",
   "metadata": {},
   "source": [
    "3. Toma la siguiente oración y divídela en una lista de palabras. Luego, únelas nuevamente en una sola cadena de texto.\n",
    "\n",
    "oracion = \"Esto es una oración de ejemplo\""
   ]
  },
  {
   "cell_type": "code",
   "execution_count": 4,
   "metadata": {},
   "outputs": [
    {
     "name": "stdout",
     "output_type": "stream",
     "text": [
      "['Esto', 'es', 'una', 'oración', 'de', 'ejemplo']\n",
      "Esto es una oración de ejemplo\n",
      "<class 'str'>\n"
     ]
    }
   ],
   "source": [
    "oracion = \"Esto es una oración de ejemplo\"\n",
    "lista = oracion.split()\n",
    "print(lista)\n",
    "\n",
    "oracion2 = \" \".join(lista)\n",
    "print(oracion2)\n",
    "print(type(oracion2))\n"
   ]
  },
  {
   "cell_type": "code",
   "execution_count": 3,
   "metadata": {},
   "outputs": [
    {
     "name": "stdout",
     "output_type": "stream",
     "text": [
      "['Esto', 'es', 'una', 'oración', 'de', 'ejemplo']\n",
      "Esto es una oración de ejemplo\n"
     ]
    }
   ],
   "source": [
    "oracion = \"Esto es una oración de ejemplo\"\n",
    "print(oracion.split())\n",
    "oracion2 = oracion.split()\n",
    "\n",
    "# devuelvo a formato string\n",
    "oracion3 = \" \".join(oracion2)\n",
    "print(oracion3)"
   ]
  },
  {
   "cell_type": "markdown",
   "metadata": {},
   "source": [
    "4. Desarrolla un programa que cuente cuántas palabras hay en la siguiente frase.\n",
    "\n",
    "cadena = \"Esta es una cadena con cinco palabras\""
   ]
  },
  {
   "cell_type": "code",
   "execution_count": 6,
   "metadata": {},
   "outputs": [
    {
     "name": "stdout",
     "output_type": "stream",
     "text": [
      "['Esta', 'es', 'una', 'cadena', 'con', 'cinco', 'palabras']\n",
      "Hay 7 palabras en la frase\n"
     ]
    }
   ],
   "source": [
    "cadena2 = \"Esta es una cadena con cinco palabras\"\n",
    "\n",
    "# (mejor la forma de la siguiente solución)\n",
    "lista3 = []\n",
    "lista3 = cadena2.split(' ')\n",
    "print(lista3)\n",
    "numero_palabras = len(lista3)\n",
    "print(\"Hay\", numero_palabras, \"palabras en la frase\")"
   ]
  },
  {
   "cell_type": "code",
   "execution_count": 9,
   "metadata": {},
   "outputs": [
    {
     "name": "stdout",
     "output_type": "stream",
     "text": [
      "<class 'str'>\n",
      "<class 'list'>\n",
      "['Esta', 'es', 'una', 'cadena', 'con', 'cinco', 'palabras']\n",
      "Hay 7 palabras en la frase\n"
     ]
    }
   ],
   "source": [
    "cadena2 = \"Esta es una cadena con cinco palabras\"\n",
    "print(type(cadena2))\n",
    "lista3 = cadena2.split()\n",
    "print(type(lista3))\n",
    "print(lista3)\n",
    "numero_palabras = len(lista3)\n",
    "print(\"Hay\", numero_palabras, \"palabras en la frase\")"
   ]
  },
  {
   "cell_type": "markdown",
   "metadata": {},
   "source": [
    "5. Escribe un programa que invierta una cadena de texto dada por un usuario. Mira el siguiente ejemplo para entender lo que se pide:"
   ]
  },
  {
   "cell_type": "markdown",
   "metadata": {},
   "source": [
    " input \n",
    "\"Hola buenos dias\"\n",
    " output \n",
    "\"dias buenos Hola"
   ]
  },
  {
   "cell_type": "code",
   "execution_count": 12,
   "metadata": {},
   "outputs": [
    {
     "name": "stdout",
     "output_type": "stream",
     "text": [
      "Esta es la cadena introducida por el usuario: hola que tal\n",
      "['hola', 'que', 'tal']\n",
      "Esta es la cadena con el orden invertido: ['tal', 'que', 'hola']\n",
      "tal que hola\n"
     ]
    }
   ],
   "source": [
    "cadena3 = input(\"Introduce una cadena de texto\")\n",
    "print(\"Esta es la cadena introducida por el usuario:\", cadena3)\n",
    "# la paso a lista (mejor la forma de la siguiente solución)\n",
    "lista4 =[]\n",
    "lista4 = cadena3.split (' ')\n",
    "print(lista4)\n",
    "\n",
    "# invierto el orden de la lista\n",
    "lista4.reverse()\n",
    "print(\"Esta es la cadena con el orden invertido:\", lista4)\n",
    "cadena4 = ' '.join(lista4)\n",
    "print(cadena4)"
   ]
  },
  {
   "cell_type": "code",
   "execution_count": 11,
   "metadata": {},
   "outputs": [
    {
     "name": "stdout",
     "output_type": "stream",
     "text": [
      "Esta es la cadena introducida por el usuario: hola que tal\n",
      "['hola', 'que', 'tal']\n",
      "Esta es la cadena con el orden invertido: ['tal', 'que', 'hola']\n",
      "tal que hola\n"
     ]
    }
   ],
   "source": [
    "cadena3 = input(\"Introduce una cadena de texto\")\n",
    "print(\"Esta es la cadena introducida por el usuario:\", cadena3)\n",
    "# la paso a lista\n",
    "lista4 = cadena3.split()\n",
    "print(lista4)\n",
    "\n",
    "# invierto el orden de la lista\n",
    "lista4.reverse()\n",
    "print(\"Esta es la cadena con el orden invertido:\", lista4)\n",
    "cadena4 = ' '.join(lista4)\n",
    "print(cadena4)"
   ]
  },
  {
   "cell_type": "code",
   "execution_count": 16,
   "metadata": {},
   "outputs": [
    {
     "name": "stdout",
     "output_type": "stream",
     "text": [
      "Esta es la cadena introducida por el usuario: hola que tal\n",
      "['hola', 'que', 'tal']\n",
      "tal que hola\n"
     ]
    }
   ],
   "source": [
    "cadena3 = input(\"Introduce una cadena de texto\")\n",
    "print(\"Esta es la cadena introducida por el usuario:\", cadena3)\n",
    "# la paso a lista\n",
    "cadena3 = cadena3.split()\n",
    "print(cadena3)\n",
    "resultado = cadena3[::-1]\n",
    "print(\" \".join(resultado))\n"
   ]
  },
  {
   "cell_type": "code",
   "execution_count": 19,
   "metadata": {},
   "outputs": [
    {
     "name": "stdout",
     "output_type": "stream",
     "text": [
      "hola que tal\n",
      "lat euq aloh\n"
     ]
    }
   ],
   "source": [
    "cadena_original = input(\"Introduce una cadena de texto\")\n",
    "print(cadena_original)\n",
    "cadena_invertida = ''.join(reversed(cadena_original))\n",
    "print(cadena_invertida)"
   ]
  },
  {
   "cell_type": "markdown",
   "metadata": {},
   "source": [
    "6. Crea un programa que busque una palabra específica(elegida por la usuaria) en una cadena de texto e indique su posición."
   ]
  },
  {
   "cell_type": "code",
   "execution_count": 14,
   "metadata": {},
   "outputs": [
    {
     "name": "stdout",
     "output_type": "stream",
     "text": [
      "['Python', 'es', 'genial', 'y', 'también', 'fácil', 'de', 'aprender.']\n",
      "La palabra buscada es: fácil\n",
      "La palabra buscada está en la posición: 5\n"
     ]
    }
   ],
   "source": [
    "cadena5 = \"Python es genial y también fácil de aprender.\"\n",
    "\n",
    "lista5 = cadena5.split()\n",
    "print(lista5)\n",
    "\n",
    "palabra_buscada = input(\"¿Qué palabra quieres buscar?\")\n",
    "print(\"La palabra buscada es:\", palabra_buscada)\n",
    "\n",
    "print(\"La palabra buscada está en la posición:\", lista5.index(palabra_buscada))\n"
   ]
  },
  {
   "cell_type": "markdown",
   "metadata": {},
   "source": [
    "## Parte 2: Listas"
   ]
  },
  {
   "cell_type": "markdown",
   "metadata": {},
   "source": [
    "1. Dada la siguiente lista: frutas = ['manzana', 'pera', 'banana', 'uva', 'kiwi'], realiza lo siguiente:\n",
    "\n",
    "a) Reemplaza el segundo elemento con 'durazno'.\n",
    "\n",
    "b) Agrega 'naranja' al final de la lista.\n",
    "\n",
    "c) Extrae y muestra por pantalla el tercer elemento de la lista."
   ]
  },
  {
   "cell_type": "code",
   "execution_count": 20,
   "metadata": {},
   "outputs": [
    {
     "name": "stdout",
     "output_type": "stream",
     "text": [
      "Lista original: ['manzana', 'pera', 'banana', 'uva', 'kiwi']\n",
      "a): ['manzana', 'durazno', 'banana', 'uva', 'kiwi']\n",
      "b): ['manzana', 'durazno', 'banana', 'uva', 'kiwi', 'naranja']\n",
      "El tercer elemento es: banana\n",
      "La lista final es: ['manzana', 'durazno', 'uva', 'kiwi', 'naranja']\n"
     ]
    }
   ],
   "source": [
    "frutas = ['manzana', 'pera', 'banana', 'uva', 'kiwi']\n",
    "print(\"Lista original:\", frutas)\n",
    "\n",
    "# a) Reemplaza el segundo elemento con 'durazno'.\n",
    "frutas[1] = 'durazno'\n",
    "print(\"a):\", frutas)\n",
    "\n",
    "# b) Agrega 'naranja' al final de la lista.\n",
    "frutas.append('naranja')\n",
    "print(\"b):\", frutas)\n",
    "\n",
    "# c) Extrae y muestra por pantalla el tercer elemento de la lista.\n",
    "tercer_elemento = frutas[2]\n",
    "print(\"El tercer elemento es:\", tercer_elemento)\n",
    "frutas.pop(2) ## no tenía que haber eliminado (extrae significa 'muestra')\n",
    "print(\"La lista final es:\", frutas)\n"
   ]
  },
  {
   "cell_type": "markdown",
   "metadata": {},
   "source": [
    "2. Crea una lista llamada numeros que contenga los siguientes valores: 10, 25, 15, 30, 20."
   ]
  },
  {
   "cell_type": "code",
   "execution_count": 96,
   "metadata": {},
   "outputs": [
    {
     "name": "stdout",
     "output_type": "stream",
     "text": [
      "[10, 25, 15, 30, 20]\n"
     ]
    }
   ],
   "source": [
    "numeros = [10, 25, 15, 30, 20]\n",
    "print(numeros)"
   ]
  },
  {
   "cell_type": "markdown",
   "metadata": {},
   "source": [
    "3. Agrega el valor 35 al incio de la lista numeros."
   ]
  },
  {
   "cell_type": "code",
   "execution_count": 97,
   "metadata": {},
   "outputs": [
    {
     "name": "stdout",
     "output_type": "stream",
     "text": [
      "[10, 25, 15, 30, 20]\n",
      "[10, 25, 15, 30, 20]\n",
      "[35, 10, 25, 15, 30, 20]\n"
     ]
    }
   ],
   "source": [
    "print(numeros)\n",
    "# creo copia porque me hará falta conservar la original para el ejercicio 5.\n",
    "copia_numeros = numeros.copy()\n",
    "print(copia_numeros)\n",
    "copia_numeros.insert(0, 35)\n",
    "print(copia_numeros)"
   ]
  },
  {
   "cell_type": "markdown",
   "metadata": {},
   "source": [
    "4. Ordena la lista numeros en orden ascendente."
   ]
  },
  {
   "cell_type": "code",
   "execution_count": 98,
   "metadata": {},
   "outputs": [
    {
     "name": "stdout",
     "output_type": "stream",
     "text": [
      "[10, 25, 15, 30, 20]\n",
      "[10, 15, 20, 25, 30]\n"
     ]
    }
   ],
   "source": [
    "# creo copia para poder conservar el orden orginal de la lista, que me hará falta en el ejercicio 5.\n",
    "copia_numeros = numeros.copy()\n",
    "print(copia_numeros)\n",
    "copia_numeros.sort()\n",
    "print(copia_numeros)\n"
   ]
  },
  {
   "cell_type": "markdown",
   "metadata": {},
   "source": [
    "5. Dada la siguiente lista numeros2 = [45, 22, 19, 38, 29]. Crea una nueva lista llamada numeros3 donde tengamos la unión de los todos los elementos de las dos listas (numeros y numeros2) de tal forma que el resultado final sea:\n",
    "\n",
    "numeros3 = [10, 25, 15, 30, 20, 45, 22, 19, 38, 29]"
   ]
  },
  {
   "cell_type": "code",
   "execution_count": 99,
   "metadata": {},
   "outputs": [
    {
     "name": "stdout",
     "output_type": "stream",
     "text": [
      "[10, 25, 15, 30, 20]\n",
      "[45, 22, 19, 38, 29]\n",
      "[10, 25, 15, 30, 20, 45, 22, 19, 38, 29]\n"
     ]
    }
   ],
   "source": [
    "# cojo la lista original (no la copia), para que conserve el orden que pide el enunciado.\n",
    "print(numeros)\n",
    "numeros2 = [45, 22, 19, 38, 29]\n",
    "print(numeros2)\n",
    "\n",
    "numeros3 = numeros + numeros2\n",
    "print(numeros3)"
   ]
  },
  {
   "cell_type": "markdown",
   "metadata": {},
   "source": [
    "6. Elimina el último elemento de la lista numeros3."
   ]
  },
  {
   "cell_type": "code",
   "execution_count": 100,
   "metadata": {},
   "outputs": [
    {
     "name": "stdout",
     "output_type": "stream",
     "text": [
      "[10, 25, 15, 30, 20, 45, 22, 19, 38, 29]\n",
      "[10, 25, 15, 30, 20, 45, 22, 19, 38]\n"
     ]
    }
   ],
   "source": [
    "print(numeros3)\n",
    "\n",
    "ultimo = numeros3.pop(-1)\n",
    "print(numeros3)\n"
   ]
  },
  {
   "cell_type": "markdown",
   "metadata": {},
   "source": [
    "7. Elimina el número 30 de la lista numeros3."
   ]
  },
  {
   "cell_type": "code",
   "execution_count": 102,
   "metadata": {},
   "outputs": [
    {
     "name": "stdout",
     "output_type": "stream",
     "text": [
      "[10, 25, 15, 30, 20, 45, 22, 19, 38]\n",
      "3\n",
      "[10, 25, 15, 20, 45, 22, 19, 38]\n"
     ]
    }
   ],
   "source": [
    "print(numeros3)\n",
    "posicion = numeros3.index(30)\n",
    "print(posicion)\n",
    "\n",
    "numeros3.pop(posicion)\n",
    "print(numeros3)\n"
   ]
  },
  {
   "cell_type": "markdown",
   "metadata": {},
   "source": [
    "## Parte 3: Tuplas"
   ]
  },
  {
   "cell_type": "markdown",
   "metadata": {},
   "source": [
    "1. Crea una tupla llamada colores que contenga los siguientes valores: 'rojo', 'verde', 'azul', 'amarillo', 'morado'."
   ]
  },
  {
   "cell_type": "code",
   "execution_count": 1,
   "metadata": {},
   "outputs": [
    {
     "name": "stdout",
     "output_type": "stream",
     "text": [
      "('rojo', 'verde', 'azul', 'amarillo', 'morado')\n",
      "<class 'tuple'>\n"
     ]
    }
   ],
   "source": [
    "colores = ('rojo', 'verde', 'azul', 'amarillo', 'morado')\n",
    "print(colores)\n",
    "print(type(colores))"
   ]
  },
  {
   "cell_type": "markdown",
   "metadata": {},
   "source": [
    "2. Encuentra el índice de 'verde' en la tupla colores."
   ]
  },
  {
   "cell_type": "code",
   "execution_count": 2,
   "metadata": {},
   "outputs": [
    {
     "name": "stdout",
     "output_type": "stream",
     "text": [
      "1\n"
     ]
    }
   ],
   "source": [
    "print(colores.index('verde'))"
   ]
  },
  {
   "cell_type": "markdown",
   "metadata": {},
   "source": [
    "3. ¿Cuántas veces aparece 'azul' en la tupla colores?"
   ]
  },
  {
   "cell_type": "code",
   "execution_count": 3,
   "metadata": {},
   "outputs": [
    {
     "data": {
      "text/plain": [
       "1"
      ]
     },
     "execution_count": 3,
     "metadata": {},
     "output_type": "execute_result"
    }
   ],
   "source": [
    "colores.count('azul')"
   ]
  },
  {
   "cell_type": "markdown",
   "metadata": {},
   "source": [
    "4. Añade el color \"morado\" a la tupla colores. ¿Qué ha pasado? ¿Por qué? Como podríamos añadir el elemento \"morado\"."
   ]
  },
  {
   "cell_type": "code",
   "execution_count": 6,
   "metadata": {},
   "outputs": [
    {
     "name": "stdout",
     "output_type": "stream",
     "text": [
      "['rojo', 'verde', 'azul', 'amarillo', 'morado']\n",
      "['rojo', 'verde', 'azul', 'amarillo', 'morado', 'morado']\n",
      "('rojo', 'verde', 'azul', 'amarillo', 'morado', 'morado')\n"
     ]
    }
   ],
   "source": [
    "#no se puede modificar una tupla, la tengo que pasar a lista, añadir morado y volver a pasarla a tupla\n",
    "\n",
    "#1. Paso la tupla a lista\n",
    "lista_colores=list(colores)\n",
    "print(lista_colores)\n",
    "\n",
    "#2. Añado morado a la lista\n",
    "lista_colores.append('morado')\n",
    "print(lista_colores)\n",
    "\n",
    "#3. Paso la lista a tupla\n",
    "colores=tuple(lista_colores)\n",
    "print(colores)"
   ]
  },
  {
   "cell_type": "markdown",
   "metadata": {},
   "source": [
    "## Parte 4: Diccionarios"
   ]
  },
  {
   "cell_type": "markdown",
   "metadata": {},
   "source": [
    "1. Crea un diccionario llamado frutas con las siguientes parejas clave-valor:\n",
    "\n",
    "'manzana': 2\n",
    "\n",
    "'banana': 3\n",
    "\n",
    "'uva': 5\n",
    "\n",
    "'pera':"
   ]
  },
  {
   "cell_type": "code",
   "execution_count": 19,
   "metadata": {},
   "outputs": [
    {
     "name": "stdout",
     "output_type": "stream",
     "text": [
      "<class 'dict'>\n",
      "{'manzana': 2, 'banana': 3, 'uva': 5, 'pera': ''}\n"
     ]
    }
   ],
   "source": [
    "frutas = {'manzana': 2,\n",
    "        'banana': 3,\n",
    "        'uva': 5,\n",
    "        'pera': \"\"\n",
    "        }\n",
    "print(type(frutas))\n",
    "print(frutas)"
   ]
  },
  {
   "cell_type": "markdown",
   "metadata": {},
   "source": [
    "2. Saca una lista de todas las frutas en el diccionario."
   ]
  },
  {
   "cell_type": "code",
   "execution_count": 20,
   "metadata": {},
   "outputs": [
    {
     "name": "stdout",
     "output_type": "stream",
     "text": [
      "dict_keys(['manzana', 'banana', 'uva', 'pera'])\n"
     ]
    }
   ],
   "source": [
    "print(frutas.keys())"
   ]
  },
  {
   "cell_type": "markdown",
   "metadata": {},
   "source": [
    "3. Saca una lista de todas las cantidades en el diccionario."
   ]
  },
  {
   "cell_type": "code",
   "execution_count": 21,
   "metadata": {},
   "outputs": [
    {
     "name": "stdout",
     "output_type": "stream",
     "text": [
      "dict_values([2, 3, 5, ''])\n"
     ]
    }
   ],
   "source": [
    "print(frutas.values())"
   ]
  },
  {
   "cell_type": "markdown",
   "metadata": {},
   "source": [
    "4. ¿Qué cantidad de 'manzana' tenemos?. Si la clave 'manzana' no está presente, devuelve un mensaje diciendo \"No existe esa clave\"."
   ]
  },
  {
   "cell_type": "code",
   "execution_count": 22,
   "metadata": {},
   "outputs": [
    {
     "name": "stdout",
     "output_type": "stream",
     "text": [
      "{'manzana': 2, 'banana': 3, 'uva': 5, 'pera': ''}\n",
      "2\n"
     ]
    }
   ],
   "source": [
    "print(frutas)\n",
    "print(frutas.get('manzana', 'No existe esa clave'))"
   ]
  },
  {
   "cell_type": "markdown",
   "metadata": {},
   "source": [
    "5. Agrega un nuevo par de clave-valor al diccionario frutas: 'kiwi' con una cantidad de 6."
   ]
  },
  {
   "cell_type": "code",
   "execution_count": 23,
   "metadata": {},
   "outputs": [
    {
     "name": "stdout",
     "output_type": "stream",
     "text": [
      "{'manzana': 2, 'banana': 3, 'uva': 5, 'pera': ''}\n",
      "{'manzana': 2, 'banana': 3, 'uva': 5, 'pera': '', 'kiwi': 6}\n"
     ]
    }
   ],
   "source": [
    "print(frutas)\n",
    "\n",
    "nuevo_par = {'kiwi':6}\n",
    "frutas.update(nuevo_par)\n",
    "\n",
    "print(frutas)"
   ]
  },
  {
   "cell_type": "markdown",
   "metadata": {},
   "source": [
    "6. Cambia la cantidad de 'uva' a 8."
   ]
  },
  {
   "cell_type": "code",
   "execution_count": 24,
   "metadata": {},
   "outputs": [
    {
     "name": "stdout",
     "output_type": "stream",
     "text": [
      "{'manzana': 2, 'banana': 3, 'uva': 5, 'pera': '', 'kiwi': 6}\n",
      "{'manzana': 2, 'banana': 3, 'uva': 5, 'pera': '', 'kiwi': 8}\n"
     ]
    }
   ],
   "source": [
    "print(frutas)\n",
    "\n",
    "frutas['kiwi'] = 8\n",
    "\n",
    "print(frutas)"
   ]
  },
  {
   "cell_type": "markdown",
   "metadata": {},
   "source": [
    "7. Crea un segundo diccionario llamado frutas_nuevas con las siguientes parejas clave-valor:\n",
    "\n",
    "'sandía': 7\n",
    "\n",
    "'mango': 4"
   ]
  },
  {
   "cell_type": "code",
   "execution_count": 25,
   "metadata": {},
   "outputs": [
    {
     "name": "stdout",
     "output_type": "stream",
     "text": [
      "{'sandía': 7, 'mango': 4}\n"
     ]
    }
   ],
   "source": [
    "frutas_nuevas = {'sandía':7,\n",
    "                'mango':4}\n",
    "print(frutas_nuevas)"
   ]
  },
  {
   "cell_type": "markdown",
   "metadata": {},
   "source": [
    "8. Combinar los dos diccionarios frutas_nuevas y frutas en uno nuevos llamado frutas_total."
   ]
  },
  {
   "cell_type": "code",
   "execution_count": 26,
   "metadata": {},
   "outputs": [
    {
     "name": "stdout",
     "output_type": "stream",
     "text": [
      "{'manzana': 2, 'banana': 3, 'uva': 5, 'pera': '', 'kiwi': 8}\n",
      "{'sandía': 7, 'mango': 4}\n",
      "{'manzana': 2, 'banana': 3, 'uva': 5, 'pera': '', 'kiwi': 8}\n",
      "{'manzana': 2, 'banana': 3, 'uva': 5, 'pera': '', 'kiwi': 8, 'sandía': 7, 'mango': 4}\n"
     ]
    }
   ],
   "source": [
    "print(frutas)\n",
    "print(frutas_nuevas)\n",
    "# creo una copia del diccionario original, porque update lo va a sobreescribir\n",
    "frutas_total = frutas.copy()\n",
    "print(frutas_total)\n",
    "\n",
    "frutas_total.update(frutas_nuevas)\n",
    "print(frutas_total)"
   ]
  },
  {
   "cell_type": "markdown",
   "metadata": {},
   "source": [
    "9. Elimina el último par de clave-valor del diccionario fruta_total."
   ]
  },
  {
   "cell_type": "code",
   "execution_count": 27,
   "metadata": {},
   "outputs": [
    {
     "name": "stdout",
     "output_type": "stream",
     "text": [
      "{'manzana': 2, 'banana': 3, 'uva': 5, 'pera': '', 'kiwi': 8, 'sandía': 7, 'mango': 4}\n",
      "{'manzana': 2, 'banana': 3, 'uva': 5, 'pera': '', 'kiwi': 8, 'sandía': 7}\n"
     ]
    }
   ],
   "source": [
    "print(frutas_total)\n",
    "frutas_total.popitem()\n",
    "print(frutas_total)"
   ]
  },
  {
   "cell_type": "markdown",
   "metadata": {},
   "source": [
    "10. Elimina el par de clave-valor correspondiente a la clave 'uva' del diccionario."
   ]
  },
  {
   "cell_type": "code",
   "execution_count": 28,
   "metadata": {},
   "outputs": [
    {
     "name": "stdout",
     "output_type": "stream",
     "text": [
      "{'manzana': 2, 'banana': 3, 'uva': 5, 'pera': '', 'kiwi': 8, 'sandía': 7}\n",
      "{'manzana': 2, 'banana': 3, 'pera': '', 'kiwi': 8, 'sandía': 7}\n"
     ]
    }
   ],
   "source": [
    "print(frutas_total)\n",
    "frutas_total.pop('uva')\n",
    "print(frutas_total)"
   ]
  },
  {
   "cell_type": "markdown",
   "metadata": {},
   "source": [
    "11. Agregar la fruta 'manzana' con una cantidad de 10 al diccionario. Si ya existe, no se realizarán cambios en los valores que teníamos."
   ]
  },
  {
   "cell_type": "code",
   "execution_count": 29,
   "metadata": {},
   "outputs": [
    {
     "name": "stdout",
     "output_type": "stream",
     "text": [
      "{'manzana': 2, 'banana': 3, 'pera': '', 'kiwi': 8, 'sandía': 7}\n",
      "{'manzana': 2, 'banana': 3, 'pera': '', 'kiwi': 8, 'sandía': 7}\n"
     ]
    }
   ],
   "source": [
    "print(frutas_total)\n",
    "frutas_total.setdefault('manzana',10)\n",
    "print(frutas_total)"
   ]
  },
  {
   "cell_type": "markdown",
   "metadata": {},
   "source": [
    "12. Combinar métodos de listas y diccionarios:\n",
    "\n",
    "Obtén una lista de todas las cantidades en el diccionario y calcula suma total de las cantidades del diccionario frutas_total.\n",
    "\n",
    "Utilizando la lista creada en el apartado anterior encuentra la cantidad más grande y más pequeña."
   ]
  },
  {
   "cell_type": "code",
   "execution_count": 194,
   "metadata": {},
   "outputs": [
    {
     "name": "stdout",
     "output_type": "stream",
     "text": [
      "{'manzana': 2, 'banana': 3, 'pera': '', 'kiwi': 8, 'sandía': 7}\n",
      "{'manzana': 2, 'banana': 3, 'kiwi': 8, 'sandía': 7}\n",
      "[2, 3, 8, 7]\n"
     ]
    }
   ],
   "source": [
    "print(frutas_total)\n",
    "frutas_total.pop('pera')\n",
    "print(frutas_total)\n",
    "print(list(frutas_total.values()))\n",
    "\n",
    "\n"
   ]
  },
  {
   "cell_type": "code",
   "execution_count": 208,
   "metadata": {},
   "outputs": [
    {
     "name": "stdout",
     "output_type": "stream",
     "text": [
      "[2, 3, 8, 7]\n",
      "<class 'list'>\n",
      "8\n",
      "2\n",
      "20\n"
     ]
    }
   ],
   "source": [
    "lista_frutas = list(frutas_total.values())\n",
    "print(lista_frutas)\n",
    "print(type(lista_frutas))\n",
    "\n",
    "maximo = max(lista_frutas)\n",
    "print(maximo)\n",
    "minimo = min(lista_frutas)\n",
    "print(minimo)\n",
    "\n",
    "suma = sum(lista_frutas)\n",
    "print(suma)"
   ]
  },
  {
   "cell_type": "markdown",
   "metadata": {},
   "source": [
    "## Parte 5: Métodos de Sets"
   ]
  },
  {
   "cell_type": "markdown",
   "metadata": {},
   "source": [
    "13. Crea un set llamado conjunto1 con los números del 1 al 5."
   ]
  },
  {
   "cell_type": "code",
   "execution_count": 209,
   "metadata": {},
   "outputs": [
    {
     "name": "stdout",
     "output_type": "stream",
     "text": [
      "{1, 2, 3, 4, 5}\n",
      "<class 'set'>\n"
     ]
    }
   ],
   "source": [
    "conjunto1 = {1,2,3,4,5}\n",
    "print(conjunto1)\n",
    "print(type(conjunto1))"
   ]
  },
  {
   "cell_type": "markdown",
   "metadata": {},
   "source": [
    "14. Crea otro set llamado conjunto2 con los números del 4 al 8."
   ]
  },
  {
   "cell_type": "code",
   "execution_count": 210,
   "metadata": {},
   "outputs": [
    {
     "name": "stdout",
     "output_type": "stream",
     "text": [
      "{4, 5, 6, 7, 8}\n",
      "<class 'set'>\n"
     ]
    }
   ],
   "source": [
    "conjunto2 = {4,5,6,7,8}\n",
    "print(conjunto2)\n",
    "print(type(conjunto2))"
   ]
  },
  {
   "cell_type": "markdown",
   "metadata": {},
   "source": [
    "15. Obtén la unión de conjunto1 y conjunto2."
   ]
  },
  {
   "cell_type": "code",
   "execution_count": 212,
   "metadata": {},
   "outputs": [
    {
     "name": "stdout",
     "output_type": "stream",
     "text": [
      "{1, 2, 3, 4, 5}\n",
      "{4, 5, 6, 7, 8}\n",
      "{1, 2, 3, 4, 5, 6, 7, 8}\n"
     ]
    }
   ],
   "source": [
    "print(conjunto1)\n",
    "print(conjunto2)\n",
    "union = conjunto1.union(conjunto2)\n",
    "print(union)"
   ]
  },
  {
   "cell_type": "markdown",
   "metadata": {},
   "source": [
    "16. Obtén la intersección de conjunto1 y conjunto2."
   ]
  },
  {
   "cell_type": "code",
   "execution_count": 213,
   "metadata": {},
   "outputs": [
    {
     "name": "stdout",
     "output_type": "stream",
     "text": [
      "{1, 2, 3, 4, 5}\n",
      "{4, 5, 6, 7, 8}\n",
      "{4, 5}\n"
     ]
    }
   ],
   "source": [
    "print(conjunto1)\n",
    "print(conjunto2)\n",
    "interseccion = conjunto1.intersection(conjunto2)\n",
    "print(interseccion)"
   ]
  },
  {
   "cell_type": "markdown",
   "metadata": {},
   "source": [
    "17. Obtén los elementos que están en conjunto1 pero no en el conjunto2."
   ]
  },
  {
   "cell_type": "code",
   "execution_count": 214,
   "metadata": {},
   "outputs": [
    {
     "name": "stdout",
     "output_type": "stream",
     "text": [
      "{1, 2, 3, 4, 5}\n",
      "{4, 5, 6, 7, 8}\n",
      "{1, 2, 3}\n"
     ]
    }
   ],
   "source": [
    "print(conjunto1)\n",
    "print(conjunto2)\n",
    "diferencia = conjunto1.difference(conjunto2)\n",
    "print(diferencia)"
   ]
  },
  {
   "cell_type": "markdown",
   "metadata": {},
   "source": [
    "## Parte 6: Sentencias de Control"
   ]
  },
  {
   "cell_type": "markdown",
   "metadata": {},
   "source": [
    "Ejercicio 1: Evaluación de Edades:\n",
    "\n",
    "Escribe un programa que solicite al usuario ingresar su edad.\n",
    "\n",
    "Si la edad es menor de 18, muestra \"Eres menor de edad\".\n",
    "\n",
    "Si la edad está entre 18 y 65 (incluyendo ambos extremos), muestra \"Eres adulto\".\n",
    "\n",
    "Si la edad es mayor que 65, muestra \"Eres un adulto mayor\"."
   ]
  },
  {
   "cell_type": "code",
   "execution_count": 130,
   "metadata": {},
   "outputs": [
    {
     "name": "stdout",
     "output_type": "stream",
     "text": [
      "Edad: 66\n",
      "Eres un adulto mayor\n"
     ]
    }
   ],
   "source": [
    "edad = int(input(\"¿Cuál es tu edad?\"))\n",
    "print(\"Edad:\", edad)\n",
    "\n",
    "if edad <18: print(\"Eres menor de edad\")\n",
    "elif edad >= 18 and edad <= 65: print(\"Eres adulto\")\n",
    "else: print(\"Eres un adulto mayor\")"
   ]
  },
  {
   "cell_type": "markdown",
   "metadata": {},
   "source": [
    "Ejercicio 2: Determinación de Día de la Semana\n",
    "\n",
    "Solicita al usuario que ingrese un número del 1 al 7.\n",
    "\n",
    "Utilizando una serie de if-elif-else, muestra el día de la semana correspondiente al número ingresado. Por ejemplo, si ingresa 1, muestra \"Lunes\"."
   ]
  },
  {
   "cell_type": "code",
   "execution_count": 141,
   "metadata": {},
   "outputs": [
    {
     "name": "stdout",
     "output_type": "stream",
     "text": [
      "9\n",
      "Número incorrecto. Elige del 1 al 7\n"
     ]
    }
   ],
   "source": [
    "dias_semana = ['lunes', 'martes', 'miércoles', 'jueves', 'viernes', 'sábado', 'domingo']\n",
    "\n",
    "eleccion = int(input(\"Elige un número del 1 al 7\"))\n",
    "print(eleccion)\n",
    "\n",
    "if eleccion == 1: print(dias_semana[0])\n",
    "elif eleccion == 2: print(dias_semana[1])\n",
    "elif eleccion == 3: print(dias_semana[2])\n",
    "elif eleccion == 4: print(dias_semana[3])\n",
    "elif eleccion == 5: print(dias_semana[4])\n",
    "elif eleccion == 6: print(dias_semana[5])\n",
    "elif eleccion == 7: print(dias_semana[6])\n",
    "else: print(\"Número incorrecto. Elige del 1 al 7\")"
   ]
  },
  {
   "cell_type": "markdown",
   "metadata": {},
   "source": [
    "Ejercicio 3: Juego de Adivinanza\n",
    "\n",
    "Genera un número aleatorio entre 1 y 100.\n",
    "\n",
    "Pídele al usuario que adivine el número.\n",
    "\n",
    "Si el usuario adivina correctamente en el primer intento, muestra \"¡Ganaste en el primer intento!\".\n",
    "\n",
    "Si el usuario no adivina en el primer intento, bríndale pistas (mayor o menor) y permite que intente nuevamente. Muestra cuántos intentos le llevó al final."
   ]
  },
  {
   "cell_type": "code",
   "execution_count": 32,
   "metadata": {},
   "outputs": [
    {
     "name": "stdout",
     "output_type": "stream",
     "text": [
      "Elegiste el número: 50\n",
      "El número secreto es mayor al que dijiste\n",
      "Elegiste el número: 80\n",
      "El número secreto es menor al que dijiste\n",
      "Elegiste el número: 70\n",
      "El número secreto es menor al que dijiste\n",
      "Elegiste el número: 60\n",
      "El número secreto es mayor al que dijiste\n",
      "Elegiste el número: 60\n",
      "El número secreto es mayor al que dijiste\n",
      "Elegiste el número: 65\n",
      "El número secreto es mayor al que dijiste\n",
      "Elegiste el número: 65\n",
      "El número secreto es mayor al que dijiste\n",
      "Elegiste el número: 68\n",
      "El número secreto es mayor al que dijiste\n",
      "Elegiste el número: 69\n",
      "¡Has acertado!\n",
      "La cantidad de intentos es: 9\n"
     ]
    }
   ],
   "source": [
    "import random\n",
    "numero_aleatorio=random.randint(1,100)\n",
    "intentos=0\n",
    "while True:\n",
    "    eleccion_usuario=int(input('Elige un número del 1 al 100'))\n",
    "    print(f'Elegiste el número: {eleccion_usuario}')\n",
    "    intentos+=1\n",
    "    if eleccion_usuario==numero_aleatorio and intentos==1:\n",
    "        print('¡Ganaste en el primer intento!')\n",
    "    elif eleccion_usuario==numero_aleatorio:\n",
    "        print('¡Has acertado!')\n",
    "        break\n",
    "    elif eleccion_usuario < numero_aleatorio:\n",
    "        print('El número secreto es mayor al que dijiste')\n",
    "    else:\n",
    "        print('El número secreto es menor al que dijiste')\n",
    "print(f'La cantidad de intentos es: {intentos}')"
   ]
  },
  {
   "cell_type": "markdown",
   "metadata": {},
   "source": [
    "Ejercicio 4: Juego de Adivinar la Palabra\n",
    "\n",
    "Elige una palabra secreta y ocúltala utilizando asteriscos, por ejemplo, \"secreto\" se muestra como \"*******\".\n",
    "\n",
    "Permite al usuario adivinar letras una por una.\n",
    "\n",
    "Si la letra adivinada está en la palabra secreta, muestra la palabra con las letras descubiertas y los asteriscos.\n",
    "\n",
    "Si la letra no está en la palabra secreta, resta una vida al jugador.\n",
    "\n",
    "El juego continúa hasta que el jugador adivine la palabra."
   ]
  },
  {
   "cell_type": "code",
   "execution_count": 1,
   "metadata": {},
   "outputs": [
    {
     "name": "stdout",
     "output_type": "stream",
     "text": [
      " *  *  *  * \n"
     ]
    },
    {
     "name": "stdout",
     "output_type": "stream",
     "text": [
      "Has elegido la a\n",
      " *  a  *  a \n",
      "Has elegido la t\n",
      " t  a  *  a \n",
      "Has elegido la z\n",
      "¡Felicidades, has ganado! La palabra secreta era: taza\n"
     ]
    }
   ],
   "source": [
    "def mostrar_tablero(palabra_secreta,letras_adivinadas):\n",
    "    board=''\n",
    "    for letra in palabra_secreta:\n",
    "        if letra in letras_adivinadas:\n",
    "            board+=' '+letra+' ' \n",
    "        else:\n",
    "            board+=' * '\n",
    "    print(board)\n",
    "\n",
    "def jugar():   \n",
    "    palabra_secreta = 'taza'\n",
    "    vidas=10\n",
    "    letras_adivinadas=[]\n",
    "    while vidas>0:\n",
    "        mostrar_tablero(palabra_secreta,letras_adivinadas)\n",
    "        letra=input('Ingresa una letra').lower()\n",
    "        print(f'Has elegido la {letra}')\n",
    "        if letra in palabra_secreta:\n",
    "            letras_adivinadas.append(letra)\n",
    "            if set(letras_adivinadas)==set(palabra_secreta):\n",
    "                print(f'¡Felicidades, has ganado! La palabra secreta era: {palabra_secreta}')\n",
    "                break\n",
    "        else:\n",
    "            print('Letra incorrecta.')\n",
    "            vidas -=1\n",
    "            print(f'Te quedan {vidas} vidas.')\n",
    "    if vidas == 0:\n",
    "        print(f'No te quedan más vidas. La palabra secreta era: {palabra_secreta}')\n",
    "\n",
    "jugar()"
   ]
  }
 ],
 "metadata": {
  "kernelspec": {
   "display_name": "Python 3",
   "language": "python",
   "name": "python3"
  },
  "language_info": {
   "codemirror_mode": {
    "name": "ipython",
    "version": 3
   },
   "file_extension": ".py",
   "mimetype": "text/x-python",
   "name": "python",
   "nbconvert_exporter": "python",
   "pygments_lexer": "ipython3",
   "version": "3.9.7"
  }
 },
 "nbformat": 4,
 "nbformat_minor": 2
}
