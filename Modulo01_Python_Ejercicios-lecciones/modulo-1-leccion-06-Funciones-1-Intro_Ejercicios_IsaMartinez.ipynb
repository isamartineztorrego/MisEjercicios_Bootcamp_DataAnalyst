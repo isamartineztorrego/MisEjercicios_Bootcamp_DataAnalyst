{
 "cells": [
  {
   "cell_type": "markdown",
   "metadata": {},
   "source": [
    "# Ejercicios"
   ]
  },
  {
   "cell_type": "markdown",
   "metadata": {},
   "source": [
    "1. Escribe una función que reciba una cadena de texto como parámetro y devuelva un diccionario con las frecuencias de cada letra en la cadena. Los espacios no deben ser considerados. "
   ]
  },
  {
   "cell_type": "code",
   "execution_count": 4,
   "metadata": {},
   "outputs": [
    {
     "data": {
      "text/plain": [
       "{'c': 1, 'a': 2, 'd': 2, 'e': 3, 'n': 1, 't': 2, 'x': 1, 'o': 1}"
      ]
     },
     "execution_count": 4,
     "metadata": {},
     "output_type": "execute_result"
    }
   ],
   "source": [
    "\n",
    "diccionario={}\n",
    "def cadena_a_diccionario(cadena):\n",
    "    keys = []\n",
    "\n",
    "    for letra in cadena:\n",
    "        if letra == ' ' or letra in diccionario.keys():\n",
    "            pass\n",
    "        else:\n",
    "            diccionario[letra] = cadena.count(letra)\n",
    "    return diccionario\n",
    "cadena_a_diccionario('cadena de texto')"
   ]
  },
  {
   "cell_type": "markdown",
   "metadata": {},
   "source": [
    "2. Escribe una función que reciba una cadena de texto como parámetro y devuelva una lista con todas las palabras que tienen más de 5 letras."
   ]
  },
  {
   "cell_type": "code",
   "execution_count": 28,
   "metadata": {},
   "outputs": [
    {
     "data": {
      "text/plain": [
       "['cadena', 'texto']"
      ]
     },
     "execution_count": 28,
     "metadata": {},
     "output_type": "execute_result"
    }
   ],
   "source": [
    "def lista_palabras(cadena):\n",
    "    palabras=cadena.split(' ')\n",
    "    lista=[]\n",
    "    for i in palabras:\n",
    "        if len(i) >= 5:\n",
    "            lista.append(i)\n",
    "        else:\n",
    "            pass\n",
    "    return lista\n",
    "            \n",
    "lista_palabras('cadena de texto')"
   ]
  },
  {
   "cell_type": "code",
   "execution_count": 95,
   "metadata": {},
   "outputs": [
    {
     "name": "stdout",
     "output_type": "stream",
     "text": [
      "Esta es una cadena de texto más larga que la anterior\n",
      "[['Esta', 'es', 'una', 'cadena', 'de', 'texto', 'más', 'larga', 'que', 'la', 'anterior']]\n",
      "11\n",
      "Esta es la lista de palabras largas: [['Esta', 'es', 'una', 'cadena', 'de', 'texto', 'más', 'larga', 'que', 'la', 'anterior']]\n"
     ]
    }
   ],
   "source": [
    "cadena2 = 'Esta es una cadena de texto más larga que la anterior'\n",
    "print(cadena2)\n",
    "\n",
    "palabras_cadena2 = [cadena2.split(\" \")]\n",
    "print(palabras_cadena2)\n",
    "\n",
    "palabras_largas = []\n",
    "palabras_cortas = []\n",
    "    \n",
    "for palabra in palabras_cadena2:\n",
    "    print(len(palabra))\n",
    "    if len(palabra) > 5:\n",
    "        palabras_largas.append(palabra)\n",
    "        print(f\"Esta es la lista de palabras largas: {palabras_largas}\")\n",
    "    else:\n",
    "        palabras_cortas.append(palabra)\n"
   ]
  },
  {
   "cell_type": "markdown",
   "metadata": {},
   "source": [
    "3. Crea una función que tome una lista de palabras como entrada y devuelva una lista de palabras que contengan más de una vocal."
   ]
  },
  {
   "cell_type": "code",
   "execution_count": 33,
   "metadata": {},
   "outputs": [
    {
     "data": {
      "text/plain": [
       "['hola', 'que', 'llamo']"
      ]
     },
     "execution_count": 33,
     "metadata": {},
     "output_type": "execute_result"
    }
   ],
   "source": [
    "def varias_vocales(lista_inicial):\n",
    "    lista_final=[]\n",
    "    for palabra in lista_inicial:\n",
    "        cantidad_vocales=0\n",
    "        for letra in palabra:\n",
    "            if letra in ('aeiou'):\n",
    "                cantidad_vocales+=1\n",
    "        if cantidad_vocales>1:\n",
    "            lista_final.append(palabra)\n",
    "    return lista_final\n",
    "varias_vocales(['hola','que','tal','me','llamo','Isa'])"
   ]
  },
  {
   "cell_type": "markdown",
   "metadata": {},
   "source": [
    "4. Crea una función que tome una lista de números y calcule la suma de todos los números pares en la lista."
   ]
  },
  {
   "cell_type": "code",
   "execution_count": 10,
   "metadata": {},
   "outputs": [
    {
     "name": "stdout",
     "output_type": "stream",
     "text": [
      "42\n"
     ]
    }
   ],
   "source": [
    "def suma_pares(lista):\n",
    "    sumapares=0\n",
    "    for i in lista:\n",
    "        if i % 2 ==0:\n",
    "            sumapares+=i\n",
    "        else:\n",
    "            pass\n",
    "    return sumapares\n",
    "print(suma_pares([1,2,3,4,5,6,7,8,9,10,11,12,13]))"
   ]
  },
  {
   "cell_type": "markdown",
   "metadata": {},
   "source": [
    "5. Escribe una función que tome una lista de números como entrada y calcule el promedio de esos números."
   ]
  },
  {
   "cell_type": "code",
   "execution_count": 15,
   "metadata": {},
   "outputs": [
    {
     "data": {
      "text/plain": [
       "7.0"
      ]
     },
     "execution_count": 15,
     "metadata": {},
     "output_type": "execute_result"
    }
   ],
   "source": [
    "def promedio(lista):\n",
    "    for i in lista:\n",
    "        cantidad_numeros=len(lista)\n",
    "        suma_numeros=sum(lista)\n",
    "        media=suma_numeros/cantidad_numeros\n",
    "    return media\n",
    "promedio([1,2,3,4,5,6,7,8,9,10,11,12,13])"
   ]
  },
  {
   "cell_type": "markdown",
   "metadata": {},
   "source": [
    "6. Crea una función que determine el próximo año en el que las cifras del año de tu cumpleaños no se repitan. La función toma un año de tu cumpleaños como entrada y calcula el próximo año en el que las cifras no se repitan, es decir, todas las cifras en el año son diferentes entre sí."
   ]
  },
  {
   "cell_type": "code",
   "execution_count": null,
   "metadata": {},
   "outputs": [],
   "source": [
    "def anio(mi_anio):\n",
    "    proximo_anio=mi_anio+1\n",
    "    while set(proximo_anio)"
   ]
  },
  {
   "cell_type": "markdown",
   "metadata": {},
   "source": [
    "7. Crea una función que determine cuántos pasteles puedes hornear según una receta y los ingredientes disponibles. La función toma dos diccionarios como entrada: receta, que contiene los ingredientes necesarios para un pastel, y disponible, que contiene la cantidad disponible de cada ingrediente. Sus parámetros de entrada son: \n",
    "\n",
    "    - receta: Un diccionario que representa los ingredientes necesarios para un pastel, donde las claves son los nombres de los ingredientes y los valores son las cantidades necesarias de cada ingrediente.\n",
    "\n",
    "    - disponible: Un diccionario que representa la cantidad disponible de cada ingrediente, donde las claves son los nombres de los ingredientes y los valores son las cantidades disponibles.\n",
    "\n",
    "    ```python\n",
    "    receta1 = {'flour': 500, 'sugar': 200, 'eggs': 1}\n",
    "    ingredientes1 = {'flour': 1200, 'sugar': 1200, 'eggs': 5, 'milk': 200}\n",
    "\n",
    "    pasteles(receta1, ingredientes1)    \n",
    "    # output: con estos ingredientes solo puedo hacer 2 bizcochos\n",
    "    ```"
   ]
  },
  {
   "cell_type": "code",
   "execution_count": 60,
   "metadata": {},
   "outputs": [
    {
     "data": {
      "text/plain": [
       "2"
      ]
     },
     "execution_count": 60,
     "metadata": {},
     "output_type": "execute_result"
    }
   ],
   "source": [
    "def cantidad_pasteles(receta, ingredientes):\n",
    "    cantidad=[]\n",
    "    for i in receta:\n",
    "        if i not in ingredientes:\n",
    "            return 0\n",
    "        else:\n",
    "            cantidad.append(ingredientes[i]//receta[i]) #divide cada ingrediente por su value y los mete en la lista\n",
    "    return min(cantidad) #la lista contiene el resultado de las 3 divisiones anteriores [2,6,5], así que le pido el mínimo\n",
    "\n",
    "receta1 = {'flour': 500, 'sugar': 200, 'eggs': 1}\n",
    "ingredientes1 = {'flour': 1200, 'sugar': 1200, 'eggs': 5, 'milk': 200}\n",
    "cantidad_pasteles(receta1,ingredientes1)"
   ]
  },
  {
   "cell_type": "markdown",
   "metadata": {},
   "source": [
    "BONUS: \n",
    "8. Crea una función llamada fibonacci que tome un número n como argumento y devuelva una lista con los primeros n números de la serie Fibonacci."
   ]
  },
  {
   "cell_type": "code",
   "execution_count": 54,
   "metadata": {},
   "outputs": [
    {
     "data": {
      "text/plain": [
       "[0, 1, 1, 2, 3, 5, 8, 13, 21, 34]"
      ]
     },
     "execution_count": 54,
     "metadata": {},
     "output_type": "execute_result"
    }
   ],
   "source": [
    "def fibonacci(n):\n",
    "    lista=[0,1] #0,1 es el comienzo de la lista. Cada número siguiente será la suma de los dos anteriores.\n",
    "    while len(lista)<n: #mientras la longitud de la lista será inferior a n\n",
    "        siguiente=(lista[-1])+(lista[-2]) # siguiente número será igual a la suma de los dos anteriores\n",
    "        lista.append(siguiente) #añade el siguiente número a la lista\n",
    "    return lista #cuando llame a la función, devuélveme la lista\n",
    "\n",
    "fibonacci(10)"
   ]
  }
 ],
 "metadata": {
  "kernelspec": {
   "display_name": "Python 3 (ipykernel)",
   "language": "python",
   "name": "python3"
  },
  "language_info": {
   "codemirror_mode": {
    "name": "ipython",
    "version": 3
   },
   "file_extension": ".py",
   "mimetype": "text/x-python",
   "name": "python",
   "nbconvert_exporter": "python",
   "pygments_lexer": "ipython3",
   "version": "3.9.7"
  },
  "toc": {
   "base_numbering": 1,
   "nav_menu": {},
   "number_sections": true,
   "sideBar": true,
   "skip_h1_title": false,
   "title_cell": "Table of Contents",
   "title_sidebar": "Contents",
   "toc_cell": true,
   "toc_position": {},
   "toc_section_display": true,
   "toc_window_display": true
  },
  "vscode": {
   "interpreter": {
    "hash": "31f2aee4e71d21fbe5cf8b01ff0e069b9275f58929596ceb00d14d90e3e16cd6"
   }
  }
 },
 "nbformat": 4,
 "nbformat_minor": 2
}
