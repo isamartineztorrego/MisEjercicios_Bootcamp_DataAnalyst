{
 "cells": [
  {
   "cell_type": "markdown",
   "metadata": {},
   "source": [
    "------------------------\n",
    "\n",
    "# Ejercicios \n",
    "\n",
    "Crea una clase llamada `Vehiculo` que representa un vehículo genérico. Esta clase tiene la capacidad de realizar acciones relacionadas con el vehículo, como encenderlo, apagarlo, acelerar, frenar y detenerlo gradualmente. Cada método en la clase tiene una descripción específica de su función. A continuación, se detallan los aspectos clave de esta clase:\n",
    "\n",
    "- **Atributos:**\n",
    "\n",
    "    - `marca`: Una cadena que representa la marca del vehículo.\n",
    "\n",
    "    - `modelo`: Una cadena que representa el modelo del vehículo.\n",
    "\n",
    "    - `año`: Un número entero que representa el año de fabricación del vehículo.\n",
    "\n",
    "    - `velocidad_actual`: Un número entero que representa la velocidad actual del vehículo en km/h.\n",
    "\n",
    "    - `encendido`: Un valor booleano que indica si el vehículo está encendido (`True`) o apagado (`False`).\n",
    "\n",
    "- **Métodos:**\n",
    "\n",
    "    -  `__init__(self, marca, modelo, año)`: El constructor de la clase que inicializa los atributos del vehículo, incluyendo la marca, el modelo, el año, la velocidad actual (inicialmente 0) y el estado del encendido (inicialmente apagado).\n",
    "\n",
    "    - `informacion(self)`: Un método que devuelve una cadena de texto con la información básica del vehículo, incluyendo la marca, el modelo y el año.\n",
    "\n",
    "    - `encender(self)`: Un método que enciende el vehículo si está apagado y devuelve un mensaje de confirmación. Si el vehículo ya está encendido, devuelve un mensaje indicando que ya está en funcionamiento.\n",
    "\n",
    "    - `apagar(self)`: Un método que apaga el vehículo si está encendido, establece la velocidad actual en 0 y devuelve un mensaje de confirmación. Si el vehículo ya está apagado, devuelve un mensaje indicando que ya está apagado.\n",
    "\n",
    "    - `acelerar(self, velocidad)`: Un método que aumenta la velocidad actual del vehículo según la cantidad de velocidad proporcionada como argumento. Si el vehículo está encendido, aumenta la velocidad y devuelve un mensaje con la nueva velocidad actual. Si el vehículo está apagado, devuelve un mensaje indicando que no se puede acelerar.\n",
    "\n",
    "    - `frenar(self, velocidad)`: Un método que reduce la velocidad actual del vehículo según la cantidad de velocidad proporcionada como argumento. Si el vehículo está encendido, reduce la velocidad y devuelve un mensaje con la nueva velocidad actual. Si el vehículo está apagado, devuelve un mensaje indicando que no se puede frenar.\n",
    "\n",
    "    - `detener(self)`: Un método que detiene gradualmente el vehículo reduciendo la velocidad en incrementos de 5 km/h hasta que alcance una velocidad de 0 km/h. Si el vehículo está encendido, detiene el vehículo y devuelve un mensaje de confirmación. Si el vehículo está apagado, devuelve un mensaje indicando que no se puede detener.\n",
    "\n",
    "\n",
    "Crea la subclase Coche que hereda de la clase base Vehiculo y representa un coche específico. Además de los atributos y métodos heredados, la clase Coche tiene un atributo adicional:\n",
    "\n",
    "\n",
    "- **Atributos:**\n",
    "    - combustible: Una cadena que representa el tipo de combustible que utiliza el coche.\n",
    "\n",
    "- **Métodos:**\n",
    "\n",
    "    - `__init__(self, marca, modelo, año, combustible)`: Constructor que inicializa los atributos de la clase base y el atributo específico del coche.\n",
    "    \n",
    "    - `informacion(self)`: Devuelve una cadena con la información del coche, incluyendo la marca, el modelo, el año y el tipo de combustible.\n",
    "\n"
   ]
  },
  {
   "cell_type": "code",
   "execution_count": 1,
   "metadata": {},
   "outputs": [],
   "source": [
    "class Vehiculo:\n",
    "    def __init__(self, marca, modelo, año, velocidad_actual=0, encendido=False):\n",
    "        self.marca = marca\n",
    "        self.modelo = modelo\n",
    "        self.año = año\n",
    "        self.velocidad_actual = velocidad_actual\n",
    "        self.encendido = encendido\n",
    "\n",
    "    def informacion(self):\n",
    "        return f'La información básica del vehículo es: marca: {self.marca}, modelo: {self.modelo}, año: {self.año}, velocidad actual {self.velocidad_actual} y ¿está encendido?: {self.encendido}'\n",
    "\n",
    "    def encender(self):\n",
    "        if self.encendido == False:\n",
    "            self.encendido = True\n",
    "            return 'El vehículo estaba apagado y lo acabamos de encender.'\n",
    "        else:\n",
    "            return 'El vehículo ya estaba encendido.'\n",
    "\n",
    "    def apagar(self):\n",
    "        if self.encendido == True:\n",
    "            self.encendido = False\n",
    "            self.velocidad_actual = 0\n",
    "            return 'El vehículo estaba encendido, lo hemos apagado y la velocidad actual es 0.'\n",
    "        else:\n",
    "            return 'El vehículo ya estaba apagado.'\n",
    "\n",
    "    def acelerar (self, velocidad):\n",
    "        # no pongo self.velocidad=velocidad porque no estoy creando un nuevo parámetro, si no que estoy creando una variable (velocidad) que se sumará en el parámetro velocidad_actual\n",
    "        if self.encendido == True:\n",
    "            self.velocidad_actual += velocidad\n",
    "            return f'La nueva velocidad actual es: {self.velocidad_actual} km/h.'\n",
    "        else:\n",
    "            return f'No se puede acelerar porque el vehículo está apagado.'\n",
    "\n",
    "    def frenar(self, velocidad):\n",
    "        if self.encendido == True:\n",
    "            self.velocidad_actual -= velocidad\n",
    "            if self.velocidad_actual<0: # porque si al restar la velocidad llega a menos de 0km/h, no puede ser, así que le digo que ponga la velocidad en 0km/h\n",
    "                self.velocidad_actual=0\n",
    "            return f'El vehículo ha frenado y la nueva velocidad actual es: {self.velocidad_actual} km/h'\n",
    "        else:\n",
    "            return f'No se puede frenar porque el vehículo está apagado.'\n",
    "\n",
    "    def detener(self): # me falta convertirlo en bucle para que reste 5 cada vez hasta que llegue a 0\n",
    "        if self.encendido == True:\n",
    "            while self.velocidad_actual>0: # se va a cumplir el while mientras la velocidad sea superior a 0, la cual se va restando con la línea de abajo\n",
    "                self.velocidad_actual = max(0, self.velocidad_actual -5)\n",
    "            return 'El vehículo se detuvo.'\n",
    "        else:\n",
    "            return 'No se puede detener porque el vehículo ya está apagado.'\n"
   ]
  },
  {
   "cell_type": "code",
   "execution_count": 2,
   "metadata": {},
   "outputs": [],
   "source": [
    "forito = Vehiculo('Ford', 'Fiesta', 2020, 0, False) # estoy instanciando mi objeto (forito)"
   ]
  },
  {
   "cell_type": "code",
   "execution_count": 3,
   "metadata": {},
   "outputs": [
    {
     "data": {
      "text/plain": [
       "'Ford'"
      ]
     },
     "execution_count": 3,
     "metadata": {},
     "output_type": "execute_result"
    }
   ],
   "source": [
    "forito.marca"
   ]
  },
  {
   "cell_type": "code",
   "execution_count": 4,
   "metadata": {},
   "outputs": [
    {
     "data": {
      "text/plain": [
       "'Fiesta'"
      ]
     },
     "execution_count": 4,
     "metadata": {},
     "output_type": "execute_result"
    }
   ],
   "source": [
    "forito.modelo"
   ]
  },
  {
   "cell_type": "code",
   "execution_count": 5,
   "metadata": {},
   "outputs": [
    {
     "data": {
      "text/plain": [
       "2020"
      ]
     },
     "execution_count": 5,
     "metadata": {},
     "output_type": "execute_result"
    }
   ],
   "source": [
    "forito.año"
   ]
  },
  {
   "cell_type": "code",
   "execution_count": 6,
   "metadata": {},
   "outputs": [
    {
     "data": {
      "text/plain": [
       "0"
      ]
     },
     "execution_count": 6,
     "metadata": {},
     "output_type": "execute_result"
    }
   ],
   "source": [
    "forito.velocidad_actual"
   ]
  },
  {
   "cell_type": "code",
   "execution_count": 55,
   "metadata": {},
   "outputs": [
    {
     "data": {
      "text/plain": [
       "False"
      ]
     },
     "execution_count": 55,
     "metadata": {},
     "output_type": "execute_result"
    }
   ],
   "source": [
    "forito.encendido"
   ]
  },
  {
   "cell_type": "code",
   "execution_count": 7,
   "metadata": {},
   "outputs": [
    {
     "data": {
      "text/plain": [
       "'El vehículo estaba apagado y lo acabamos de encender.'"
      ]
     },
     "execution_count": 7,
     "metadata": {},
     "output_type": "execute_result"
    }
   ],
   "source": [
    "forito.encender()"
   ]
  },
  {
   "cell_type": "code",
   "execution_count": 8,
   "metadata": {},
   "outputs": [
    {
     "data": {
      "text/plain": [
       "0"
      ]
     },
     "execution_count": 8,
     "metadata": {},
     "output_type": "execute_result"
    }
   ],
   "source": [
    "forito.velocidad_actual"
   ]
  },
  {
   "cell_type": "code",
   "execution_count": 9,
   "metadata": {},
   "outputs": [
    {
     "data": {
      "text/plain": [
       "'La nueva velocidad actual es: 200 km/h.'"
      ]
     },
     "execution_count": 9,
     "metadata": {},
     "output_type": "execute_result"
    }
   ],
   "source": [
    "forito.acelerar(200)"
   ]
  },
  {
   "cell_type": "code",
   "execution_count": 10,
   "metadata": {},
   "outputs": [
    {
     "data": {
      "text/plain": [
       "'La nueva velocidad actual es: 250 km/h.'"
      ]
     },
     "execution_count": 10,
     "metadata": {},
     "output_type": "execute_result"
    }
   ],
   "source": [
    "forito.acelerar(50)"
   ]
  },
  {
   "cell_type": "code",
   "execution_count": 11,
   "metadata": {},
   "outputs": [
    {
     "data": {
      "text/plain": [
       "'El vehículo ha frenado y la nueva velocidad actual es: 100 km/h'"
      ]
     },
     "execution_count": 11,
     "metadata": {},
     "output_type": "execute_result"
    }
   ],
   "source": [
    "forito.frenar(150)"
   ]
  },
  {
   "cell_type": "code",
   "execution_count": 12,
   "metadata": {},
   "outputs": [
    {
     "data": {
      "text/plain": [
       "'El vehículo ha frenado y la nueva velocidad actual es: 0 km/h'"
      ]
     },
     "execution_count": 12,
     "metadata": {},
     "output_type": "execute_result"
    }
   ],
   "source": [
    "forito.frenar(250)"
   ]
  },
  {
   "cell_type": "code",
   "execution_count": 13,
   "metadata": {},
   "outputs": [
    {
     "data": {
      "text/plain": [
       "'El vehículo estaba encendido, lo hemos apagado y la velocidad actual es 0.'"
      ]
     },
     "execution_count": 13,
     "metadata": {},
     "output_type": "execute_result"
    }
   ],
   "source": [
    "forito.apagar()"
   ]
  },
  {
   "cell_type": "code",
   "execution_count": 14,
   "metadata": {},
   "outputs": [
    {
     "data": {
      "text/plain": [
       "'El vehículo ya estaba apagado.'"
      ]
     },
     "execution_count": 14,
     "metadata": {},
     "output_type": "execute_result"
    }
   ],
   "source": [
    "forito.apagar()"
   ]
  },
  {
   "cell_type": "code",
   "execution_count": 15,
   "metadata": {},
   "outputs": [
    {
     "data": {
      "text/plain": [
       "'La información básica del vehículo es: marca: Ford, modelo: Fiesta, año: 2020, velocidad actual 0 y ¿está encendido?: False'"
      ]
     },
     "execution_count": 15,
     "metadata": {},
     "output_type": "execute_result"
    }
   ],
   "source": [
    "forito.informacion()"
   ]
  },
  {
   "cell_type": "markdown",
   "metadata": {},
   "source": [
    "Creo la subclase"
   ]
  },
  {
   "cell_type": "code",
   "execution_count": 16,
   "metadata": {},
   "outputs": [],
   "source": [
    "class Coche(Vehiculo):\n",
    "    def __init__(self, marca, modelo, año, combustible): # todos los atributos de la subclase (pueden incluir los de la clase madre o no)\n",
    "        super().__init__(marca, modelo, año) # qué atributos de la clase madre traemos\n",
    "        self.combustible = combustible # declaro el atributo que es único de la clase hija\n",
    "    def informacion(self):\n",
    "        return f'La información del coche es: marca: {self.marca} modelo: {self.modelo} año: {self.año} y tipo de combustible: {self.combustible}'"
   ]
  },
  {
   "cell_type": "code",
   "execution_count": 19,
   "metadata": {},
   "outputs": [],
   "source": [
    "mi_coche = Coche('seat', 'ibiza', '2016', 'diesel')"
   ]
  },
  {
   "cell_type": "code",
   "execution_count": 21,
   "metadata": {},
   "outputs": [
    {
     "data": {
      "text/plain": [
       "'La información del coche es: marca: seat modelo: ibiza año: 2016 y tipo de combustible: diesel'"
      ]
     },
     "execution_count": 21,
     "metadata": {},
     "output_type": "execute_result"
    }
   ],
   "source": [
    "mi_coche.informacion()"
   ]
  }
 ],
 "metadata": {
  "kernelspec": {
   "display_name": "Python 3 (ipykernel)",
   "language": "python",
   "name": "python3"
  },
  "language_info": {
   "codemirror_mode": {
    "name": "ipython",
    "version": 3
   },
   "file_extension": ".py",
   "mimetype": "text/x-python",
   "name": "python",
   "nbconvert_exporter": "python",
   "pygments_lexer": "ipython3",
   "version": "3.9.7"
  },
  "toc": {
   "base_numbering": 1,
   "nav_menu": {},
   "number_sections": true,
   "sideBar": true,
   "skip_h1_title": false,
   "title_cell": "Table of Contents",
   "title_sidebar": "Contents",
   "toc_cell": true,
   "toc_position": {},
   "toc_section_display": true,
   "toc_window_display": true
  },
  "vscode": {
   "interpreter": {
    "hash": "31f2aee4e71d21fbe5cf8b01ff0e069b9275f58929596ceb00d14d90e3e16cd6"
   }
  }
 },
 "nbformat": 4,
 "nbformat_minor": 2
}
