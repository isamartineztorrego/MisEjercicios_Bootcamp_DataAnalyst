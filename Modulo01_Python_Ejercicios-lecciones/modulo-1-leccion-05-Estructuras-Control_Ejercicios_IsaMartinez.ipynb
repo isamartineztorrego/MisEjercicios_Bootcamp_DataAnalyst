{
 "cells": [
  {
   "cell_type": "markdown",
   "metadata": {},
   "source": [
    "# Ejercicios"
   ]
  },
  {
   "cell_type": "markdown",
   "metadata": {},
   "source": [
    "1. Crea una variable que sea igual a \"Python\" y genera un código que nos printee todas las letras menos la \"P\" usando la sentencia `continue`."
   ]
  },
  {
   "cell_type": "code",
   "execution_count": 2,
   "metadata": {},
   "outputs": [
    {
     "name": "stdout",
     "output_type": "stream",
     "text": [
      "y\n",
      "t\n",
      "h\n",
      "o\n",
      "n\n"
     ]
    }
   ],
   "source": [
    "palabra='Python'\n",
    "for i in palabra:\n",
    "    if i == 'P':\n",
    "        continue\n",
    "    print(i)"
   ]
  },
  {
   "cell_type": "markdown",
   "metadata": {},
   "source": [
    "2. De la frase `'Hello'` imprime todas las letras que no sean una `'l'` usando `if`."
   ]
  },
  {
   "cell_type": "code",
   "execution_count": 5,
   "metadata": {},
   "outputs": [
    {
     "name": "stdout",
     "output_type": "stream",
     "text": [
      "H\n",
      "e\n",
      "o\n"
     ]
    }
   ],
   "source": [
    "palabra2='Hello'\n",
    "for i in palabra2:\n",
    "    if i != 'l':\n",
    "        print(i)"
   ]
  },
  {
   "cell_type": "markdown",
   "metadata": {},
   "source": [
    "3. Haz lo mismo que en 2 usando `continue`."
   ]
  },
  {
   "cell_type": "code",
   "execution_count": 6,
   "metadata": {},
   "outputs": [
    {
     "name": "stdout",
     "output_type": "stream",
     "text": [
      "H\n",
      "e\n",
      "o\n"
     ]
    }
   ],
   "source": [
    "palabra2='Hello'\n",
    "for i in palabra2:\n",
    "    if i == 'l':\n",
    "        continue\n",
    "    print(i)"
   ]
  },
  {
   "cell_type": "markdown",
   "metadata": {},
   "source": [
    "4. De la frase `'Hello'` imprime todas las letras parando el bucle si encuentras una `'o'`."
   ]
  },
  {
   "cell_type": "code",
   "execution_count": 7,
   "metadata": {},
   "outputs": [
    {
     "name": "stdout",
     "output_type": "stream",
     "text": [
      "H\n",
      "e\n",
      "l\n",
      "l\n"
     ]
    }
   ],
   "source": [
    "palabra2='Hello'\n",
    "for i in palabra2:\n",
    "    if i =='o':\n",
    "        break\n",
    "    else:\n",
    "        print(i)"
   ]
  },
  {
   "cell_type": "markdown",
   "metadata": {},
   "source": [
    "5. Define  la variable `doce = '12'` y `seis = 6`. Intenta sumarlos. En el caso de que te salga un error imprime `'¡Un error!'`. Para eso usa un `try` ... `except`"
   ]
  },
  {
   "cell_type": "code",
   "execution_count": 8,
   "metadata": {},
   "outputs": [
    {
     "name": "stdout",
     "output_type": "stream",
     "text": [
      "¡Un error!\n"
     ]
    }
   ],
   "source": [
    "doce='12'\n",
    "seis=6\n",
    "try: doce + seis\n",
    "except:print('¡Un error!')"
   ]
  },
  {
   "cell_type": "markdown",
   "metadata": {},
   "source": [
    "6. Basándonos en el ejercicio anterior, sin usar un `try` ... `except`, ¿cómo podríamos solucionar el problema? "
   ]
  },
  {
   "cell_type": "code",
   "execution_count": 10,
   "metadata": {},
   "outputs": [
    {
     "name": "stdout",
     "output_type": "stream",
     "text": [
      "12\n"
     ]
    }
   ],
   "source": [
    "suma=6+6\n",
    "print(suma)"
   ]
  },
  {
   "cell_type": "code",
   "execution_count": 14,
   "metadata": {},
   "outputs": [
    {
     "name": "stdout",
     "output_type": "stream",
     "text": [
      "<class 'int'>\n",
      "18\n"
     ]
    }
   ],
   "source": [
    "doce='12'\n",
    "seis=6\n",
    "doce_int=int(doce)\n",
    "suma=doce_int+seis\n",
    "print(suma)"
   ]
  },
  {
   "cell_type": "markdown",
   "metadata": {},
   "source": [
    "7. Solicita al usuario ingresar números enteros positivos hasta que ingrese un número negativo. Luego, muestra la suma de todos los números pares ingresados."
   ]
  },
  {
   "cell_type": "code",
   "execution_count": 17,
   "metadata": {},
   "outputs": [
    {
     "name": "stdout",
     "output_type": "stream",
     "text": [
      "El número elegido es: 2\n",
      "El número elegido es: 3\n",
      "El número elegido es: 4\n",
      "El número elegido es: 5\n",
      "El número elegido es: 6\n",
      "El número elegido es: -1\n",
      "12\n"
     ]
    }
   ],
   "source": [
    "suma_pares=0\n",
    "while numero_usuario >0:\n",
    "    numero_usuario=int(input(\"Escribe un número entero\"))\n",
    "    print(f'El número elegido es: {numero_usuario}')\n",
    "    if numero_usuario < 0:\n",
    "        break\n",
    "    elif numero_usuario % 2 != 0:\n",
    "        continue\n",
    "    else:\n",
    "        suma_pares+=numero_usuario\n",
    "\n",
    "print(suma_pares)"
   ]
  },
  {
   "cell_type": "markdown",
   "metadata": {},
   "source": [
    "8. Solicita al usuario ingresar dos números y muestra el resultado de dividir el primero por el segundo. Asegúrate de manejar la excepción si el segundo número es cero."
   ]
  },
  {
   "cell_type": "code",
   "execution_count": 20,
   "metadata": {},
   "outputs": [
    {
     "name": "stdout",
     "output_type": "stream",
     "text": [
      "10.0\n",
      "0.0\n",
      "No se puede dividir entre 0\n"
     ]
    }
   ],
   "source": [
    "numero1=float(input(\"Introduce el primer número\"))\n",
    "print(numero1)\n",
    "numero2=float(input('Introduce el segundo número'))\n",
    "print(numero2)\n",
    "try:\n",
    "    print(numero1/numero2)\n",
    "except ZeroDivisionError:\n",
    "    print('No se puede dividir entre 0')"
   ]
  },
  {
   "cell_type": "markdown",
   "metadata": {},
   "source": [
    "9. Solicita al usuario ingresar un número y muestra su raíz cuadrada. Maneja la excepción si el número es negativo."
   ]
  },
  {
   "cell_type": "code",
   "execution_count": 26,
   "metadata": {},
   "outputs": [
    {
     "name": "stdout",
     "output_type": "stream",
     "text": [
      "-1.0\n",
      "Ingresa un número válido\n"
     ]
    }
   ],
   "source": [
    "import math\n",
    "numero3=float(input('Ingrersa el número del que quieres hayar la raíz cuadrada'))\n",
    "print(numero3)\n",
    "try:\n",
    "    raiz=math.sqrt(numero3)\n",
    "    print(raiz)\n",
    "except ValueError:\n",
    "    print('Ingresa un número válido')"
   ]
  },
  {
   "cell_type": "markdown",
   "metadata": {},
   "source": [
    "10. Crea una lista de números y solicita al usuario ingresar un índice para acceder a un elemento de la lista. Maneja la excepción si el índice está fuera de rango."
   ]
  },
  {
   "cell_type": "code",
   "execution_count": 49,
   "metadata": {},
   "outputs": [
    {
     "name": "stdout",
     "output_type": "stream",
     "text": [
      "El índice al que quiere acceder es 9\n",
      "Índice fuera de rango\n"
     ]
    }
   ],
   "source": [
    "lista_numeros=[1,2,3,4,5,6,7,8,9]\n",
    "rango=range(0,8)\n",
    "indice=(int(input('Escribe el índice al que quieres acceder')))\n",
    "print(f'El índice al que quiere acceder es {indice}')\n",
    "try:\n",
    "        print(lista_numeros[indice])\n",
    "except IndexError:\n",
    "    print('Índice fuera de rango')\n",
    "      "
   ]
  }
 ],
 "metadata": {
  "kernelspec": {
   "display_name": "Python 3 (ipykernel)",
   "language": "python",
   "name": "python3"
  },
  "language_info": {
   "codemirror_mode": {
    "name": "ipython",
    "version": 3
   },
   "file_extension": ".py",
   "mimetype": "text/x-python",
   "name": "python",
   "nbconvert_exporter": "python",
   "pygments_lexer": "ipython3",
   "version": "3.9.7"
  },
  "toc": {
   "base_numbering": 1,
   "nav_menu": {},
   "number_sections": true,
   "sideBar": true,
   "skip_h1_title": false,
   "title_cell": "Table of Contents",
   "title_sidebar": "Contents",
   "toc_cell": true,
   "toc_position": {},
   "toc_section_display": true,
   "toc_window_display": true
  },
  "vscode": {
   "interpreter": {
    "hash": "31f2aee4e71d21fbe5cf8b01ff0e069b9275f58929596ceb00d14d90e3e16cd6"
   }
  }
 },
 "nbformat": 4,
 "nbformat_minor": 2
}
