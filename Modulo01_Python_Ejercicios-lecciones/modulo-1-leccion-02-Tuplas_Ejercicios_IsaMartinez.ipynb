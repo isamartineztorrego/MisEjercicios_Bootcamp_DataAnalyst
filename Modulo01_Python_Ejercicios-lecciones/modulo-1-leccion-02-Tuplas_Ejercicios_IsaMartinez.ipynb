{
 "cells": [
  {
   "cell_type": "markdown",
   "metadata": {
    "id": "5PcBreuKcX1-"
   },
   "source": [
    "\n",
    "\n",
    "---\n",
    "\n",
    "# Ejercicios:\n",
    "\n",
    "- Definir tuplas\n",
    "\n",
    "  1. Crea una tupla `persona1` para juntar los siguientes datos: 61 kg, 1.54 m altura, pelo marrón, sin usar paréntesis. (Serán del tipo `int`, `float` y `str`.)\n",
    "\n",
    "\n"
   ]
  },
  {
   "cell_type": "code",
   "execution_count": 1,
   "metadata": {},
   "outputs": [
    {
     "name": "stdout",
     "output_type": "stream",
     "text": [
      "<class 'tuple'>\n"
     ]
    }
   ],
   "source": [
    "persona1=61,1.54,'pelo marrón'\n",
    "print(type(persona1))"
   ]
  },
  {
   "cell_type": "markdown",
   "metadata": {},
   "source": [
    "2. Crea una tupla para la `persona2` de 68 kg, 1.65 m y pelo rubio, usando paréntesis."
   ]
  },
  {
   "cell_type": "code",
   "execution_count": 2,
   "metadata": {},
   "outputs": [
    {
     "name": "stdout",
     "output_type": "stream",
     "text": [
      "<class 'tuple'>\n"
     ]
    }
   ],
   "source": [
    "persona2=(68, 1.65, 'pelo rubio')\n",
    "print(type(persona2))"
   ]
  },
  {
   "cell_type": "markdown",
   "metadata": {},
   "source": [
    "3. Crea una lista `talla` que recompila 'M', 42, y 39. "
   ]
  },
  {
   "cell_type": "code",
   "execution_count": 5,
   "metadata": {},
   "outputs": [
    {
     "name": "stdout",
     "output_type": "stream",
     "text": [
      "<class 'list'>\n"
     ]
    }
   ],
   "source": [
    "talla=['M', 42, 39]\n",
    "print(type(talla))"
   ]
  },
  {
   "cell_type": "markdown",
   "metadata": {},
   "source": [
    "- Convertir y juntar\n",
    "\n",
    "  4. Convierte la lista `talla` a una tupla."
   ]
  },
  {
   "cell_type": "code",
   "execution_count": 6,
   "metadata": {},
   "outputs": [
    {
     "name": "stdout",
     "output_type": "stream",
     "text": [
      "<class 'tuple'>\n"
     ]
    }
   ],
   "source": [
    "talla_tupla=tuple(talla)\n",
    "print(type(talla_tupla))"
   ]
  },
  {
   "cell_type": "markdown",
   "metadata": {},
   "source": [
    "5. Une a la tupla de `persona1` los datos en `talla`, para tener una única tupla."
   ]
  },
  {
   "cell_type": "code",
   "execution_count": 12,
   "metadata": {},
   "outputs": [
    {
     "name": "stdout",
     "output_type": "stream",
     "text": [
      "<class 'tuple'>\n",
      "(61, 1.54, 'pelo marrón', 'M', 42, 39)\n"
     ]
    }
   ],
   "source": [
    "tupla_completa1=persona1+talla_tupla\n",
    "print(type(tupla_completa1))\n",
    "print(tupla_completa1)"
   ]
  },
  {
   "cell_type": "markdown",
   "metadata": {},
   "source": [
    "- Indexar tuplas\n",
    "\n",
    "  6. Saca de `persona2` el contenido del tercer elemento y llámalo `color`."
   ]
  },
  {
   "cell_type": "code",
   "execution_count": 14,
   "metadata": {},
   "outputs": [
    {
     "name": "stdout",
     "output_type": "stream",
     "text": [
      "pelo rubio\n"
     ]
    }
   ],
   "source": [
    "color=persona2[2]\n",
    "print(color)"
   ]
  },
  {
   "cell_type": "markdown",
   "metadata": {},
   "source": [
    "7. ¿Cuántos elementos hay ahora en `persona1`? (Es decir, ¿cuál es su longitud?)"
   ]
  },
  {
   "cell_type": "code",
   "execution_count": 15,
   "metadata": {},
   "outputs": [
    {
     "data": {
      "text/plain": [
       "3"
      ]
     },
     "execution_count": 15,
     "metadata": {},
     "output_type": "execute_result"
    }
   ],
   "source": [
    "len(persona1)"
   ]
  },
  {
   "cell_type": "markdown",
   "metadata": {},
   "source": [
    "- Desempaquetar\n",
    "\n",
    "  8. Crea las variables `peso`, `altura`, `color_pelo` y llénalas con el contenido de `persona1`. Imprime `color_pelo` para comprobar el resultado. "
   ]
  },
  {
   "cell_type": "code",
   "execution_count": 18,
   "metadata": {},
   "outputs": [
    {
     "name": "stdout",
     "output_type": "stream",
     "text": [
      "(61, 1.54, 'pelo marrón')\n",
      "pelo marrón\n",
      "1.54\n",
      "61\n"
     ]
    }
   ],
   "source": [
    "print(persona1)\n",
    "peso, altura, color_pelo = persona1\n",
    "print(color_pelo)\n",
    "print(altura)\n",
    "print(peso)"
   ]
  },
  {
   "cell_type": "markdown",
   "metadata": {},
   "source": [
    "- Zipear\n",
    "\n",
    "  9. Crea el zip `personas` con `persona1` y `persona2`."
   ]
  },
  {
   "cell_type": "code",
   "execution_count": 20,
   "metadata": {},
   "outputs": [
    {
     "name": "stdout",
     "output_type": "stream",
     "text": [
      "(61, 1.54, 'pelo marrón')\n",
      "(68, 1.65, 'pelo rubio')\n",
      "[(61, 68), (1.54, 1.65), ('pelo marrón', 'pelo rubio')]\n"
     ]
    }
   ],
   "source": [
    "print(persona1)\n",
    "print(persona2)\n",
    "personas=list(zip(persona1,persona2))\n",
    "print(personas)"
   ]
  },
  {
   "cell_type": "markdown",
   "metadata": {},
   "source": [
    "10. ¿Cuántas \"elementos\" tiene `personas`? ¿Por qué?"
   ]
  },
  {
   "cell_type": "code",
   "execution_count": 22,
   "metadata": {},
   "outputs": [
    {
     "data": {
      "text/plain": [
       "3"
      ]
     },
     "execution_count": 22,
     "metadata": {},
     "output_type": "execute_result"
    }
   ],
   "source": [
    "len(personas) #3 elementos, que son los pesos, las alturas y los colores de pelo"
   ]
  },
  {
   "cell_type": "markdown",
   "metadata": {},
   "source": [
    "11. Crea una tupla `etiquetas` con `'peso'`, `'altura'`, y `'color_pelo'`."
   ]
  },
  {
   "cell_type": "code",
   "execution_count": 23,
   "metadata": {},
   "outputs": [
    {
     "data": {
      "text/plain": [
       "(61, 1.54, 'pelo marrón')"
      ]
     },
     "execution_count": 23,
     "metadata": {},
     "output_type": "execute_result"
    }
   ],
   "source": [
    "etiquetas=peso, altura, color_pelo\n",
    "etiquetas"
   ]
  },
  {
   "cell_type": "markdown",
   "metadata": {},
   "source": [
    "12. Crea al zip de `etiquetas`, `persona1`, y `persona2`, llamado \"todo\"."
   ]
  },
  {
   "cell_type": "code",
   "execution_count": 24,
   "metadata": {},
   "outputs": [
    {
     "data": {
      "text/plain": [
       "[(61, 61, 68),\n",
       " (1.54, 1.54, 1.65),\n",
       " ('pelo marrón', 'pelo marrón', 'pelo rubio')]"
      ]
     },
     "execution_count": 24,
     "metadata": {},
     "output_type": "execute_result"
    }
   ],
   "source": [
    "todo=list(zip(etiquetas, persona1, persona2))\n",
    "todo"
   ]
  },
  {
   "cell_type": "markdown",
   "metadata": {},
   "source": [
    "- Manipular zips\n",
    "\n",
    "  13. Ordena las propiedades de la variable `personas` alfabéticamente. ¿Puedes? ¿Por qué?"
   ]
  },
  {
   "cell_type": "code",
   "execution_count": 27,
   "metadata": {},
   "outputs": [
    {
     "name": "stdout",
     "output_type": "stream",
     "text": [
      "[(61, 68), (1.54, 1.65), ('pelo marrón', 'pelo rubio')]\n"
     ]
    },
    {
     "data": {
      "text/plain": [
       "<function list.sort(*, key=None, reverse=False)>"
      ]
     },
     "execution_count": 27,
     "metadata": {},
     "output_type": "execute_result"
    }
   ],
   "source": [
    "print(personas)\n",
    "personas.sort #no se puede ordenar un zip"
   ]
  }
 ],
 "metadata": {
  "kernelspec": {
   "display_name": "Python 3 (ipykernel)",
   "language": "python",
   "name": "python3"
  },
  "language_info": {
   "codemirror_mode": {
    "name": "ipython",
    "version": 3
   },
   "file_extension": ".py",
   "mimetype": "text/x-python",
   "name": "python",
   "nbconvert_exporter": "python",
   "pygments_lexer": "ipython3",
   "version": "3.9.7"
  },
  "toc": {
   "base_numbering": 1,
   "nav_menu": {},
   "number_sections": true,
   "sideBar": true,
   "skip_h1_title": false,
   "title_cell": "Table of Contents",
   "title_sidebar": "Contents",
   "toc_cell": true,
   "toc_position": {},
   "toc_section_display": true,
   "toc_window_display": true
  },
  "vscode": {
   "interpreter": {
    "hash": "8560ba40f25f8debc3b21cfdc72602d7855270eb253b25380125fbd9b6cd3418"
   }
  }
 },
 "nbformat": 4,
 "nbformat_minor": 2
}
