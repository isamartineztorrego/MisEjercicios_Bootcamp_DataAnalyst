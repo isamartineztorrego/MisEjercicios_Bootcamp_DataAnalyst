{
 "cells": [
  {
   "cell_type": "markdown",
   "metadata": {},
   "source": [
    "# Ejercicios"
   ]
  },
  {
   "cell_type": "markdown",
   "metadata": {},
   "source": [
    "1. Usando la siguiente lista: \n",
    "    ```python\n",
    "    temperaturas = [2,45,67,23, 45,66,12,1,34,67,99,98,67,64, 44, 100]\n",
    "    ```\n",
    "\n",
    "    Crea tres listas nuevas, donde: \n",
    "\n",
    "    - En la primera tengamos temperaturas entre 0 - 10, llama a la nueva lista `bajas_temp`.\n",
    "\n",
    "    - En la segunda tengamos temperaturas entre 11- 20, llama a la nueva lista `medias_temp`.\n",
    "\n",
    "    - En la tercera tengamos temperaturas por encima de 20, llama a la nueva lista `altas_temp`"
   ]
  },
  {
   "cell_type": "code",
   "execution_count": 1,
   "metadata": {},
   "outputs": [
    {
     "name": "stdout",
     "output_type": "stream",
     "text": [
      "[2, 45, 67, 23, 45, 66, 12, 1, 34, 67, 99, 98, 67, 64, 44, 100]\n",
      "[1, 2, 12, 23, 34, 44, 45, 45, 64, 66, 67, 67, 67, 98, 99, 100]\n",
      "[1, 2]\n",
      "[12]\n",
      "[23, 34, 44, 45, 45, 64, 66, 67, 67, 67, 98, 99, 100]\n",
      "[[1, 2]]\n",
      "[[12]]\n",
      "[[23, 34, 44, 45, 45, 64, 66, 67, 67, 67, 98, 99, 100]]\n",
      "[1, 2]\n",
      "[12]\n",
      "[23, 34, 44, 45, 45, 64, 66, 67, 67, 67, 98, 99, 100]\n"
     ]
    }
   ],
   "source": [
    "temperaturas = [2,45,67,23, 45,66,12,1,34,67,99,98,67,64, 44, 100]\n",
    "print(temperaturas)\n",
    "bajas = []\n",
    "medias = []\n",
    "altas =[]\n",
    "\n",
    "temperaturas.sort()\n",
    "print(temperaturas)\n",
    "\n",
    "primer_tramo = temperaturas[0:2]\n",
    "print(primer_tramo)\n",
    "segundo_tramo = [temperaturas[2]]\n",
    "print(segundo_tramo)\n",
    "tercer_tramo = temperaturas[3:16]\n",
    "print(tercer_tramo)\n",
    "\n",
    "bajas.append(primer_tramo)\n",
    "print(bajas)\n",
    "medias.append(segundo_tramo)\n",
    "print(medias)\n",
    "altas.append(tercer_tramo)\n",
    "print(altas)\n",
    "\n",
    "bajas = bajas[0]\n",
    "print(bajas)\n",
    "medias = medias[0]\n",
    "print(medias)\n",
    "altas = altas[0]\n",
    "print(altas)"
   ]
  },
  {
   "cell_type": "code",
   "execution_count": 2,
   "metadata": {},
   "outputs": [
    {
     "name": "stdout",
     "output_type": "stream",
     "text": [
      "[2, 1]\n",
      "[12]\n",
      "[45, 67, 23, 45, 66, 34, 67, 99, 98, 67, 64, 44, 100]\n"
     ]
    }
   ],
   "source": [
    "temperaturas = [2,45,67,23, 45,66,12,1,34,67,99,98,67,64, 44, 100]\n",
    "bajas_temp = []\n",
    "medias_temp = []\n",
    "altas_temp =[]\n",
    "\n",
    "for temp in temperaturas:\n",
    "    if temp < 11:\n",
    "        bajas_temp.append(temp)\n",
    "    elif temp >= 11 and temp < 20:\n",
    "        medias_temp.append(temp)\n",
    "    else:\n",
    "        altas_temp.append(temp)\n",
    "\n",
    "print(bajas_temp)\n",
    "print(medias_temp)\n",
    "print(altas_temp)"
   ]
  },
  {
   "cell_type": "markdown",
   "metadata": {},
   "source": [
    "2. Las temperaturas están grados centígrados. Para cada una de las listas creadas en el ejercicio anterior, convertid las temperaturas a grados fahrenheit\n",
    "\n",
    "    ```\n",
    "    # la relacion de grados celsius y fahrenheit es:\n",
    "    (0 °C × 9 / 5) + 32 = 32 °F\n",
    "    ```"
   ]
  },
  {
   "cell_type": "code",
   "execution_count": 10,
   "metadata": {},
   "outputs": [
    {
     "name": "stdout",
     "output_type": "stream",
     "text": [
      "Lista de bajas temperaturas: [1, 2]\n",
      "Lista de medias temperaturas: [12]\n",
      "Lista de altas temperaturas: [23, 34, 44, 45, 45, 64, 66, 67, 67, 67, 98, 99, 100]\n",
      "Estas son las temp bajas en Fahrenheit [33.8, 35.6]\n",
      "Estas son las temp medias en Fahrenheit [35.6]\n",
      "Estas son las temp altas en Fahrenheit [73.4, 93.2, 111.2, 113.0, 113.0, 147.2, 150.8, 152.6, 152.6, 152.6, 208.4, 210.2, 212.0]\n"
     ]
    }
   ],
   "source": [
    "print(\"Lista de bajas temperaturas:\", bajas_temp)\n",
    "print(\"Lista de medias temperaturas:\", medias_temp)\n",
    "print(\"Lista de altas temperaturas:\", altas_temp)\n",
    "\n",
    "bajas_temp_far = []\n",
    "medias_temp_far = []\n",
    "altas_temp_far = []\n",
    "\n",
    "for celsius in bajas_temp:\n",
    "    far_bajas = (celsius*9/5)+32\n",
    "    bajas_temp_far.append(far_bajas)\n",
    "\n",
    "for celsisus in medias_temp:\n",
    "    far_medias = (celsius*9/5)+32\n",
    "    medias_temp_far.append(far_medias)\n",
    "\n",
    "for celsius in altas_temp:\n",
    "    far_altas = (celsius*9/5)+32\n",
    "    altas_temp_far.append(far_altas)\n",
    "    \n",
    "print(\"Estas son las temp bajas en Fahrenheit\", bajas_temp_far)\n",
    "print(\"Estas son las temp medias en Fahrenheit\", medias_temp_far)\n",
    "print(\"Estas son las temp altas en Fahrenheit\", altas_temp_far)"
   ]
  },
  {
   "cell_type": "code",
   "execution_count": 4,
   "metadata": {},
   "outputs": [
    {
     "name": "stdout",
     "output_type": "stream",
     "text": [
      "([2, 1], [12], [45, 67, 23, 45, 66, 34, 67, 99, 98, 67, 64, 44, 100])\n"
     ]
    }
   ],
   "source": [
    "# otra forma, más corta, sería:\n",
    "todas = bajas_temp.copy(), medias_temp.copy(), altas_temp.copy()\n",
    "print(todas)\n",
    "\n",
    "for lista in todas:\n",
    "    for indice in range(len(lista)):\n",
    "        lista[indice] = (lista[indice]*9/5)+32"
   ]
  },
  {
   "cell_type": "markdown",
   "metadata": {},
   "source": [
    "3. Define e imprime un rango de 0 a 6 (excluido)."
   ]
  },
  {
   "cell_type": "code",
   "execution_count": 12,
   "metadata": {},
   "outputs": [
    {
     "name": "stdout",
     "output_type": "stream",
     "text": [
      "range(0, 6)\n",
      "0\n",
      "1\n",
      "2\n",
      "3\n",
      "4\n",
      "5\n"
     ]
    }
   ],
   "source": [
    "rango1 = range(0,6)\n",
    "print(rango1)\n",
    "\n",
    "# o\n",
    "for x in range(0,6):\n",
    "    print(x)"
   ]
  },
  {
   "cell_type": "markdown",
   "metadata": {},
   "source": [
    "4. Define e imprime un rango de 3 a 6 ambos incluidos."
   ]
  },
  {
   "cell_type": "code",
   "execution_count": 13,
   "metadata": {},
   "outputs": [
    {
     "name": "stdout",
     "output_type": "stream",
     "text": [
      "range(3, 7)\n",
      "3\n",
      "4\n",
      "5\n",
      "6\n"
     ]
    }
   ],
   "source": [
    "rango2 = range(3,7)\n",
    "print(rango2)\n",
    "\n",
    "for y in range(3,7):\n",
    "    print(y)"
   ]
  },
  {
   "cell_type": "markdown",
   "metadata": {},
   "source": [
    "5. Define e imprime un rango de 5 a 9 ambos excluidos."
   ]
  },
  {
   "cell_type": "code",
   "execution_count": 14,
   "metadata": {},
   "outputs": [
    {
     "name": "stdout",
     "output_type": "stream",
     "text": [
      "range(6, 9)\n",
      "6\n",
      "7\n",
      "8\n"
     ]
    }
   ],
   "source": [
    "rango3 = range(6,9)\n",
    "print(rango3)\n",
    "\n",
    "for z in range(6,9):\n",
    "    print(z)\n"
   ]
  },
  {
   "cell_type": "markdown",
   "metadata": {},
   "source": [
    "6. Define e imprime un rango de 3 números que empiece en 2."
   ]
  },
  {
   "cell_type": "code",
   "execution_count": 15,
   "metadata": {},
   "outputs": [
    {
     "name": "stdout",
     "output_type": "stream",
     "text": [
      "range(2, 5)\n"
     ]
    }
   ],
   "source": [
    "rango4 = range(2,5)\n",
    "print(rango4)"
   ]
  },
  {
   "cell_type": "markdown",
   "metadata": {},
   "source": [
    "7. Define e imprime un rango que empiece en 2, aumentando cada paso por 3, que pare antes de llegar al número 13."
   ]
  },
  {
   "cell_type": "code",
   "execution_count": 16,
   "metadata": {},
   "outputs": [
    {
     "name": "stdout",
     "output_type": "stream",
     "text": [
      "range(2, 13, 3)\n",
      "2\n",
      "5\n",
      "8\n",
      "11\n"
     ]
    }
   ],
   "source": [
    "rango5 = range(2,13,3)\n",
    "print(rango5)\n",
    "\n",
    "for a in range(2, 13, 3):\n",
    "    print(a)"
   ]
  },
  {
   "cell_type": "markdown",
   "metadata": {},
   "source": [
    "8. Define e imprime un rango con todos los valores impares que hay hasta 10."
   ]
  },
  {
   "cell_type": "code",
   "execution_count": 17,
   "metadata": {},
   "outputs": [
    {
     "name": "stdout",
     "output_type": "stream",
     "text": [
      "1\n",
      "3\n",
      "5\n",
      "7\n",
      "9\n"
     ]
    }
   ],
   "source": [
    "for b in range(1, 11, 2):\n",
    "    print(b)"
   ]
  },
  {
   "cell_type": "markdown",
   "metadata": {},
   "source": [
    "9. Crea una lista nueva donde tengamos los números de la lista `temperaturas` elevados al cuadrado. "
   ]
  },
  {
   "cell_type": "code",
   "execution_count": 18,
   "metadata": {},
   "outputs": [
    {
     "name": "stdout",
     "output_type": "stream",
     "text": [
      "[1, 2, 12, 23, 34, 44, 45, 45, 64, 66, 67, 67, 67, 98, 99, 100]\n",
      "Lista de los grados al cuadrado: [1, 4, 144, 529, 1156, 1936, 2025, 2025, 4096, 4356, 4489, 4489, 4489, 9604, 9801, 10000]\n"
     ]
    }
   ],
   "source": [
    "print(temperaturas)\n",
    "cuadrados = []\n",
    "\n",
    "for grados in temperaturas:\n",
    "    cuadrados.append(grados**2)\n",
    "\n",
    "print(\"Lista de los grados al cuadrado:\", cuadrados)"
   ]
  },
  {
   "cell_type": "code",
   "execution_count": 7,
   "metadata": {},
   "outputs": [
    {
     "name": "stdout",
     "output_type": "stream",
     "text": [
      "[2, 45, 67, 23, 45, 66, 12, 1, 34, 67, 99, 98, 67, 64, 44, 100]\n",
      "[12769.0, 23286.76, 5387.56, 12769.0, 22740.640000000003, 8686.24, 23286.76, 44184.03999999999, 43430.560000000005, 23286.76, 21667.839999999997, 12365.44, 44944.0]\n"
     ]
    }
   ],
   "source": [
    "# una forma más corta sería:\n",
    "print(temperaturas)\n",
    "\n",
    "lista_cuadrado = [i**2 for i in lista]\n",
    "print(lista_cuadrado)"
   ]
  },
  {
   "cell_type": "markdown",
   "metadata": {},
   "source": [
    "10. Crea una lista nueva donde tengamos el resto de la división de cada uno de los números entre 2. "
   ]
  },
  {
   "cell_type": "code",
   "execution_count": 9,
   "metadata": {},
   "outputs": [
    {
     "name": "stdout",
     "output_type": "stream",
     "text": [
      "[2, 45, 67, 23, 45, 66, 12, 1, 34, 67, 99, 98, 67, 64, 44, 100]\n",
      "[0, 1, 1, 1, 1, 0, 0, 1, 0, 1, 1, 0, 1, 0, 0, 0]\n"
     ]
    }
   ],
   "source": [
    "print(temperaturas)\n",
    "\n",
    "lista_restos = []\n",
    "\n",
    "for i in temperaturas:\n",
    "    resto = i%2\n",
    "    lista_restos.append(resto)\n",
    "\n",
    "print(lista_restos)"
   ]
  },
  {
   "cell_type": "markdown",
   "metadata": {},
   "source": [
    "11. Crea una lista nueva donde tengamos solo los elementos pares de la lista `temperaturas`. "
   ]
  },
  {
   "cell_type": "code",
   "execution_count": 10,
   "metadata": {},
   "outputs": [
    {
     "name": "stdout",
     "output_type": "stream",
     "text": [
      "[2, 45, 67, 23, 45, 66, 12, 1, 34, 67, 99, 98, 67, 64, 44, 100]\n",
      "[2, 66, 12, 34, 98, 64, 44, 100]\n"
     ]
    }
   ],
   "source": [
    "print(temperaturas)\n",
    "lista_pares = []\n",
    "\n",
    "for i in temperaturas:\n",
    "    if i%2 == 0:\n",
    "        lista_pares.append(i)\n",
    "\n",
    "print(lista_pares)\n"
   ]
  },
  {
   "cell_type": "code",
   "execution_count": 11,
   "metadata": {},
   "outputs": [
    {
     "name": "stdout",
     "output_type": "stream",
     "text": [
      "[2, 66, 12, 34, 98, 64, 44, 100]\n"
     ]
    }
   ],
   "source": [
    "# otra forma más corta sería:\n",
    "\n",
    "lista_pares = [i for i in temperaturas if i%2 ==0]\n",
    "print(lista_pares)"
   ]
  },
  {
   "cell_type": "markdown",
   "metadata": {},
   "source": [
    "12. Crea una lista nueva donde tengamos solo los elementos que sean menores que 50."
   ]
  },
  {
   "cell_type": "code",
   "execution_count": 12,
   "metadata": {},
   "outputs": [
    {
     "name": "stdout",
     "output_type": "stream",
     "text": [
      "[2, 45, 67, 23, 45, 66, 12, 1, 34, 67, 99, 98, 67, 64, 44, 100]\n",
      "[2, 45, 23, 45, 12, 1, 34, 44]\n"
     ]
    }
   ],
   "source": [
    "print(temperaturas)\n",
    "\n",
    "lista_menores = []\n",
    "\n",
    "for i in temperaturas:\n",
    "    if i < 50:\n",
    "        lista_menores.append(i)\n",
    "\n",
    "print(lista_menores)"
   ]
  },
  {
   "cell_type": "code",
   "execution_count": 13,
   "metadata": {},
   "outputs": [
    {
     "name": "stdout",
     "output_type": "stream",
     "text": [
      "[2, 45, 23, 45, 12, 1, 34, 44]\n"
     ]
    }
   ],
   "source": [
    "lista_menores2 = [i for i in temperaturas if i < 50]\n",
    "print(lista_menores2)"
   ]
  },
  {
   "cell_type": "markdown",
   "metadata": {},
   "source": [
    "13. Crea una lista donde tengamos los valores \"par\" e \"impar\" en función de los valores de la lista original. La lista resultante tiene que ser como la que indicamos a continuación: \n",
    "\n",
    "    ```python\n",
    "    lista_strings = [\"par\",\"impar\",\"impar\",\"impar\", \"impar\",\"par\",\"par\",\"impar\",\"par\",\"impar\",\"impar\",\"par\",\"impar\",\"par\", \"par\", \"par\"]\n",
    "    ```"
   ]
  },
  {
   "cell_type": "code",
   "execution_count": 14,
   "metadata": {},
   "outputs": [
    {
     "name": "stdout",
     "output_type": "stream",
     "text": [
      "[2, 45, 67, 23, 45, 66, 12, 1, 34, 67, 99, 98, 67, 64, 44, 100]\n",
      "['par', 'impar', 'impar', 'impar', 'impar', 'par', 'par', 'impar', 'par', 'impar', 'impar', 'par', 'impar', 'par', 'par', 'par']\n"
     ]
    }
   ],
   "source": [
    "print(temperaturas)\n",
    "\n",
    "par_impar = []\n",
    "\n",
    "for i in temperaturas:\n",
    "    if i%2 == 0:\n",
    "        par_impar.append('par')\n",
    "    else:\n",
    "        par_impar.append('impar')\n",
    "\n",
    "print(par_impar)"
   ]
  },
  {
   "cell_type": "code",
   "execution_count": 16,
   "metadata": {},
   "outputs": [
    {
     "name": "stdout",
     "output_type": "stream",
     "text": [
      "['par', 'impar', 'impar', 'impar', 'impar', 'par', 'par', 'impar', 'par', 'impar', 'impar', 'par', 'impar', 'par', 'par', 'par']\n"
     ]
    }
   ],
   "source": [
    "# otra forma más corta sería:\n",
    "par_impar2 = ['par' if i%2 ==0 else 'impar' for i in temperaturas]\n",
    "print(par_impar2)"
   ]
  },
  {
   "cell_type": "markdown",
   "metadata": {},
   "source": [
    "14. Pide al usuario un número entero positivo y suma los números pares e impares por separado hasta ese número."
   ]
  },
  {
   "cell_type": "code",
   "execution_count": 50,
   "metadata": {},
   "outputs": [
    {
     "name": "stdout",
     "output_type": "stream",
     "text": [
      "<class 'int'>\n",
      "El número elegido es 6\n",
      "Número correcto\n",
      "La suma de los pares es: 12\n",
      "La suma de los impares es: 9\n"
     ]
    }
   ],
   "source": [
    "numero_elegido = int(input(\"Elige un número\"))\n",
    "print(type(numero_elegido))\n",
    "print(f\"El número elegido es {numero_elegido}\")\n",
    "suma_pares = 0\n",
    "suma_impares = 0\n",
    "\n",
    "\n",
    "if numero_elegido <0 or type(numero_elegido) is not int:\n",
    "    print(\"Valor erróneo. Elige un número entero positivo\")\n",
    "    \n",
    "else:\n",
    "    print(\"Número correcto\")\n",
    "\n",
    "for i in range(1,numero_elegido +1):\n",
    "    if i%2 == 0 and suma_pares <= numero_elegido:\n",
    "        suma_pares += i\n",
    "\n",
    "    elif i%2 != 0 and suma_impares <= numero_elegido:\n",
    "        suma_impares += i\n",
    "    \n",
    "\n",
    "print(f\"La suma de los pares es: {suma_pares}\")\n",
    "print(f\"La suma de los impares es: {suma_impares}\")\n"
   ]
  },
  {
   "cell_type": "markdown",
   "metadata": {},
   "source": [
    "15. Pide al usuario ingresar una cadena y cuenta cuántas veces aparece cada vocal (a, e, i, o, u) en la cadena."
   ]
  },
  {
   "cell_type": "code",
   "execution_count": 65,
   "metadata": {},
   "outputs": [
    {
     "name": "stdout",
     "output_type": "stream",
     "text": [
      "La cadena es: hola que tal\n",
      "{'a': 2, 'e': 1, 'i': 0, 'o': 1, 'u': 1}\n"
     ]
    }
   ],
   "source": [
    "cadena = input(\"Ingresa una cadena\")\n",
    "print(f\"La cadena es: {cadena}\")\n",
    "\n",
    "vocales = {'a':0, 'e':0, 'i':0, 'o':0, 'u':0}\n",
    "\n",
    "for i in cadena:\n",
    "    if i in vocales:\n",
    "        vocales[i] +=1\n",
    "    \n",
    "print(vocales)"
   ]
  }
 ],
 "metadata": {
  "kernelspec": {
   "display_name": "Python 3 (ipykernel)",
   "language": "python",
   "name": "python3"
  },
  "language_info": {
   "codemirror_mode": {
    "name": "ipython",
    "version": 3
   },
   "file_extension": ".py",
   "mimetype": "text/x-python",
   "name": "python",
   "nbconvert_exporter": "python",
   "pygments_lexer": "ipython3",
   "version": "3.11.2"
  },
  "toc": {
   "base_numbering": 1,
   "nav_menu": {},
   "number_sections": true,
   "sideBar": true,
   "skip_h1_title": false,
   "title_cell": "Table of Contents",
   "title_sidebar": "Contents",
   "toc_cell": true,
   "toc_position": {
    "height": "calc(100% - 180px)",
    "left": "10px",
    "top": "150px",
    "width": "307.2px"
   },
   "toc_section_display": true,
   "toc_window_display": true
  },
  "vscode": {
   "interpreter": {
    "hash": "31f2aee4e71d21fbe5cf8b01ff0e069b9275f58929596ceb00d14d90e3e16cd6"
   }
  }
 },
 "nbformat": 4,
 "nbformat_minor": 2
}
