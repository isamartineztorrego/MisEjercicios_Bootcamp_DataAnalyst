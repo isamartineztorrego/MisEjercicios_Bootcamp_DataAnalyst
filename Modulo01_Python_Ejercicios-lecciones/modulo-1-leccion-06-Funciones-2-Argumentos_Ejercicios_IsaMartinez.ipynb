{
 "cells": [
  {
   "cell_type": "markdown",
   "metadata": {},
   "source": [
    "----------------------------\n",
    "# Ejercicios"
   ]
  },
  {
   "cell_type": "markdown",
   "metadata": {},
   "source": [
    "1. Crea una función que tome un número arbitrario de cadenas de texto como argumentos y devuelva una cadena de texto que sea la concatenación de todas ellas. "
   ]
  },
  {
   "cell_type": "code",
   "execution_count": 4,
   "metadata": {},
   "outputs": [
    {
     "data": {
      "text/plain": [
       "'HolaquétalmellamoIsa'"
      ]
     },
     "execution_count": 4,
     "metadata": {},
     "output_type": "execute_result"
    }
   ],
   "source": [
    "def cadenas_texto (*args):\n",
    "    devolucion=\"\"\n",
    "    for i in args:\n",
    "        devolucion+=i\n",
    "    return devolucion\n",
    "\n",
    "cadenas_texto('Hola','qué','tal','me','llamo','Isa')"
   ]
  },
  {
   "cell_type": "code",
   "execution_count": 6,
   "metadata": {},
   "outputs": [
    {
     "data": {
      "text/plain": [
       "'Hola qué tal me llamo Isa '"
      ]
     },
     "execution_count": 6,
     "metadata": {},
     "output_type": "execute_result"
    }
   ],
   "source": [
    "def cadenas_texto (*args):\n",
    "    devolucion=\"\"\n",
    "    for i in args:\n",
    "        devolucion+=i+' '#para añadir un espacio entre cada palabra\n",
    "    return devolucion\n",
    "\n",
    "cadenas_texto('Hola','qué','tal','me','llamo','Isa')"
   ]
  },
  {
   "cell_type": "markdown",
   "metadata": {},
   "source": [
    "2. Crea una función que tome un número arbitrario de argumentos y devuelva el producto de todos ellos."
   ]
  },
  {
   "cell_type": "code",
   "execution_count": 9,
   "metadata": {},
   "outputs": [
    {
     "data": {
      "text/plain": [
       "40"
      ]
     },
     "execution_count": 9,
     "metadata": {},
     "output_type": "execute_result"
    }
   ],
   "source": [
    "def multiplicacion(*args):\n",
    "    total=1\n",
    "    for i in args:\n",
    "        total*=i\n",
    "    return total\n",
    "multiplicacion(2,4,5)"
   ]
  },
  {
   "cell_type": "markdown",
   "metadata": {},
   "source": [
    "3. Crea una función que tome un número arbitrario de diccionarios como argumentos y devuelva el valor mínimo entre todos los valores de los diccionarios."
   ]
  },
  {
   "cell_type": "code",
   "execution_count": 19,
   "metadata": {},
   "outputs": [
    {
     "data": {
      "text/plain": [
       "1"
      ]
     },
     "execution_count": 19,
     "metadata": {},
     "output_type": "execute_result"
    }
   ],
   "source": [
    "def minimo(*args):\n",
    "    lista_values=[]\n",
    "    for i in args:\n",
    "        lista_values.extend(i.values())\n",
    "    return min(lista_values)\n",
    "\n",
    "dicci1={'a':1,'b':2,'c':3}\n",
    "dicci2={'d':4,'e':5,'f':6}\n",
    "minimo(dicci1, dicci2)"
   ]
  },
  {
   "cell_type": "markdown",
   "metadata": {},
   "source": [
    "4. Crea una función que tome un número arbitrario de listas y devuelva un diccionario donde las listas originales se combinan usando los índices como claves."
   ]
  },
  {
   "cell_type": "code",
   "execution_count": 21,
   "metadata": {},
   "outputs": [
    {
     "data": {
      "text/plain": [
       "{0: [1, 'a', 10], 1: [2, 'b', 20], 2: [3, 'c'], 3: ['d']}"
      ]
     },
     "execution_count": 21,
     "metadata": {},
     "output_type": "execute_result"
    }
   ],
   "source": [
    "#no lo entiendo. REPASAR\n",
    "def combinar_listas(*args):\n",
    "    resultado = {}\n",
    "    max_length = max(len(lista) for lista in args)\n",
    "    \n",
    "    for i in range(max_length):\n",
    "        resultado[i] = [lista[i] for lista in args if i < len(lista)]\n",
    "    \n",
    "    return resultado\n",
    "\n",
    "lista1 = [1, 2, 3]\n",
    "lista2 = ['a', 'b', 'c', 'd']\n",
    "lista3 = [10, 20]\n",
    "\n",
    "combinar_listas(lista1, lista2, lista3)"
   ]
  },
  {
   "cell_type": "markdown",
   "metadata": {},
   "source": [
    "5. Crea una función que tome el tipo de figura geométrica (por ejemplo, \"cuadrado\", \"triángulo\", \"círculo\") como argumento de palabra clave y los argumentos necesarios para calcular el área de esa figura. La función debe devolver el área calculada. Soluciona este ejercicio con *kwargs* Por ejemplo: \n",
    "\n",
    "    ```python\n",
    "    # esta función calcula el area de un cuadrado, para hacerlo solo necesitamos saber su lado  \n",
    "    area_figura(tipo=\"cuadrado\", lado=5)\n",
    "\n",
    "    # si quisieramos calcular la de un triángulo necesitaríamos su base y su altura, y si quisieramos calcular de un círculo necesitaríamos su radio. \n",
    "    ```\n"
   ]
  },
  {
   "cell_type": "code",
   "execution_count": 24,
   "metadata": {},
   "outputs": [],
   "source": [
    "import math\n",
    "def area(**kwargs):\n",
    "    tipo=kwargs.get('tipo')\n",
    "    if tipo =='cuadrado':\n",
    "        lado=kwargs.get('lado')\n",
    "        return lado**2\n",
    "    elif tipo =='triángulo':\n",
    "        base=kwargs.get('base')\n",
    "        altura=kwargs.get('altura')\n",
    "        return (base*altura)/2\n",
    "    elif tipo == 'círculo':\n",
    "        radio=kwargs.get('radio')\n",
    "        return (math.pi*radio**2)\n",
    "    else:\n",
    "        return None"
   ]
  },
  {
   "cell_type": "code",
   "execution_count": 25,
   "metadata": {},
   "outputs": [
    {
     "data": {
      "text/plain": [
       "64"
      ]
     },
     "execution_count": 25,
     "metadata": {},
     "output_type": "execute_result"
    }
   ],
   "source": [
    "area(tipo='cuadrado', lado=8)"
   ]
  },
  {
   "cell_type": "code",
   "execution_count": 26,
   "metadata": {},
   "outputs": [
    {
     "data": {
      "text/plain": [
       "15.0"
      ]
     },
     "execution_count": 26,
     "metadata": {},
     "output_type": "execute_result"
    }
   ],
   "source": [
    "area(tipo='triángulo', base=5, altura=6)"
   ]
  },
  {
   "cell_type": "code",
   "execution_count": 27,
   "metadata": {},
   "outputs": [
    {
     "data": {
      "text/plain": [
       "113.09733552923255"
      ]
     },
     "execution_count": 27,
     "metadata": {},
     "output_type": "execute_result"
    }
   ],
   "source": [
    "area(tipo='círculo', radio=6)"
   ]
  },
  {
   "cell_type": "markdown",
   "metadata": {},
   "source": [
    "6. Crea una función que tome argumentos de palabra clave para los ingredientes y pasos de una receta y devuelva una descripción completa de la receta. Resuelvelo con *kwargs*.  Esta función toma como entrada una serie de detalles sobre la receta, como el nombre de la receta, los ingredientes necesarios y los pasos para prepararla. Luego, la función genera y devuelve una descripción detallada de la receta en forma de cadena de texto. Los parámetros que debe recibir la función son:\n",
    "\n",
    "    - nombre_receta: Un argumento de palabra clave que representa el nombre de la receta.\n",
    "\n",
    "    - ingredientes: Un argumento de palabra clave que es un diccionario donde las claves son los nombres de los ingredientes y los valores son las cantidades necesarias de cada ingrediente.\n",
    "    \n",
    "    - pasos: Un argumento de palabra clave que contiene los pasos necesarios para preparar la receta en forma de una cadena de texto.\n",
    "\n",
    "    Al final tendremos que ver algo como esto: \n",
    "    ```python\n",
    "    '''\n",
    "    Receta: Pastel de Chocolate\n",
    "    Ingredientes:\n",
    "        - 200g de chocolate\n",
    "        - 150g de harina\n",
    "        - 100g de azúcar\n",
    "    Pasos:\n",
    "        1. Mezclar el chocolate con la harina.\n",
    "        2. Agregar el azúcar y mezclar bien.\n",
    "    '''\n",
    "    ```"
   ]
  },
  {
   "cell_type": "code",
   "execution_count": 107,
   "metadata": {},
   "outputs": [
    {
     "name": "stdout",
     "output_type": "stream",
     "text": [
      "Receta: Pastel de chocolate\n",
      "Ingredientes:\n",
      "-200gr de chocolate\n",
      "-150gr de harina\n",
      "-100gr de azúcar\n",
      "Pasos:\n",
      "1. Mezclar el chocolate con la harina.\n",
      "2. Agregar el azúcar y mezclar bien\n"
     ]
    }
   ],
   "source": [
    "def receta_detalle(**kwargs):\n",
    "    nombre_receta=kwargs.get('Receta')\n",
    "    ingredientes=kwargs.get('Ingredientes',{})\n",
    "    pasos=kwargs.get('Pasos', '')\n",
    "    receta_completa=''\n",
    "    primero = f'Receta: {nombre_receta}\\nIngredientes:\\n'\n",
    "    receta_completa +=primero\n",
    "    for k, v in ingredientes.items():\n",
    "        segundo = f'-{v} de {k}\\n'\n",
    "        receta_completa+=segundo\n",
    "    tercero = f'Pasos:\\n'\n",
    "    receta_completa+=tercero\n",
    "    cuarto = pasos\n",
    "    receta_completa+=cuarto\n",
    "    return receta_completa\n",
    "\n",
    "diccionario_receta={'Receta':'Pastel de chocolate',\n",
    "                    'Ingredientes':{'chocolate':'200gr',\n",
    "                                    'harina':'150gr',\n",
    "                                    'azúcar':'100gr'},\n",
    "                    'Pasos':'1. Mezclar el chocolate con la harina.\\n2. Agregar el azúcar y mezclar bien'}\n",
    "\n",
    "receta=receta_detalle(**diccionario_receta)\n",
    "print(receta)"
   ]
  },
  {
   "cell_type": "markdown",
   "metadata": {},
   "source": [
    "7. Crea una función que tome argumentos de palabra clave para los ingresos y gastos de una empresa y genere un informe financiero. Resyelvelo con *kwargs*. La función calcula y presenta un informe financiero simple. Este informe incluye detalles sobre los ingresos, los gastos y el balance de una entidad financiera, como una empresa o una persona. La función toma como entrada los ingresos y los gastos, y calcula el balance restando los gastos de los ingresos. Luego, genera una descripción del informe financiero en forma de cadena de texto. Los parámetros que recibe la función son: \n",
    "\n",
    "    - ingresos: Un argumento de palabra clave que representa la cantidad total de ingresos (dinero ganado) que se desea informar. Por defecto, se establece en 0 si no se proporciona ningún valor.\n",
    "\n",
    "    - gastos: Un argumento de palabra clave que representa la cantidad total de gastos (dinero gastado) que se desea informar. Por defecto, se establece en 0 si no se proporciona ningún valor.\n",
    "\n",
    "\n",
    "    Al final tendremos algo como esto:\n",
    "\n",
    "    ```python\n",
    "    '''\n",
    "    Ingresos: $50000\n",
    "    Gastos: $35000\n",
    "    Balance: $15000\n",
    "    '''"
   ]
  },
  {
   "cell_type": "code",
   "execution_count": 1,
   "metadata": {},
   "outputs": [
    {
     "name": "stdout",
     "output_type": "stream",
     "text": [
      "Ingresos: 50000€\n",
      "Gastos: 35000€\n",
      "Balance: 15000€\n"
     ]
    }
   ],
   "source": [
    "def informe(**kwargs):\n",
    "    ingresos=kwargs.get('ingresos', 0)\n",
    "    gastos=kwargs.get('gastos', 0)\n",
    "    balance=ingresos-gastos\n",
    "    resumen=f'Ingresos: {ingresos}€\\nGastos: {gastos}€\\nBalance: {balance}€'\n",
    "    return resumen\n",
    "\n",
    "informe_financiero=informe(ingresos=50000, gastos= 35000)\n",
    "print(informe_financiero)"
   ]
  }
 ],
 "metadata": {
  "kernelspec": {
   "display_name": "Python 3 (ipykernel)",
   "language": "python",
   "name": "python3"
  },
  "language_info": {
   "codemirror_mode": {
    "name": "ipython",
    "version": 3
   },
   "file_extension": ".py",
   "mimetype": "text/x-python",
   "name": "python",
   "nbconvert_exporter": "python",
   "pygments_lexer": "ipython3",
   "version": "3.9.7"
  },
  "toc": {
   "base_numbering": 1,
   "nav_menu": {},
   "number_sections": true,
   "sideBar": true,
   "skip_h1_title": false,
   "title_cell": "Table of Contents",
   "title_sidebar": "Contents",
   "toc_cell": true,
   "toc_position": {},
   "toc_section_display": true,
   "toc_window_display": true
  },
  "vscode": {
   "interpreter": {
    "hash": "31f2aee4e71d21fbe5cf8b01ff0e069b9275f58929596ceb00d14d90e3e16cd6"
   }
  }
 },
 "nbformat": 4,
 "nbformat_minor": 2
}
